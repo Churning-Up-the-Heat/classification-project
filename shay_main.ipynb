{
 "cells": [
  {
   "cell_type": "markdown",
   "metadata": {},
   "source": [
    "# Imports"
   ]
  },
  {
   "cell_type": "code",
   "execution_count": 1,
   "metadata": {},
   "outputs": [],
   "source": [
    "import acquire\n",
    "import prepare\n",
    "import encode\n",
    "import evaluate_models\n",
    "import features\n",
    "import model\n",
    "\n",
    "import pandas as pd\n",
    "pd.set_option('display.max_columns', None)\n",
    "import numpy as np\n",
    "\n",
    "import matplotlib.pyplot as plt\n",
    "import seaborn as sns\n",
    "\n",
    "from sklearn.model_selection import train_test_split\n",
    "from sklearn.preprocessing import LabelEncoder\n",
    "from sklearn.metrics import classification_report, confusion_matrix, roc_auc_score, roc_curve, precision_score\n",
    "\n",
    "from sklearn.linear_model import LogisticRegression\n",
    "from sklearn.tree import DecisionTreeClassifier\n",
    "from sklearn.ensemble import RandomForestClassifier\n",
    "from sklearn.neighbors import KNeighborsClassifier"
   ]
  },
  {
   "cell_type": "markdown",
   "metadata": {},
   "source": [
    "# Acquire"
   ]
  },
  {
   "cell_type": "code",
   "execution_count": 2,
   "metadata": {},
   "outputs": [],
   "source": [
    "telco = acquire.get_telco_data()"
   ]
  },
  {
   "cell_type": "markdown",
   "metadata": {},
   "source": [
    "# Prepare"
   ]
  },
  {
   "cell_type": "code",
   "execution_count": 3,
   "metadata": {},
   "outputs": [],
   "source": [
    "train, test, validate = prepare.prep_telco(telco, train_size=.8, seed=123)"
   ]
  },
  {
   "cell_type": "markdown",
   "metadata": {},
   "source": [
    "## Encode"
   ]
  },
  {
   "cell_type": "code",
   "execution_count": 4,
   "metadata": {},
   "outputs": [],
   "source": [
    "train, test, validate = encode.encoded_df(train, test, validate)"
   ]
  },
  {
   "cell_type": "markdown",
   "metadata": {},
   "source": [
    "# Modeling"
   ]
  },
  {
   "cell_type": "code",
   "execution_count": 5,
   "metadata": {},
   "outputs": [],
   "source": [
    "# Create a Function that returns the DF every time\n",
    "def get_clean_df(train, validate):\n",
    "    cols = ['tenure', 'contract_type_encoded', 'monthly_charges', \n",
    "            'senior_citizen', 'payment_type_encoded', 'churn_encoded',\n",
    "            'phone_lines', 'dependent_partner_grouping']\n",
    "    \n",
    "    t = train[cols]\n",
    "    v = validate[cols]\n",
    "    \n",
    "    return t, v"
   ]
  },
  {
   "cell_type": "code",
   "execution_count": 25,
   "metadata": {},
   "outputs": [],
   "source": [
    "predictions = pd.DataFrame({'actual': validate.churn_encoded})"
   ]
  },
  {
   "cell_type": "markdown",
   "metadata": {},
   "source": [
    "## Logistic Regregression"
   ]
  },
  {
   "cell_type": "markdown",
   "metadata": {},
   "source": [
    "### First Log Model"
   ]
  },
  {
   "cell_type": "code",
   "execution_count": 10,
   "metadata": {},
   "outputs": [],
   "source": [
    "t, v = get_clean_df(train, validate)"
   ]
  },
  {
   "cell_type": "code",
   "execution_count": 152,
   "metadata": {},
   "outputs": [
    {
     "data": {
      "text/plain": [
       "0.7985803016858918"
      ]
     },
     "execution_count": 152,
     "metadata": {},
     "output_type": "execute_result"
    }
   ],
   "source": [
    "cols = ['contract_type_encoded', \n",
    "        'tenure',\n",
    "        'monthly_charges']\n",
    "\n",
    "X_train, X_validate = t[cols], v[cols]\n",
    "y_train, y_validate = t.churn_encoded, v.churn_encoded\n",
    "\n",
    "log_1 = LogisticRegression().fit(X_train, y_train)\n",
    "predictions['log_1'] = log_1.predict(X_validate)\n",
    "log_1_accuracy = log_1.score(X_validate, y_validate)\n",
    "log_1_accuracy"
   ]
  },
  {
   "cell_type": "code",
   "execution_count": 44,
   "metadata": {},
   "outputs": [],
   "source": []
  },
  {
   "cell_type": "code",
   "execution_count": 45,
   "metadata": {},
   "outputs": [
    {
     "data": {
      "text/plain": [
       "0.805678793256433"
      ]
     },
     "execution_count": 45,
     "metadata": {},
     "output_type": "execute_result"
    }
   ],
   "source": []
  },
  {
   "cell_type": "markdown",
   "metadata": {},
   "source": [
    "## Decision Tree "
   ]
  },
  {
   "cell_type": "code",
   "execution_count": 46,
   "metadata": {},
   "outputs": [],
   "source": [
    "t, v = get_clean_df(train, validate)"
   ]
  },
  {
   "cell_type": "code",
   "execution_count": 153,
   "metadata": {},
   "outputs": [
    {
     "data": {
      "text/plain": [
       "0.8003549245785271"
      ]
     },
     "execution_count": 153,
     "metadata": {},
     "output_type": "execute_result"
    }
   ],
   "source": [
    "cols = ['contract_type_encoded', \n",
    "        'tenure',\n",
    "        'monthly_charges']\n",
    "\n",
    "X_train, X_validate = t[cols], v[cols]\n",
    "y_train, y_validate = t.churn_encoded, v.churn_encoded\n",
    "\n",
    "tree_1 = DecisionTreeClassifier(max_depth=4, random_state=123).fit(X_train, y_train)\n",
    "predictions['tree_1'] = tree_1.predict(X_validate)\n",
    "tree_1_accuracy = tree_1.score(X_validate, y_validate)\n",
    "tree_1_accuracy"
   ]
  },
  {
   "cell_type": "markdown",
   "metadata": {},
   "source": [
    "## Random Forest"
   ]
  },
  {
   "cell_type": "code",
   "execution_count": 137,
   "metadata": {},
   "outputs": [],
   "source": [
    "t, v = get_clean_df(train, validate)"
   ]
  },
  {
   "cell_type": "code",
   "execution_count": 146,
   "metadata": {},
   "outputs": [
    {
     "data": {
      "text/plain": [
       "0.8110026619343389"
      ]
     },
     "execution_count": 146,
     "metadata": {},
     "output_type": "execute_result"
    }
   ],
   "source": [
    "cols = ['contract_type_encoded', \n",
    "        'dependent_partner_grouping',\n",
    "        'tenure',\n",
    "        'monthly_charges']\n",
    "\n",
    "X_train, X_validate = t[cols], v[cols]\n",
    "y_train, y_validate = t.churn_encoded, v.churn_encoded\n",
    "forest_1 = RandomForestClassifier(n_estimators=100, \n",
    "                                  min_samples_leaf=5,\n",
    "                                  max_depth=6,\n",
    "                                  random_state=123).fit(X_train, y_train)\n",
    "predictions['forest_1'] = forest_1.predict(X_validate)\n",
    "forest_1_accuracy = forest_1.score(X_validate, y_validate)\n",
    "forest_1_accuracy"
   ]
  },
  {
   "cell_type": "markdown",
   "metadata": {},
   "source": [
    "## K Nearest Neighbors "
   ]
  },
  {
   "cell_type": "code",
   "execution_count": 139,
   "metadata": {},
   "outputs": [],
   "source": [
    "t, v = get_clean_df(train, validate)"
   ]
  },
  {
   "cell_type": "code",
   "execution_count": 154,
   "metadata": {},
   "outputs": [
    {
     "data": {
      "text/plain": [
       "0.8047914818101154"
      ]
     },
     "execution_count": 154,
     "metadata": {},
     "output_type": "execute_result"
    }
   ],
   "source": [
    "cols = ['contract_type_encoded', \n",
    "        'tenure',\n",
    "        'monthly_charges']\n",
    "\n",
    "X_train, X_validate = t[cols], v[cols]\n",
    "y_train, y_validate = t.churn_encoded, v.churn_encoded\n",
    "knn_1 = KNeighborsClassifier(n_neighbors=10).fit(X_train, y_train)\n",
    "predictions['knn_1'] = knn_1.predict(X_validate)\n",
    "knn_1_accuracy = knn_1.score(X_validate, y_validate)\n",
    "knn_1_accuracy"
   ]
  },
  {
   "cell_type": "markdown",
   "metadata": {},
   "source": [
    "# Evaluate"
   ]
  },
  {
   "cell_type": "markdown",
   "metadata": {},
   "source": [
    "## Accuracy"
   ]
  },
  {
   "cell_type": "code",
   "execution_count": 141,
   "metadata": {},
   "outputs": [
    {
     "name": "stdout",
     "output_type": "stream",
     "text": [
      "\n",
      "Model Accuracy Rates - \n",
      "    Logistic Regression:  0.80 \n",
      "    Decision Tree:        0.80\n",
      "    Random Forest:        0.82\n",
      "    K Nearest Neighbor    0.80\n",
      "\n"
     ]
    }
   ],
   "source": [
    "print('''\n",
    "Model Accuracy Rates - \n",
    "    Logistic Regression: {: .2f} \n",
    "    Decision Tree:       {: .2f}\n",
    "    Random Forest:       {: .2f}\n",
    "    K Nearest Neighbor   {: .2f}\n",
    "'''.format(log_1_accuracy, tree_1_accuracy, forest_1_accuracy, knn__accuracy))"
   ]
  },
  {
   "cell_type": "markdown",
   "metadata": {},
   "source": [
    "## Confusion Matrix"
   ]
  },
  {
   "cell_type": "code",
   "execution_count": null,
   "metadata": {},
   "outputs": [],
   "source": [
    "# Logistic Regression\n",
    "print(confusion_matrix(predictions.actual, log_reg_model.predict(X_validate)))"
   ]
  },
  {
   "cell_type": "code",
   "execution_count": null,
   "metadata": {},
   "outputs": [],
   "source": [
    "# Decision Tree\n",
    "print(confusion_matrix(predictions.actual, tree_model.predict(X_validate)))"
   ]
  },
  {
   "cell_type": "code",
   "execution_count": null,
   "metadata": {},
   "outputs": [],
   "source": [
    "# Random Forest\n",
    "print(confusion_matrix(predictions.actual, forest_model.predict(X_validate)))"
   ]
  },
  {
   "cell_type": "code",
   "execution_count": null,
   "metadata": {},
   "outputs": [],
   "source": [
    "# KNN\n",
    "print(confusion_matrix(predictions.actual, knn.predict(X_validate)))"
   ]
  },
  {
   "cell_type": "markdown",
   "metadata": {},
   "source": [
    "# Summaries "
   ]
  },
  {
   "cell_type": "code",
   "execution_count": null,
   "metadata": {},
   "outputs": [],
   "source": [
    "# Logistic Regression\n",
    "print(classification_report(predictions.actual, log_reg_model.predict(X_validate)))"
   ]
  },
  {
   "cell_type": "code",
   "execution_count": null,
   "metadata": {},
   "outputs": [],
   "source": [
    "print(precision_score(predictions.actual, log_reg_model.predict(X_validate)))"
   ]
  },
  {
   "cell_type": "code",
   "execution_count": null,
   "metadata": {},
   "outputs": [],
   "source": [
    "# Decision Tree\n",
    "print(classification_report(predictions.actual, tree_model.predict(X_validate)))"
   ]
  },
  {
   "cell_type": "code",
   "execution_count": null,
   "metadata": {},
   "outputs": [],
   "source": [
    "# Random Forest\n",
    "print(classification_report(predictions.actual, forest_model.predict(X_validate)))"
   ]
  },
  {
   "cell_type": "code",
   "execution_count": null,
   "metadata": {},
   "outputs": [],
   "source": [
    "# KNN\n",
    "print(classification_report(predictions.actual, knn.predict(X_validate)))"
   ]
  },
  {
   "cell_type": "code",
   "execution_count": null,
   "metadata": {},
   "outputs": [],
   "source": [
    "log_reg_model, predictions = model.create_log_reg_model(train, validate)"
   ]
  },
  {
   "cell_type": "code",
   "execution_count": null,
   "metadata": {},
   "outputs": [],
   "source": [
    "predictions.head()"
   ]
  },
  {
   "cell_type": "code",
   "execution_count": null,
   "metadata": {},
   "outputs": [],
   "source": [
    "log_reg_model.score(X_validate, y_validate)"
   ]
  }
 ],
 "metadata": {
  "kernelspec": {
   "display_name": "Python 3",
   "language": "python",
   "name": "python3"
  },
  "language_info": {
   "codemirror_mode": {
    "name": "ipython",
    "version": 3
   },
   "file_extension": ".py",
   "mimetype": "text/x-python",
   "name": "python",
   "nbconvert_exporter": "python",
   "pygments_lexer": "ipython3",
   "version": "3.7.6"
  },
  "toc-autonumbering": true
 },
 "nbformat": 4,
 "nbformat_minor": 4
}
