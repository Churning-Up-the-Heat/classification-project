{
 "cells": [
  {
   "cell_type": "markdown",
   "metadata": {},
   "source": [
    "# Imports"
   ]
  },
  {
   "cell_type": "code",
   "execution_count": 1,
   "metadata": {},
   "outputs": [],
   "source": [
    "import acquire\n",
    "import prepare\n",
    "import encode\n",
    "import features\n",
    "import model\n",
    "\n",
    "import pandas as pd\n",
    "pd.set_option('display.max_columns', None)\n",
    "import numpy as np\n",
    "\n",
    "import matplotlib.pyplot as plt\n",
    "import seaborn as sns\n",
    "\n",
    "from sklearn.model_selection import train_test_split\n",
    "from sklearn.preprocessing import LabelEncoder\n",
    "from sklearn.metrics import classification_report, confusion_matrix, recall_score\n",
    "\n",
    "from sklearn.linear_model import LogisticRegression\n",
    "from sklearn.tree import DecisionTreeClassifier\n",
    "from sklearn.ensemble import RandomForestClassifier\n",
    "from sklearn.neighbors import KNeighborsClassifier"
   ]
  },
  {
   "cell_type": "markdown",
   "metadata": {},
   "source": [
    "# Acquire"
   ]
  },
  {
   "cell_type": "code",
   "execution_count": 2,
   "metadata": {},
   "outputs": [],
   "source": [
    "telco = acquire.get_telco_data()"
   ]
  },
  {
   "cell_type": "code",
   "execution_count": 3,
   "metadata": {},
   "outputs": [
    {
     "data": {
      "text/html": [
       "<div>\n",
       "<style scoped>\n",
       "    .dataframe tbody tr th:only-of-type {\n",
       "        vertical-align: middle;\n",
       "    }\n",
       "\n",
       "    .dataframe tbody tr th {\n",
       "        vertical-align: top;\n",
       "    }\n",
       "\n",
       "    .dataframe thead th {\n",
       "        text-align: right;\n",
       "    }\n",
       "</style>\n",
       "<table border=\"1\" class=\"dataframe\">\n",
       "  <thead>\n",
       "    <tr style=\"text-align: right;\">\n",
       "      <th></th>\n",
       "      <th>payment_type_id</th>\n",
       "      <th>internet_service_type_id</th>\n",
       "      <th>contract_type_id</th>\n",
       "      <th>customer_id</th>\n",
       "      <th>gender</th>\n",
       "      <th>senior_citizen</th>\n",
       "      <th>partner</th>\n",
       "      <th>dependents</th>\n",
       "      <th>tenure</th>\n",
       "      <th>phone_service</th>\n",
       "      <th>multiple_lines</th>\n",
       "      <th>online_security</th>\n",
       "      <th>online_backup</th>\n",
       "      <th>device_protection</th>\n",
       "      <th>tech_support</th>\n",
       "      <th>streaming_tv</th>\n",
       "      <th>streaming_movies</th>\n",
       "      <th>paperless_billing</th>\n",
       "      <th>monthly_charges</th>\n",
       "      <th>total_charges</th>\n",
       "      <th>churn</th>\n",
       "      <th>contract_type</th>\n",
       "      <th>internet_service_type</th>\n",
       "      <th>payment_type</th>\n",
       "    </tr>\n",
       "  </thead>\n",
       "  <tbody>\n",
       "    <tr>\n",
       "      <th>0</th>\n",
       "      <td>2</td>\n",
       "      <td>1</td>\n",
       "      <td>1</td>\n",
       "      <td>0003-MKNFE</td>\n",
       "      <td>Male</td>\n",
       "      <td>0</td>\n",
       "      <td>No</td>\n",
       "      <td>No</td>\n",
       "      <td>9</td>\n",
       "      <td>Yes</td>\n",
       "      <td>Yes</td>\n",
       "      <td>No</td>\n",
       "      <td>No</td>\n",
       "      <td>No</td>\n",
       "      <td>No</td>\n",
       "      <td>No</td>\n",
       "      <td>Yes</td>\n",
       "      <td>No</td>\n",
       "      <td>59.9</td>\n",
       "      <td>542.4</td>\n",
       "      <td>No</td>\n",
       "      <td>Month-to-month</td>\n",
       "      <td>DSL</td>\n",
       "      <td>Mailed check</td>\n",
       "    </tr>\n",
       "    <tr>\n",
       "      <th>1</th>\n",
       "      <td>4</td>\n",
       "      <td>1</td>\n",
       "      <td>1</td>\n",
       "      <td>0013-MHZWF</td>\n",
       "      <td>Female</td>\n",
       "      <td>0</td>\n",
       "      <td>No</td>\n",
       "      <td>Yes</td>\n",
       "      <td>9</td>\n",
       "      <td>Yes</td>\n",
       "      <td>No</td>\n",
       "      <td>No</td>\n",
       "      <td>No</td>\n",
       "      <td>No</td>\n",
       "      <td>Yes</td>\n",
       "      <td>Yes</td>\n",
       "      <td>Yes</td>\n",
       "      <td>Yes</td>\n",
       "      <td>69.4</td>\n",
       "      <td>571.45</td>\n",
       "      <td>No</td>\n",
       "      <td>Month-to-month</td>\n",
       "      <td>DSL</td>\n",
       "      <td>Credit card (automatic)</td>\n",
       "    </tr>\n",
       "    <tr>\n",
       "      <th>2</th>\n",
       "      <td>1</td>\n",
       "      <td>1</td>\n",
       "      <td>1</td>\n",
       "      <td>0015-UOCOJ</td>\n",
       "      <td>Female</td>\n",
       "      <td>1</td>\n",
       "      <td>No</td>\n",
       "      <td>No</td>\n",
       "      <td>7</td>\n",
       "      <td>Yes</td>\n",
       "      <td>No</td>\n",
       "      <td>Yes</td>\n",
       "      <td>No</td>\n",
       "      <td>No</td>\n",
       "      <td>No</td>\n",
       "      <td>No</td>\n",
       "      <td>No</td>\n",
       "      <td>Yes</td>\n",
       "      <td>48.2</td>\n",
       "      <td>340.35</td>\n",
       "      <td>No</td>\n",
       "      <td>Month-to-month</td>\n",
       "      <td>DSL</td>\n",
       "      <td>Electronic check</td>\n",
       "    </tr>\n",
       "    <tr>\n",
       "      <th>3</th>\n",
       "      <td>1</td>\n",
       "      <td>1</td>\n",
       "      <td>1</td>\n",
       "      <td>0023-HGHWL</td>\n",
       "      <td>Male</td>\n",
       "      <td>1</td>\n",
       "      <td>No</td>\n",
       "      <td>No</td>\n",
       "      <td>1</td>\n",
       "      <td>No</td>\n",
       "      <td>No phone service</td>\n",
       "      <td>No</td>\n",
       "      <td>No</td>\n",
       "      <td>No</td>\n",
       "      <td>No</td>\n",
       "      <td>No</td>\n",
       "      <td>No</td>\n",
       "      <td>Yes</td>\n",
       "      <td>25.1</td>\n",
       "      <td>25.1</td>\n",
       "      <td>Yes</td>\n",
       "      <td>Month-to-month</td>\n",
       "      <td>DSL</td>\n",
       "      <td>Electronic check</td>\n",
       "    </tr>\n",
       "    <tr>\n",
       "      <th>4</th>\n",
       "      <td>3</td>\n",
       "      <td>1</td>\n",
       "      <td>1</td>\n",
       "      <td>0032-PGELS</td>\n",
       "      <td>Female</td>\n",
       "      <td>0</td>\n",
       "      <td>Yes</td>\n",
       "      <td>Yes</td>\n",
       "      <td>1</td>\n",
       "      <td>No</td>\n",
       "      <td>No phone service</td>\n",
       "      <td>Yes</td>\n",
       "      <td>No</td>\n",
       "      <td>No</td>\n",
       "      <td>No</td>\n",
       "      <td>No</td>\n",
       "      <td>No</td>\n",
       "      <td>No</td>\n",
       "      <td>30.5</td>\n",
       "      <td>30.5</td>\n",
       "      <td>Yes</td>\n",
       "      <td>Month-to-month</td>\n",
       "      <td>DSL</td>\n",
       "      <td>Bank transfer (automatic)</td>\n",
       "    </tr>\n",
       "  </tbody>\n",
       "</table>\n",
       "</div>"
      ],
      "text/plain": [
       "   payment_type_id  internet_service_type_id  contract_type_id customer_id  \\\n",
       "0                2                         1                 1  0003-MKNFE   \n",
       "1                4                         1                 1  0013-MHZWF   \n",
       "2                1                         1                 1  0015-UOCOJ   \n",
       "3                1                         1                 1  0023-HGHWL   \n",
       "4                3                         1                 1  0032-PGELS   \n",
       "\n",
       "   gender  senior_citizen partner dependents  tenure phone_service  \\\n",
       "0    Male               0      No         No       9           Yes   \n",
       "1  Female               0      No        Yes       9           Yes   \n",
       "2  Female               1      No         No       7           Yes   \n",
       "3    Male               1      No         No       1            No   \n",
       "4  Female               0     Yes        Yes       1            No   \n",
       "\n",
       "     multiple_lines online_security online_backup device_protection  \\\n",
       "0               Yes              No            No                No   \n",
       "1                No              No            No                No   \n",
       "2                No             Yes            No                No   \n",
       "3  No phone service              No            No                No   \n",
       "4  No phone service             Yes            No                No   \n",
       "\n",
       "  tech_support streaming_tv streaming_movies paperless_billing  \\\n",
       "0           No           No              Yes                No   \n",
       "1          Yes          Yes              Yes               Yes   \n",
       "2           No           No               No               Yes   \n",
       "3           No           No               No               Yes   \n",
       "4           No           No               No                No   \n",
       "\n",
       "   monthly_charges total_charges churn   contract_type internet_service_type  \\\n",
       "0             59.9         542.4    No  Month-to-month                   DSL   \n",
       "1             69.4        571.45    No  Month-to-month                   DSL   \n",
       "2             48.2        340.35    No  Month-to-month                   DSL   \n",
       "3             25.1          25.1   Yes  Month-to-month                   DSL   \n",
       "4             30.5          30.5   Yes  Month-to-month                   DSL   \n",
       "\n",
       "                payment_type  \n",
       "0               Mailed check  \n",
       "1    Credit card (automatic)  \n",
       "2           Electronic check  \n",
       "3           Electronic check  \n",
       "4  Bank transfer (automatic)  "
      ]
     },
     "execution_count": 3,
     "metadata": {},
     "output_type": "execute_result"
    }
   ],
   "source": [
    "telco.head()"
   ]
  },
  {
   "cell_type": "markdown",
   "metadata": {},
   "source": [
    "# Prepare"
   ]
  },
  {
   "cell_type": "code",
   "execution_count": 4,
   "metadata": {},
   "outputs": [],
   "source": [
    "train, test, validate = prepare.prep_telco(telco, train_size=.8, seed=123)"
   ]
  },
  {
   "cell_type": "markdown",
   "metadata": {},
   "source": [
    "# Add Features From Feature Engineering"
   ]
  },
  {
   "cell_type": "code",
   "execution_count": 5,
   "metadata": {},
   "outputs": [],
   "source": [
    "train, test, validate = features.auto_payment(train, test, validate)"
   ]
  },
  {
   "cell_type": "code",
   "execution_count": 6,
   "metadata": {},
   "outputs": [],
   "source": [
    "train, test, validate = features.has_internet(train, test, validate)"
   ]
  },
  {
   "cell_type": "markdown",
   "metadata": {},
   "source": [
    "## Encode"
   ]
  },
  {
   "cell_type": "code",
   "execution_count": 7,
   "metadata": {},
   "outputs": [],
   "source": [
    "encoded_train, encoded_test, encoded_validate = encode.create_encoded_dfs(train, test, validate)"
   ]
  },
  {
   "cell_type": "markdown",
   "metadata": {},
   "source": [
    "# Modeling"
   ]
  },
  {
   "cell_type": "code",
   "execution_count": 8,
   "metadata": {},
   "outputs": [],
   "source": [
    "# Create a Function that returns the DF every time\n",
    "def get_clean_df(train, validate):\n",
    "    cols = ['tenure', 'contract_type', 'monthly_charges', \n",
    "            'senior_citizen', 'payment_type', 'churn',\n",
    "            'phone_lines', 'dependent_partner_grouping',\n",
    "            'partner', 'dependents', 'automatic_payment',\n",
    "            'tenure_years', 'online_security', 'tech_support',\n",
    "            'has_internet', 'internet_service_type', 'streaming_tv',\n",
    "            'streaming_movies', 'device_protection']\n",
    "    \n",
    "    t = train[cols]\n",
    "    v = validate[cols]\n",
    "    \n",
    "    return t, v"
   ]
  },
  {
   "cell_type": "code",
   "execution_count": 9,
   "metadata": {},
   "outputs": [],
   "source": [
    "predictions = pd.DataFrame({'actual': encoded_validate.churn})"
   ]
  },
  {
   "cell_type": "markdown",
   "metadata": {},
   "source": [
    "## Logistic Regregression"
   ]
  },
  {
   "cell_type": "markdown",
   "metadata": {},
   "source": [
    "### First Log Model"
   ]
  },
  {
   "cell_type": "code",
   "execution_count": 10,
   "metadata": {},
   "outputs": [],
   "source": [
    "t, v = get_clean_df(encoded_train, encoded_validate)"
   ]
  },
  {
   "cell_type": "code",
   "execution_count": 11,
   "metadata": {},
   "outputs": [],
   "source": [
    "cols = ['contract_type', \n",
    "        'tenure',\n",
    "        'monthly_charges',\n",
    "        'automatic_payment']\n",
    "\n",
    "X_train, X_validate = t[cols], v[cols]\n",
    "y_train, y_validate = t.churn, v.churn\n",
    "\n",
    "log_1 = LogisticRegression().fit(X_train, y_train)\n",
    "predictions['log_1'] = log_1.predict(X_validate)\n",
    "log_1_recall = recall_score(predictions.actual, predictions.log_1)\n",
    "log_1_accuracy = log_1.score(X_validate, y_validate)"
   ]
  },
  {
   "cell_type": "markdown",
   "metadata": {},
   "source": [
    "## Decision Tree "
   ]
  },
  {
   "cell_type": "code",
   "execution_count": 12,
   "metadata": {},
   "outputs": [],
   "source": [
    "t, v = get_clean_df(encoded_train, encoded_validate)"
   ]
  },
  {
   "cell_type": "code",
   "execution_count": 13,
   "metadata": {},
   "outputs": [],
   "source": [
    "cols = ['contract_type', \n",
    "        'tenure',\n",
    "        'monthly_charges',\n",
    "        'automatic_payment']\n",
    "\n",
    "X_train, X_validate = t[cols], v[cols]\n",
    "y_train, y_validate = t.churn, v.churn\n",
    "\n",
    "tree_1 = DecisionTreeClassifier(max_depth=4, random_state=123).fit(X_train, y_train)\n",
    "predictions['tree_1'] = tree_1.predict(X_validate)\n",
    "tree_1_recall = recall_score(predictions.actual, predictions.tree_1)\n",
    "tree_1_accuracy = tree_1.score(X_validate, y_validate)"
   ]
  },
  {
   "cell_type": "markdown",
   "metadata": {},
   "source": [
    "## Random Forest"
   ]
  },
  {
   "cell_type": "code",
   "execution_count": 14,
   "metadata": {},
   "outputs": [],
   "source": [
    "t, v = get_clean_df(encoded_train, encoded_validate)"
   ]
  },
  {
   "cell_type": "code",
   "execution_count": 15,
   "metadata": {},
   "outputs": [
    {
     "data": {
      "text/plain": [
       "0.475177304964539"
      ]
     },
     "execution_count": 15,
     "metadata": {},
     "output_type": "execute_result"
    }
   ],
   "source": [
    "cols = ['contract_type', \n",
    "        'dependent_partner_grouping',\n",
    "        'tenure',\n",
    "        'monthly_charges',\n",
    "        'automatic_payment']\n",
    "\n",
    "X_train, X_validate = t[cols], v[cols]\n",
    "y_train, y_validate = t.churn, v.churn\n",
    "forest_1 = RandomForestClassifier(n_estimators=100, \n",
    "                                  min_samples_leaf=5,\n",
    "                                  max_depth=6,\n",
    "                                  random_state=123).fit(X_train, y_train)\n",
    "predictions['forest_1'] = forest_1.predict(X_validate)\n",
    "recall_score(predictions.actual, predictions.forest_1)"
   ]
  },
  {
   "cell_type": "markdown",
   "metadata": {},
   "source": [
    "## K Nearest Neighbors "
   ]
  },
  {
   "cell_type": "code",
   "execution_count": 16,
   "metadata": {},
   "outputs": [
    {
     "data": {
      "text/plain": [
       "0.4326241134751773"
      ]
     },
     "execution_count": 16,
     "metadata": {},
     "output_type": "execute_result"
    }
   ],
   "source": [
    "t, v = get_clean_df(encoded_train, encoded_validate)\n",
    "cols = ['contract_type', \n",
    "        'tenure',\n",
    "        'monthly_charges',\n",
    "        'automatic_payment']\n",
    "\n",
    "X_train, X_validate = t[cols], v[cols]\n",
    "y_train, y_validate = t.churn, v.churn\n",
    "knn_1 = KNeighborsClassifier(n_neighbors=10).fit(X_train, y_train)\n",
    "predictions['knn_1'] = knn_1.predict(X_validate)\n",
    "recall_score(predictions.actual, predictions.knn_1)"
   ]
  },
  {
   "cell_type": "markdown",
   "metadata": {},
   "source": [
    "# Evaluate"
   ]
  },
  {
   "cell_type": "markdown",
   "metadata": {},
   "source": [
    "## Confusion Matrix"
   ]
  },
  {
   "cell_type": "code",
   "execution_count": 17,
   "metadata": {},
   "outputs": [
    {
     "name": "stdout",
     "output_type": "stream",
     "text": [
      "log_1     0    1\n",
      "actual          \n",
      "0       776   69\n",
      "1       147  135\n"
     ]
    }
   ],
   "source": [
    "# Logistic Regression\n",
    "print(pd.crosstab(predictions.actual, predictions.log_1))"
   ]
  },
  {
   "cell_type": "code",
   "execution_count": 18,
   "metadata": {},
   "outputs": [
    {
     "name": "stdout",
     "output_type": "stream",
     "text": [
      "tree_1    0    1\n",
      "actual          \n",
      "0       759   86\n",
      "1       139  143\n"
     ]
    }
   ],
   "source": [
    "# Decision Tree\n",
    "print(pd.crosstab(predictions.actual, predictions.tree_1))"
   ]
  },
  {
   "cell_type": "code",
   "execution_count": 19,
   "metadata": {},
   "outputs": [
    {
     "name": "stdout",
     "output_type": "stream",
     "text": [
      "forest_1    0    1\n",
      "actual            \n",
      "0         779   66\n",
      "1         148  134\n"
     ]
    }
   ],
   "source": [
    "# Random Forest\n",
    "print(pd.crosstab(predictions.actual, predictions.forest_1))"
   ]
  },
  {
   "cell_type": "code",
   "execution_count": 20,
   "metadata": {},
   "outputs": [
    {
     "name": "stdout",
     "output_type": "stream",
     "text": [
      "knn_1     0    1\n",
      "actual          \n",
      "0       785   60\n",
      "1       160  122\n"
     ]
    }
   ],
   "source": [
    "# KNN\n",
    "print(pd.crosstab(predictions.actual, predictions.knn_1))"
   ]
  },
  {
   "cell_type": "markdown",
   "metadata": {},
   "source": [
    "# Summaries "
   ]
  },
  {
   "cell_type": "code",
   "execution_count": 21,
   "metadata": {},
   "outputs": [
    {
     "name": "stdout",
     "output_type": "stream",
     "text": [
      "              precision    recall  f1-score   support\n",
      "\n",
      "           0       0.84      0.92      0.88       845\n",
      "           1       0.66      0.48      0.56       282\n",
      "\n",
      "    accuracy                           0.81      1127\n",
      "   macro avg       0.75      0.70      0.72      1127\n",
      "weighted avg       0.80      0.81      0.80      1127\n",
      "\n"
     ]
    }
   ],
   "source": [
    "# Logistic Regression\n",
    "print(classification_report(predictions.actual, predictions.log_1))"
   ]
  },
  {
   "cell_type": "code",
   "execution_count": 22,
   "metadata": {},
   "outputs": [
    {
     "name": "stdout",
     "output_type": "stream",
     "text": [
      "              precision    recall  f1-score   support\n",
      "\n",
      "           0       0.85      0.90      0.87       845\n",
      "           1       0.62      0.51      0.56       282\n",
      "\n",
      "    accuracy                           0.80      1127\n",
      "   macro avg       0.73      0.70      0.72      1127\n",
      "weighted avg       0.79      0.80      0.79      1127\n",
      "\n"
     ]
    }
   ],
   "source": [
    "# Decision Tree\n",
    "print(classification_report(predictions.actual, predictions.tree_1))"
   ]
  },
  {
   "cell_type": "code",
   "execution_count": 23,
   "metadata": {},
   "outputs": [
    {
     "name": "stdout",
     "output_type": "stream",
     "text": [
      "              precision    recall  f1-score   support\n",
      "\n",
      "           0       0.84      0.92      0.88       845\n",
      "           1       0.67      0.48      0.56       282\n",
      "\n",
      "    accuracy                           0.81      1127\n",
      "   macro avg       0.76      0.70      0.72      1127\n",
      "weighted avg       0.80      0.81      0.80      1127\n",
      "\n"
     ]
    }
   ],
   "source": [
    "# Random Forest\n",
    "print(classification_report(predictions.actual, predictions.forest_1))"
   ]
  },
  {
   "cell_type": "code",
   "execution_count": 24,
   "metadata": {},
   "outputs": [
    {
     "name": "stdout",
     "output_type": "stream",
     "text": [
      "              precision    recall  f1-score   support\n",
      "\n",
      "           0       0.83      0.93      0.88       845\n",
      "           1       0.67      0.43      0.53       282\n",
      "\n",
      "    accuracy                           0.80      1127\n",
      "   macro avg       0.75      0.68      0.70      1127\n",
      "weighted avg       0.79      0.80      0.79      1127\n",
      "\n"
     ]
    }
   ],
   "source": [
    "# KNN\n",
    "print(classification_report(predictions.actual, predictions.knn_1))"
   ]
  },
  {
   "cell_type": "markdown",
   "metadata": {},
   "source": [
    "# Models Part Two, Electric Boogaloo"
   ]
  },
  {
   "cell_type": "code",
   "execution_count": 25,
   "metadata": {},
   "outputs": [
    {
     "data": {
      "text/plain": [
       "0.5070921985815603"
      ]
     },
     "execution_count": 25,
     "metadata": {},
     "output_type": "execute_result"
    }
   ],
   "source": [
    "t, v = get_clean_df(encoded_train, encoded_validate)\n",
    "cols = ['contract_type', \n",
    "        'tenure',\n",
    "        'monthly_charges',\n",
    "        'payment_type',\n",
    "        'has_internet'\n",
    "       ]\n",
    "\n",
    "X_train, X_validate = t[cols], v[cols]\n",
    "y_train, y_validate = t.churn, v.churn\n",
    "\n",
    "tree_2 = DecisionTreeClassifier(max_depth=4, random_state=123).fit(X_train, y_train)\n",
    "predictions['tree_2'] = tree_2.predict(X_validate)\n",
    "recall_score(predictions.actual, predictions.tree_2)"
   ]
  },
  {
   "cell_type": "code",
   "execution_count": 26,
   "metadata": {},
   "outputs": [
    {
     "name": "stdout",
     "output_type": "stream",
     "text": [
      "max_depth = 1, recall =  0.00%, accuracy =  74.98%\n",
      "max_depth = 2, recall =  25.89%, accuracy =  78.88%\n",
      "max_depth = 3, recall =  38.30%, accuracy =  80.92%\n",
      "max_depth = 4, recall =  44.68%, accuracy =  81.28%\n",
      "max_depth = 5, recall =  48.94%, accuracy =  81.28%\n",
      "max_depth = 6, recall =  50.00%, accuracy =  81.90%\n",
      "max_depth = 7, recall =  53.55%, accuracy =  81.81%\n",
      "max_depth = 8, recall =  54.96%, accuracy =  81.46%\n",
      "max_depth = 9, recall =  56.03%, accuracy =  81.46%\n",
      "max_depth = 10, recall =  52.48%, accuracy =  79.77%\n",
      "max_depth = 11, recall =  55.32%, accuracy =  81.37%\n",
      "max_depth = 12, recall =  53.55%, accuracy =  80.21%\n",
      "max_depth = 13, recall =  52.13%, accuracy =  78.97%\n",
      "max_depth = 14, recall =  52.84%, accuracy =  79.06%\n",
      "max_depth = 15, recall =  53.90%, accuracy =  79.50%\n",
      "max_depth = 16, recall =  53.19%, accuracy =  78.97%\n",
      "max_depth = 17, recall =  51.06%, accuracy =  78.17%\n",
      "max_depth = 18, recall =  51.77%, accuracy =  78.53%\n",
      "max_depth = 19, recall =  53.19%, accuracy =  78.88%\n",
      "max_depth = 20, recall =  52.84%, accuracy =  79.24%\n",
      "max_depth = 21, recall =  52.13%, accuracy =  78.35%\n",
      "max_depth = 22, recall =  54.61%, accuracy =  79.33%\n",
      "max_depth = 23, recall =  52.48%, accuracy =  79.06%\n",
      "max_depth = 24, recall =  53.19%, accuracy =  79.59%\n",
      "max_depth = 25, recall =  52.13%, accuracy =  78.97%\n"
     ]
    }
   ],
   "source": [
    "for n in range(1,26):\n",
    "        rf = RandomForestClassifier(n_estimators=100, max_depth=n, random_state=123).fit(X_train, y_train)\n",
    "        recall = recall_score(predictions.actual, rf.predict(X_validate))\n",
    "        accuracy = rf.score(X_validate, y_validate)\n",
    "        print('max_depth = {}, recall = {: .2%}, accuracy = {: .2%}'.format(n, recall, accuracy))"
   ]
  },
  {
   "cell_type": "code",
   "execution_count": 27,
   "metadata": {},
   "outputs": [],
   "source": [
    "# forest_2\n",
    "\n",
    "cols = ['contract_type', \n",
    "        'tenure',\n",
    "        'monthly_charges',\n",
    "        'payment_type',\n",
    "        'has_internet']\n",
    "\n",
    "X_train, X_validate = t[cols], v[cols]\n",
    "y_train, y_validate = t.churn, v.churn\n",
    "forest_2 = RandomForestClassifier(n_estimators=100, \n",
    "                                  max_depth=9,\n",
    "                                  random_state=123).fit(X_train, y_train)\n",
    "predictions['forest_2'] = forest_2.predict(X_validate)\n",
    "forest_2_recall = recall_score(predictions.actual, predictions.forest_2)\n",
    "forest_2_accuracy = forest_2.score(X_validate, y_validate)"
   ]
  },
  {
   "cell_type": "code",
   "execution_count": 29,
   "metadata": {},
   "outputs": [],
   "source": [
    "t, v = get_clean_df(encoded_train, encoded_validate)\n",
    "cols = ['contract_type', \n",
    "        'tenure',\n",
    "        'monthly_charges',\n",
    "        'automatic_payment']\n",
    "\n",
    "X_train, X_validate = t[cols], v[cols]\n",
    "y_train, y_validate = t.churn, v.churn\n",
    "knn_2 = KNeighborsClassifier(n_neighbors=1, weights='distance', ).fit(X_train, y_train)\n",
    "predictions['knn_2'] = knn_2.predict(X_validate)\n",
    "knn_2_recall = recall_score(predictions.actual, predictions.knn_2)\n",
    "knn_2_accuracy = knn_2.score(X_validate, y_validate)"
   ]
  },
  {
   "cell_type": "code",
   "execution_count": 30,
   "metadata": {},
   "outputs": [],
   "source": [
    "model_results = pd.DataFrame(\n",
    "    {'Model_Type': ['Logistic Regression', 'Decision Tree', 'Random Forest', 'K Nearest Neighbor'],\n",
    "     'Recall_Score': [log_1_recall, tree_1_recall, forest_2_recall, knn_2_recall], \n",
    "     'Accuracy_core': [log_1_accuracy, tree_1_accuracy, forest_2_accuracy, knn_2_accuracy]\n",
    "                             })"
   ]
  },
  {
   "cell_type": "code",
   "execution_count": 31,
   "metadata": {},
   "outputs": [
    {
     "data": {
      "text/html": [
       "<div>\n",
       "<style scoped>\n",
       "    .dataframe tbody tr th:only-of-type {\n",
       "        vertical-align: middle;\n",
       "    }\n",
       "\n",
       "    .dataframe tbody tr th {\n",
       "        vertical-align: top;\n",
       "    }\n",
       "\n",
       "    .dataframe thead th {\n",
       "        text-align: right;\n",
       "    }\n",
       "</style>\n",
       "<table border=\"1\" class=\"dataframe\">\n",
       "  <thead>\n",
       "    <tr style=\"text-align: right;\">\n",
       "      <th></th>\n",
       "      <th>Model_Type</th>\n",
       "      <th>Recall_Score</th>\n",
       "      <th>Accuracy_core</th>\n",
       "    </tr>\n",
       "  </thead>\n",
       "  <tbody>\n",
       "    <tr>\n",
       "      <th>0</th>\n",
       "      <td>Logistic Regression</td>\n",
       "      <td>0.478723</td>\n",
       "      <td>0.808341</td>\n",
       "    </tr>\n",
       "    <tr>\n",
       "      <th>1</th>\n",
       "      <td>Decision Tree</td>\n",
       "      <td>0.507092</td>\n",
       "      <td>0.800355</td>\n",
       "    </tr>\n",
       "    <tr>\n",
       "      <th>2</th>\n",
       "      <td>Random Forest</td>\n",
       "      <td>0.560284</td>\n",
       "      <td>0.814552</td>\n",
       "    </tr>\n",
       "    <tr>\n",
       "      <th>3</th>\n",
       "      <td>K Nearest Neighbor</td>\n",
       "      <td>0.563830</td>\n",
       "      <td>0.767524</td>\n",
       "    </tr>\n",
       "  </tbody>\n",
       "</table>\n",
       "</div>"
      ],
      "text/plain": [
       "            Model_Type  Recall_Score  Accuracy_core\n",
       "0  Logistic Regression      0.478723       0.808341\n",
       "1        Decision Tree      0.507092       0.800355\n",
       "2        Random Forest      0.560284       0.814552\n",
       "3   K Nearest Neighbor      0.563830       0.767524"
      ]
     },
     "execution_count": 31,
     "metadata": {},
     "output_type": "execute_result"
    }
   ],
   "source": [
    "model_results"
   ]
  },
  {
   "cell_type": "code",
   "execution_count": 32,
   "metadata": {},
   "outputs": [
    {
     "data": {
      "text/html": [
       "<div>\n",
       "<style scoped>\n",
       "    .dataframe tbody tr th:only-of-type {\n",
       "        vertical-align: middle;\n",
       "    }\n",
       "\n",
       "    .dataframe tbody tr th {\n",
       "        vertical-align: top;\n",
       "    }\n",
       "\n",
       "    .dataframe thead th {\n",
       "        text-align: right;\n",
       "    }\n",
       "</style>\n",
       "<table border=\"1\" class=\"dataframe\">\n",
       "  <thead>\n",
       "    <tr style=\"text-align: right;\">\n",
       "      <th>log_1</th>\n",
       "      <th>0</th>\n",
       "      <th>1</th>\n",
       "    </tr>\n",
       "    <tr>\n",
       "      <th>actual</th>\n",
       "      <th></th>\n",
       "      <th></th>\n",
       "    </tr>\n",
       "  </thead>\n",
       "  <tbody>\n",
       "    <tr>\n",
       "      <th>0</th>\n",
       "      <td>776</td>\n",
       "      <td>69</td>\n",
       "    </tr>\n",
       "    <tr>\n",
       "      <th>1</th>\n",
       "      <td>147</td>\n",
       "      <td>135</td>\n",
       "    </tr>\n",
       "  </tbody>\n",
       "</table>\n",
       "</div>"
      ],
      "text/plain": [
       "log_1     0    1\n",
       "actual          \n",
       "0       776   69\n",
       "1       147  135"
      ]
     },
     "execution_count": 32,
     "metadata": {},
     "output_type": "execute_result"
    }
   ],
   "source": [
    "pd.crosstab(predictions.actual, predictions.log_1)"
   ]
  },
  {
   "cell_type": "code",
   "execution_count": 33,
   "metadata": {},
   "outputs": [
    {
     "data": {
      "text/html": [
       "<div>\n",
       "<style scoped>\n",
       "    .dataframe tbody tr th:only-of-type {\n",
       "        vertical-align: middle;\n",
       "    }\n",
       "\n",
       "    .dataframe tbody tr th {\n",
       "        vertical-align: top;\n",
       "    }\n",
       "\n",
       "    .dataframe thead th {\n",
       "        text-align: right;\n",
       "    }\n",
       "</style>\n",
       "<table border=\"1\" class=\"dataframe\">\n",
       "  <thead>\n",
       "    <tr style=\"text-align: right;\">\n",
       "      <th>tree_1</th>\n",
       "      <th>0</th>\n",
       "      <th>1</th>\n",
       "    </tr>\n",
       "    <tr>\n",
       "      <th>actual</th>\n",
       "      <th></th>\n",
       "      <th></th>\n",
       "    </tr>\n",
       "  </thead>\n",
       "  <tbody>\n",
       "    <tr>\n",
       "      <th>0</th>\n",
       "      <td>759</td>\n",
       "      <td>86</td>\n",
       "    </tr>\n",
       "    <tr>\n",
       "      <th>1</th>\n",
       "      <td>139</td>\n",
       "      <td>143</td>\n",
       "    </tr>\n",
       "  </tbody>\n",
       "</table>\n",
       "</div>"
      ],
      "text/plain": [
       "tree_1    0    1\n",
       "actual          \n",
       "0       759   86\n",
       "1       139  143"
      ]
     },
     "execution_count": 33,
     "metadata": {},
     "output_type": "execute_result"
    }
   ],
   "source": [
    "pd.crosstab(predictions.actual, predictions.tree_1)"
   ]
  },
  {
   "cell_type": "code",
   "execution_count": 34,
   "metadata": {},
   "outputs": [
    {
     "data": {
      "text/html": [
       "<div>\n",
       "<style scoped>\n",
       "    .dataframe tbody tr th:only-of-type {\n",
       "        vertical-align: middle;\n",
       "    }\n",
       "\n",
       "    .dataframe tbody tr th {\n",
       "        vertical-align: top;\n",
       "    }\n",
       "\n",
       "    .dataframe thead th {\n",
       "        text-align: right;\n",
       "    }\n",
       "</style>\n",
       "<table border=\"1\" class=\"dataframe\">\n",
       "  <thead>\n",
       "    <tr style=\"text-align: right;\">\n",
       "      <th>forest_2</th>\n",
       "      <th>0</th>\n",
       "      <th>1</th>\n",
       "    </tr>\n",
       "    <tr>\n",
       "      <th>actual</th>\n",
       "      <th></th>\n",
       "      <th></th>\n",
       "    </tr>\n",
       "  </thead>\n",
       "  <tbody>\n",
       "    <tr>\n",
       "      <th>0</th>\n",
       "      <td>760</td>\n",
       "      <td>85</td>\n",
       "    </tr>\n",
       "    <tr>\n",
       "      <th>1</th>\n",
       "      <td>124</td>\n",
       "      <td>158</td>\n",
       "    </tr>\n",
       "  </tbody>\n",
       "</table>\n",
       "</div>"
      ],
      "text/plain": [
       "forest_2    0    1\n",
       "actual            \n",
       "0         760   85\n",
       "1         124  158"
      ]
     },
     "execution_count": 34,
     "metadata": {},
     "output_type": "execute_result"
    }
   ],
   "source": [
    "pd.crosstab(predictions.actual, predictions.forest_2)"
   ]
  },
  {
   "cell_type": "code",
   "execution_count": 35,
   "metadata": {},
   "outputs": [
    {
     "data": {
      "text/html": [
       "<div>\n",
       "<style scoped>\n",
       "    .dataframe tbody tr th:only-of-type {\n",
       "        vertical-align: middle;\n",
       "    }\n",
       "\n",
       "    .dataframe tbody tr th {\n",
       "        vertical-align: top;\n",
       "    }\n",
       "\n",
       "    .dataframe thead th {\n",
       "        text-align: right;\n",
       "    }\n",
       "</style>\n",
       "<table border=\"1\" class=\"dataframe\">\n",
       "  <thead>\n",
       "    <tr style=\"text-align: right;\">\n",
       "      <th>knn_2</th>\n",
       "      <th>0</th>\n",
       "      <th>1</th>\n",
       "    </tr>\n",
       "    <tr>\n",
       "      <th>actual</th>\n",
       "      <th></th>\n",
       "      <th></th>\n",
       "    </tr>\n",
       "  </thead>\n",
       "  <tbody>\n",
       "    <tr>\n",
       "      <th>0</th>\n",
       "      <td>706</td>\n",
       "      <td>139</td>\n",
       "    </tr>\n",
       "    <tr>\n",
       "      <th>1</th>\n",
       "      <td>123</td>\n",
       "      <td>159</td>\n",
       "    </tr>\n",
       "  </tbody>\n",
       "</table>\n",
       "</div>"
      ],
      "text/plain": [
       "knn_2     0    1\n",
       "actual          \n",
       "0       706  139\n",
       "1       123  159"
      ]
     },
     "execution_count": 35,
     "metadata": {},
     "output_type": "execute_result"
    }
   ],
   "source": [
    "pd.crosstab(predictions.actual, predictions.knn_2)"
   ]
  }
 ],
 "metadata": {
  "kernelspec": {
   "display_name": "Python 3",
   "language": "python",
   "name": "python3"
  },
  "language_info": {
   "codemirror_mode": {
    "name": "ipython",
    "version": 3
   },
   "file_extension": ".py",
   "mimetype": "text/x-python",
   "name": "python",
   "nbconvert_exporter": "python",
   "pygments_lexer": "ipython3",
   "version": "3.7.6"
  },
  "toc-autonumbering": true
 },
 "nbformat": 4,
 "nbformat_minor": 4
}
