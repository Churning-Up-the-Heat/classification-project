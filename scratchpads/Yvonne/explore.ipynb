{
 "cells": [
  {
   "cell_type": "markdown",
   "metadata": {},
   "source": [
    "# Imports"
   ]
  },
  {
   "cell_type": "code",
   "execution_count": 1,
   "metadata": {},
   "outputs": [],
   "source": [
    "import pandas as pd\n",
    "import numpy as np\n",
    "from scipy import stats\n",
    "\n",
    "import matplotlib.pyplot as plt\n",
    "import seaborn as sns\n",
    "from sklearn.preprocessing import LabelEncoder\n",
    "\n",
    "from sklearn.model_selection import train_test_split\n",
    "\n",
    "import acquire\n",
    "import prepare\n",
    "import encode\n",
    "import explore\n",
    "import features"
   ]
  },
  {
   "cell_type": "markdown",
   "metadata": {},
   "source": [
    "# Wrangle"
   ]
  },
  {
   "cell_type": "code",
   "execution_count": 2,
   "metadata": {},
   "outputs": [],
   "source": [
    "#bring in the data\n",
    "telco = acquire.get_telco_data()"
   ]
  },
  {
   "cell_type": "code",
   "execution_count": 3,
   "metadata": {},
   "outputs": [],
   "source": [
    "#prep the data\n",
    "train, test, validate = prepare.prep_telco(telco, .8, 123)"
   ]
  },
  {
   "cell_type": "code",
   "execution_count": 4,
   "metadata": {},
   "outputs": [],
   "source": [
    "#encode the data\n",
    "train, test, validate = encode.encoded_df(train, test, validate)"
   ]
  },
  {
   "cell_type": "code",
   "execution_count": 5,
   "metadata": {},
   "outputs": [
    {
     "name": "stdout",
     "output_type": "stream",
     "text": [
      "(4507, 30)\n",
      "(1409, 30)\n",
      "(1127, 30)\n"
     ]
    }
   ],
   "source": [
    "print(train.shape)\n",
    "print(test.shape)\n",
    "print(validate.shape)"
   ]
  },
  {
   "cell_type": "code",
   "execution_count": 6,
   "metadata": {},
   "outputs": [
    {
     "name": "stdout",
     "output_type": "stream",
     "text": [
      "<class 'pandas.core.frame.DataFrame'>\n",
      "Int64Index: 4507 entries, 1249 to 6958\n",
      "Data columns (total 30 columns):\n",
      "customer_id                      4507 non-null object\n",
      "gender                           4507 non-null object\n",
      "senior_citizen                   4507 non-null int64\n",
      "partner                          4507 non-null object\n",
      "dependents                       4507 non-null object\n",
      "tenure                           4507 non-null int64\n",
      "phone_service                    4507 non-null object\n",
      "multiple_lines                   4507 non-null object\n",
      "online_security                  4507 non-null object\n",
      "online_backup                    4507 non-null object\n",
      "device_protection                4507 non-null object\n",
      "tech_support                     4507 non-null object\n",
      "streaming_tv                     4507 non-null object\n",
      "streaming_movies                 4507 non-null object\n",
      "paperless_billing                4507 non-null object\n",
      "monthly_charges                  4507 non-null float64\n",
      "total_charges                    4507 non-null float64\n",
      "churn                            4507 non-null object\n",
      "contract_type                    4507 non-null object\n",
      "internet_service_type            4507 non-null object\n",
      "payment_type                     4507 non-null object\n",
      "tenure_years                     4507 non-null float64\n",
      "contract_type_encoded            4507 non-null int64\n",
      "encoded_internet_service_type    4507 non-null int64\n",
      "churn_encoded                    4507 non-null int64\n",
      "payment_type_encoded             4507 non-null int64\n",
      "online_security_encoded          4507 non-null int64\n",
      "tech_support_encoded             4507 non-null int64\n",
      "device_protection_encoded        4507 non-null int64\n",
      "online_backup_encoded            4507 non-null int64\n",
      "dtypes: float64(3), int64(10), object(17)\n",
      "memory usage: 1.1+ MB\n"
     ]
    }
   ],
   "source": [
    "train.info()"
   ]
  },
  {
   "cell_type": "code",
   "execution_count": 7,
   "metadata": {},
   "outputs": [
    {
     "data": {
      "text/plain": [
       "Index(['customer_id', 'gender', 'senior_citizen', 'partner', 'dependents',\n",
       "       'tenure', 'phone_service', 'multiple_lines', 'online_security',\n",
       "       'online_backup', 'device_protection', 'tech_support', 'streaming_tv',\n",
       "       'streaming_movies', 'paperless_billing', 'monthly_charges',\n",
       "       'total_charges', 'churn', 'contract_type', 'internet_service_type',\n",
       "       'payment_type', 'tenure_years', 'contract_type_encoded',\n",
       "       'encoded_internet_service_type', 'churn_encoded',\n",
       "       'payment_type_encoded', 'online_security_encoded',\n",
       "       'tech_support_encoded', 'device_protection_encoded',\n",
       "       'online_backup_encoded'],\n",
       "      dtype='object')"
      ]
     },
     "execution_count": 7,
     "metadata": {},
     "output_type": "execute_result"
    }
   ],
   "source": [
    "train.columns"
   ]
  },
  {
   "cell_type": "markdown",
   "metadata": {},
   "source": [
    "# Explore\n",
    "**Initial Hypothesis**: Customers who are month to month are most likely to churn\n",
    "\n",
    "1. Look at the features that describe the consumer portions of our data, this will help us figure out **WHO** is churning\n",
    "    - Gender\n",
    "    - Senior or Not\n",
    "    - Single household (dependents)\n",
    "2. Run a Chi-Squared statistical test to see if there is a correlation between the above and churning\n",
    "3. Take a look at all other components to look for the **DRIVERS** that are causing our customers to churn"
   ]
  },
  {
   "cell_type": "code",
   "execution_count": 8,
   "metadata": {},
   "outputs": [
    {
     "data": {
      "text/html": [
       "<div>\n",
       "<style scoped>\n",
       "    .dataframe tbody tr th:only-of-type {\n",
       "        vertical-align: middle;\n",
       "    }\n",
       "\n",
       "    .dataframe tbody tr th {\n",
       "        vertical-align: top;\n",
       "    }\n",
       "\n",
       "    .dataframe thead th {\n",
       "        text-align: right;\n",
       "    }\n",
       "</style>\n",
       "<table border=\"1\" class=\"dataframe\">\n",
       "  <thead>\n",
       "    <tr style=\"text-align: right;\">\n",
       "      <th></th>\n",
       "      <th>customer_id</th>\n",
       "      <th>gender</th>\n",
       "      <th>senior_citizen</th>\n",
       "      <th>partner</th>\n",
       "      <th>dependents</th>\n",
       "      <th>tenure</th>\n",
       "      <th>phone_service</th>\n",
       "      <th>multiple_lines</th>\n",
       "      <th>online_security</th>\n",
       "      <th>online_backup</th>\n",
       "      <th>...</th>\n",
       "      <th>payment_type</th>\n",
       "      <th>tenure_years</th>\n",
       "      <th>contract_type_encoded</th>\n",
       "      <th>encoded_internet_service_type</th>\n",
       "      <th>churn_encoded</th>\n",
       "      <th>payment_type_encoded</th>\n",
       "      <th>online_security_encoded</th>\n",
       "      <th>tech_support_encoded</th>\n",
       "      <th>device_protection_encoded</th>\n",
       "      <th>online_backup_encoded</th>\n",
       "    </tr>\n",
       "  </thead>\n",
       "  <tbody>\n",
       "    <tr>\n",
       "      <th>1249</th>\n",
       "      <td>0484-FFVBJ</td>\n",
       "      <td>Male</td>\n",
       "      <td>0</td>\n",
       "      <td>No</td>\n",
       "      <td>No</td>\n",
       "      <td>32</td>\n",
       "      <td>Yes</td>\n",
       "      <td>No</td>\n",
       "      <td>No</td>\n",
       "      <td>No</td>\n",
       "      <td>...</td>\n",
       "      <td>Bank transfer (automatic)</td>\n",
       "      <td>3.0</td>\n",
       "      <td>1</td>\n",
       "      <td>0</td>\n",
       "      <td>0</td>\n",
       "      <td>0</td>\n",
       "      <td>0</td>\n",
       "      <td>0</td>\n",
       "      <td>0</td>\n",
       "      <td>0</td>\n",
       "    </tr>\n",
       "    <tr>\n",
       "      <th>6265</th>\n",
       "      <td>6096-EGVTU</td>\n",
       "      <td>Female</td>\n",
       "      <td>0</td>\n",
       "      <td>Yes</td>\n",
       "      <td>Yes</td>\n",
       "      <td>64</td>\n",
       "      <td>Yes</td>\n",
       "      <td>Yes</td>\n",
       "      <td>No internet service</td>\n",
       "      <td>No internet service</td>\n",
       "      <td>...</td>\n",
       "      <td>Mailed check</td>\n",
       "      <td>5.0</td>\n",
       "      <td>1</td>\n",
       "      <td>2</td>\n",
       "      <td>0</td>\n",
       "      <td>3</td>\n",
       "      <td>1</td>\n",
       "      <td>1</td>\n",
       "      <td>1</td>\n",
       "      <td>1</td>\n",
       "    </tr>\n",
       "    <tr>\n",
       "      <th>3772</th>\n",
       "      <td>6178-KFNHS</td>\n",
       "      <td>Female</td>\n",
       "      <td>0</td>\n",
       "      <td>No</td>\n",
       "      <td>Yes</td>\n",
       "      <td>12</td>\n",
       "      <td>Yes</td>\n",
       "      <td>Yes</td>\n",
       "      <td>Yes</td>\n",
       "      <td>No</td>\n",
       "      <td>...</td>\n",
       "      <td>Electronic check</td>\n",
       "      <td>1.0</td>\n",
       "      <td>0</td>\n",
       "      <td>1</td>\n",
       "      <td>1</td>\n",
       "      <td>2</td>\n",
       "      <td>2</td>\n",
       "      <td>0</td>\n",
       "      <td>0</td>\n",
       "      <td>0</td>\n",
       "    </tr>\n",
       "    <tr>\n",
       "      <th>3391</th>\n",
       "      <td>4529-CKBCL</td>\n",
       "      <td>Female</td>\n",
       "      <td>0</td>\n",
       "      <td>No</td>\n",
       "      <td>No</td>\n",
       "      <td>2</td>\n",
       "      <td>Yes</td>\n",
       "      <td>No</td>\n",
       "      <td>No</td>\n",
       "      <td>No</td>\n",
       "      <td>...</td>\n",
       "      <td>Electronic check</td>\n",
       "      <td>0.0</td>\n",
       "      <td>0</td>\n",
       "      <td>1</td>\n",
       "      <td>1</td>\n",
       "      <td>2</td>\n",
       "      <td>0</td>\n",
       "      <td>0</td>\n",
       "      <td>0</td>\n",
       "      <td>0</td>\n",
       "    </tr>\n",
       "    <tr>\n",
       "      <th>6795</th>\n",
       "      <td>6048-NJXHX</td>\n",
       "      <td>Male</td>\n",
       "      <td>0</td>\n",
       "      <td>Yes</td>\n",
       "      <td>No</td>\n",
       "      <td>41</td>\n",
       "      <td>Yes</td>\n",
       "      <td>No</td>\n",
       "      <td>No internet service</td>\n",
       "      <td>No internet service</td>\n",
       "      <td>...</td>\n",
       "      <td>Electronic check</td>\n",
       "      <td>3.0</td>\n",
       "      <td>2</td>\n",
       "      <td>2</td>\n",
       "      <td>0</td>\n",
       "      <td>2</td>\n",
       "      <td>1</td>\n",
       "      <td>1</td>\n",
       "      <td>1</td>\n",
       "      <td>1</td>\n",
       "    </tr>\n",
       "  </tbody>\n",
       "</table>\n",
       "<p>5 rows × 30 columns</p>\n",
       "</div>"
      ],
      "text/plain": [
       "     customer_id  gender  senior_citizen partner dependents  tenure  \\\n",
       "1249  0484-FFVBJ    Male               0      No         No      32   \n",
       "6265  6096-EGVTU  Female               0     Yes        Yes      64   \n",
       "3772  6178-KFNHS  Female               0      No        Yes      12   \n",
       "3391  4529-CKBCL  Female               0      No         No       2   \n",
       "6795  6048-NJXHX    Male               0     Yes         No      41   \n",
       "\n",
       "     phone_service multiple_lines      online_security        online_backup  \\\n",
       "1249           Yes             No                   No                   No   \n",
       "6265           Yes            Yes  No internet service  No internet service   \n",
       "3772           Yes            Yes                  Yes                   No   \n",
       "3391           Yes             No                   No                   No   \n",
       "6795           Yes             No  No internet service  No internet service   \n",
       "\n",
       "      ...               payment_type tenure_years contract_type_encoded  \\\n",
       "1249  ...  Bank transfer (automatic)          3.0                     1   \n",
       "6265  ...               Mailed check          5.0                     1   \n",
       "3772  ...           Electronic check          1.0                     0   \n",
       "3391  ...           Electronic check          0.0                     0   \n",
       "6795  ...           Electronic check          3.0                     2   \n",
       "\n",
       "     encoded_internet_service_type churn_encoded  payment_type_encoded  \\\n",
       "1249                             0             0                     0   \n",
       "6265                             2             0                     3   \n",
       "3772                             1             1                     2   \n",
       "3391                             1             1                     2   \n",
       "6795                             2             0                     2   \n",
       "\n",
       "      online_security_encoded tech_support_encoded device_protection_encoded  \\\n",
       "1249                        0                    0                         0   \n",
       "6265                        1                    1                         1   \n",
       "3772                        2                    0                         0   \n",
       "3391                        0                    0                         0   \n",
       "6795                        1                    1                         1   \n",
       "\n",
       "     online_backup_encoded  \n",
       "1249                     0  \n",
       "6265                     1  \n",
       "3772                     0  \n",
       "3391                     0  \n",
       "6795                     1  \n",
       "\n",
       "[5 rows x 30 columns]"
      ]
     },
     "execution_count": 8,
     "metadata": {},
     "output_type": "execute_result"
    }
   ],
   "source": [
    "train.head()"
   ]
  },
  {
   "cell_type": "markdown",
   "metadata": {},
   "source": [
    "## Chi Testing\n",
    "\n",
    "Our alpha for each Chi Test will be set at 95%"
   ]
  },
  {
   "cell_type": "code",
   "execution_count": 9,
   "metadata": {},
   "outputs": [],
   "source": [
    "alpha = .05"
   ]
  },
  {
   "cell_type": "markdown",
   "metadata": {},
   "source": [
    "### Senior citizen VS churning\n",
    "$H_0$ - Being a senior citizen is independent of churning"
   ]
  },
  {
   "cell_type": "code",
   "execution_count": 10,
   "metadata": {},
   "outputs": [],
   "source": [
    "is_senior_citizen_ctab = pd.crosstab(train.senior_citizen, train.churn_encoded)"
   ]
  },
  {
   "cell_type": "code",
   "execution_count": 11,
   "metadata": {},
   "outputs": [
    {
     "data": {
      "text/html": [
       "<div>\n",
       "<style scoped>\n",
       "    .dataframe tbody tr th:only-of-type {\n",
       "        vertical-align: middle;\n",
       "    }\n",
       "\n",
       "    .dataframe tbody tr th {\n",
       "        vertical-align: top;\n",
       "    }\n",
       "\n",
       "    .dataframe thead th {\n",
       "        text-align: right;\n",
       "    }\n",
       "</style>\n",
       "<table border=\"1\" class=\"dataframe\">\n",
       "  <thead>\n",
       "    <tr style=\"text-align: right;\">\n",
       "      <th>churn_encoded</th>\n",
       "      <th>0</th>\n",
       "      <th>1</th>\n",
       "    </tr>\n",
       "    <tr>\n",
       "      <th>senior_citizen</th>\n",
       "      <th></th>\n",
       "      <th></th>\n",
       "    </tr>\n",
       "  </thead>\n",
       "  <tbody>\n",
       "    <tr>\n",
       "      <th>0</th>\n",
       "      <td>2861</td>\n",
       "      <td>899</td>\n",
       "    </tr>\n",
       "    <tr>\n",
       "      <th>1</th>\n",
       "      <td>443</td>\n",
       "      <td>304</td>\n",
       "    </tr>\n",
       "  </tbody>\n",
       "</table>\n",
       "</div>"
      ],
      "text/plain": [
       "churn_encoded      0    1\n",
       "senior_citizen           \n",
       "0               2861  899\n",
       "1                443  304"
      ]
     },
     "execution_count": 11,
     "metadata": {},
     "output_type": "execute_result"
    }
   ],
   "source": [
    "is_senior_citizen_ctab"
   ]
  },
  {
   "cell_type": "code",
   "execution_count": 12,
   "metadata": {},
   "outputs": [
    {
     "name": "stdout",
     "output_type": "stream",
     "text": [
      "[[2756.38784114 1003.61215886]\n",
      " [ 547.61215886  199.38784114]]\n",
      "p-val: 4.174502062740765e-21\n",
      "We reject the H_0: Being a senior citizen is independent of churning\n"
     ]
    }
   ],
   "source": [
    "chi2, p_senior, degf, expected_senior = stats.chi2_contingency(is_senior_citizen_ctab)\n",
    "print(expected_senior)\n",
    "print(f\"p-val: {p_senior}\")\n",
    "\n",
    "if p_senior < alpha:\n",
    "    print(\"We reject the H_0: Being a senior citizen is independent of churning\")\n",
    "else:\n",
    "    print(\"We fail to reject H_0\")"
   ]
  },
  {
   "cell_type": "code",
   "execution_count": 13,
   "metadata": {},
   "outputs": [
    {
     "name": "stdout",
     "output_type": "stream",
     "text": [
      "We reject the H_0: Being a senior citizen is independent of churning\n"
     ]
    }
   ],
   "source": [
    "if p_senior < alpha:\n",
    "    print(\"We reject the H_0: Being a senior citizen is independent of churning\")\n",
    "else:\n",
    "    print(\"We fail to reject H_0\")"
   ]
  },
  {
   "cell_type": "markdown",
   "metadata": {},
   "source": [
    "#### Takeaways\n",
    "- Our p value is less than $\\alpha\\$ which signifies there is a statistical significance\n",
    "- There's roughly a 65% increase in the number of seniors who churned from expected to observed"
   ]
  },
  {
   "cell_type": "code",
   "execution_count": 14,
   "metadata": {},
   "outputs": [
    {
     "data": {
      "text/plain": [
       "count    4507.000000\n",
       "mean       31.942978\n",
       "std        24.718649\n",
       "min         0.000000\n",
       "25%         8.000000\n",
       "50%        27.000000\n",
       "75%        55.000000\n",
       "max        72.000000\n",
       "Name: tenure, dtype: float64"
      ]
     },
     "execution_count": 14,
     "metadata": {},
     "output_type": "execute_result"
    }
   ],
   "source": [
    "#take a look at stats info for numerical data\n",
    "train.tenure.describe()"
   ]
  },
  {
   "cell_type": "code",
   "execution_count": 15,
   "metadata": {},
   "outputs": [
    {
     "data": {
      "image/png": "[encoded data removed]",
      "text/plain": [
       "<Figure size 936x720 with 2 Axes>"
      ]
     },
     "metadata": {
      "needs_background": "light"
     },
     "output_type": "display_data"
    }
   ],
   "source": [
    "#take a look at correlations of numerical data\n",
    "explore.corr_heatmap(train)"
   ]
  },
  {
   "cell_type": "markdown",
   "metadata": {},
   "source": [
    "### Takeaways\n",
    "- mean for tenure is roughly 2 and a half years\n",
    "- our max tenure is sitting at 6 years\n",
    "- contract type seems to be our best indicator of whether a customer will churn or not\n"
   ]
  },
  {
   "cell_type": "markdown",
   "metadata": {},
   "source": [
    "### Moving Forward\n",
    "- Check tenure against various features"
   ]
  },
  {
   "cell_type": "markdown",
   "metadata": {},
   "source": [
    "## Tenure vs rate of churn"
   ]
  },
  {
   "cell_type": "code",
   "execution_count": 16,
   "metadata": {},
   "outputs": [
    {
     "data": {
      "image/png": "[encoded data removed]",
      "text/plain": [
       "<Figure size 936x720 with 1 Axes>"
      ]
     },
     "metadata": {
      "needs_background": "light"
     },
     "output_type": "display_data"
    }
   ],
   "source": [
    "#function to plot rate of churn and tenure\n",
    "explore.lineplot_rate_of_churn_to_tenure_months(train)"
   ]
  },
  {
   "cell_type": "code",
   "execution_count": 17,
   "metadata": {},
   "outputs": [
    {
     "data": {
      "text/plain": [
       "1     403\n",
       "72    224\n",
       "2     165\n",
       "3     134\n",
       "4     117\n",
       "     ... \n",
       "33     32\n",
       "36     28\n",
       "39     28\n",
       "44     26\n",
       "0      10\n",
       "Name: tenure, Length: 73, dtype: int64"
      ]
     },
     "execution_count": 17,
     "metadata": {},
     "output_type": "execute_result"
    }
   ],
   "source": [
    "train.tenure.value_counts(ascending=False)"
   ]
  },
  {
   "cell_type": "code",
   "execution_count": 18,
   "metadata": {},
   "outputs": [
    {
     "data": {
      "image/png": "[encoded data removed]",
      "text/plain": [
       "<Figure size 936x720 with 1 Axes>"
      ]
     },
     "metadata": {
      "needs_background": "light"
     },
     "output_type": "display_data"
    }
   ],
   "source": [
    "explore.lineplot_rate_of_churn_to_tenure_years(train)"
   ]
  },
  {
   "cell_type": "code",
   "execution_count": 19,
   "metadata": {},
   "outputs": [
    {
     "data": {
      "text/plain": [
       "0.0    988\n",
       "1.0    740\n",
       "2.0    675\n",
       "6.0    664\n",
       "4.0    546\n",
       "5.0    498\n",
       "3.0    396\n",
       "Name: tenure_years, dtype: int64"
      ]
     },
     "execution_count": 19,
     "metadata": {},
     "output_type": "execute_result"
    }
   ],
   "source": [
    "train.tenure_years.value_counts(ascending=False)"
   ]
  },
  {
   "cell_type": "markdown",
   "metadata": {},
   "source": [
    "### Takeaways on tenure vs rate of churn: \n",
    "We see most customers are churning at lower tenures with a spike right around 49 months. Overall there is a downward trend as tenure increases. However this may also be because most of our customers tenures are below 1 year"
   ]
  },
  {
   "cell_type": "markdown",
   "metadata": {},
   "source": [
    "## Categorical exploration"
   ]
  },
  {
   "cell_type": "code",
   "execution_count": 20,
   "metadata": {},
   "outputs": [
    {
     "data": {
      "text/html": [
       "<div>\n",
       "<style scoped>\n",
       "    .dataframe tbody tr th:only-of-type {\n",
       "        vertical-align: middle;\n",
       "    }\n",
       "\n",
       "    .dataframe tbody tr th {\n",
       "        vertical-align: top;\n",
       "    }\n",
       "\n",
       "    .dataframe thead th {\n",
       "        text-align: right;\n",
       "    }\n",
       "</style>\n",
       "<table border=\"1\" class=\"dataframe\">\n",
       "  <thead>\n",
       "    <tr style=\"text-align: right;\">\n",
       "      <th>contract_type</th>\n",
       "      <th>Month-to-month</th>\n",
       "      <th>One year</th>\n",
       "      <th>Two year</th>\n",
       "    </tr>\n",
       "    <tr>\n",
       "      <th>churn</th>\n",
       "      <th></th>\n",
       "      <th></th>\n",
       "      <th></th>\n",
       "    </tr>\n",
       "  </thead>\n",
       "  <tbody>\n",
       "    <tr>\n",
       "      <th>No</th>\n",
       "      <td>1432</td>\n",
       "      <td>826</td>\n",
       "      <td>1046</td>\n",
       "    </tr>\n",
       "    <tr>\n",
       "      <th>Yes</th>\n",
       "      <td>1062</td>\n",
       "      <td>108</td>\n",
       "      <td>33</td>\n",
       "    </tr>\n",
       "  </tbody>\n",
       "</table>\n",
       "</div>"
      ],
      "text/plain": [
       "contract_type  Month-to-month  One year  Two year\n",
       "churn                                            \n",
       "No                       1432       826      1046\n",
       "Yes                      1062       108        33"
      ]
     },
     "execution_count": 20,
     "metadata": {},
     "output_type": "execute_result"
    }
   ],
   "source": [
    "ctab = pd.crosstab(train.churn, train.contract_type)\n",
    "ctab"
   ]
  },
  {
   "cell_type": "markdown",
   "metadata": {},
   "source": [
    "Takeaways:\n",
    "- Far more customers who are on month to month contracts"
   ]
  },
  {
   "cell_type": "code",
   "execution_count": 21,
   "metadata": {},
   "outputs": [],
   "source": [
    "def plot_categorical_with_churn_rates(df, column_name):\n",
    "    plt.figure(figsize=(10, 7))\n",
    "    plt.title(f\"Churn Rates by {column_name}\")\n",
    "    df.groupby(column_name).churn_encoded.mean().plot.bar(ec='black', fc='purple', width=.9, label='')\n",
    "    plt.xticks(rotation=0)\n",
    "    plt.xlabel('')\n",
    "    plt.ylabel('Churn Rate')\n",
    "    plt.hlines(df.churn_encoded.mean(), *plt.xlim(), ls='--', color='grey', label='average churn rate')\n",
    "    plt.legend()\n",
    "    \n",
    "def plot_all_categoricals_with_churn_rates(train):\n",
    "    #1. plot contract_type\n",
    "    plot_categorical_with_churn_rates(train, \"contract_type\")\n",
    "    \n",
    "    #2. plot gender_type\n",
    "    plot_categorical_with_churn_rates(train, \"gender\")\n",
    "    \n",
    "    #3. plot partner\n",
    "    plot_categorical_with_churn_rates(train, \"partner\")\n",
    "    \n",
    "    #4. plot dependents\n",
    "    plot_categorical_with_churn_rates(train, \"dependents\")\n",
    "\n",
    "    #5. plot phone_service\n",
    "    plot_categorical_with_churn_rates(train, \"phone_service\")\n",
    "    \n",
    "    #6. plot multiple_lines\n",
    "    plot_categorical_with_churn_rates(train, \"multiple_lines\")\n",
    "    \n",
    "    #7. plot online_security\n",
    "    plot_categorical_with_churn_rates(train, \"online_security\")\n",
    "    \n",
    "    #8. plot device_protection\n",
    "    plot_categorical_with_churn_rates(train, \"device_protection\")\n",
    "    \n",
    "    #9. plot device_protection\n",
    "    plot_categorical_with_churn_rates(train, \"online_backup\")\n",
    "    \n",
    "    #10. plot tech_support\n",
    "    plot_categorical_with_churn_rates(train, \"tech_support\")\n",
    "    \n",
    "    #11. plot streaming_tv\n",
    "    plot_categorical_with_churn_rates(train, \"streaming_tv\")\n",
    "    \n",
    "    #12. plot streaming_movies\n",
    "    plot_categorical_with_churn_rates(train, \"streaming_movies\")\n",
    "    \n",
    "    #13. plot paperless_billing\n",
    "    plot_categorical_with_churn_rates(train, \"paperless_billing\")\n",
    "    \n",
    "    #14. plot internet_service_type\n",
    "    plot_categorical_with_churn_rates(train, \"internet_service_type\")\n",
    "    \n",
    "    #15. plot payment_type\n",
    "    plot_categorical_with_churn_rates(train, \"payment_type\")\n",
    "       \n"
   ]
  },
  {
   "cell_type": "code",
   "execution_count": 22,
   "metadata": {},
   "outputs": [
    {
     "data": {
      "image/png": "[encoded data removed]",
      "text/plain": [
       "<Figure size 720x504 with 1 Axes>"
      ]
     },
     "metadata": {
      "needs_background": "light"
     },
     "output_type": "display_data"
    },
    {
     "data": {
      "image/png": "[encoded data removed]",
      "text/plain": [
       "<Figure size 720x504 with 1 Axes>"
      ]
     },
     "metadata": {
      "needs_background": "light"
     },
     "output_type": "display_data"
    },
    {
     "data": {
      "image/png": "[encoded data removed]",
      "text/plain": [
       "<Figure size 720x504 with 1 Axes>"
      ]
     },
     "metadata": {
      "needs_background": "light"
     },
     "output_type": "display_data"
    },
    {
     "data": {
      "image/png": "[encoded data removed]",
      "text/plain": [
       "<Figure size 720x504 with 1 Axes>"
      ]
     },
     "metadata": {
      "needs_background": "light"
     },
     "output_type": "display_data"
    },
    {
     "data": {
      "image/png": "[encoded data removed]",
      "text/plain": [
       "<Figure size 720x504 with 1 Axes>"
      ]
     },
     "metadata": {
      "needs_background": "light"
     },
     "output_type": "display_data"
    },
    {
     "data": {
      "image/png": "[encoded data removed]",
      "text/plain": [
       "<Figure size 720x504 with 1 Axes>"
      ]
     },
     "metadata": {
      "needs_background": "light"
     },
     "output_type": "display_data"
    },
    {
     "data": {
      "image/png": "[encoded data removed]",
      "text/plain": [
       "<Figure size 720x504 with 1 Axes>"
      ]
     },
     "metadata": {
      "needs_background": "light"
     },
     "output_type": "display_data"
    },
    {
     "data": {
      "image/png": "[encoded data removed]",
      "text/plain": [
       "<Figure size 720x504 with 1 Axes>"
      ]
     },
     "metadata": {
      "needs_background": "light"
     },
     "output_type": "display_data"
    },
    {
     "data": {
      "image/png": "[encoded data removed]",
      "text/plain": [
       "<Figure size 720x504 with 1 Axes>"
      ]
     },
     "metadata": {
      "needs_background": "light"
     },
     "output_type": "display_data"
    },
    {
     "data": {
      "image/png": "[encoded data removed]",
      "text/plain": [
       "<Figure size 720x504 with 1 Axes>"
      ]
     },
     "metadata": {
      "needs_background": "light"
     },
     "output_type": "display_data"
    },
    {
     "data": {
      "image/png": "[encoded data removed]",
      "text/plain": [
       "<Figure size 720x504 with 1 Axes>"
      ]
     },
     "metadata": {
      "needs_background": "light"
     },
     "output_type": "display_data"
    },
    {
     "data": {
      "image/png": "[encoded data removed]",
      "text/plain": [
       "<Figure size 720x504 with 1 Axes>"
      ]
     },
     "metadata": {
      "needs_background": "light"
     },
     "output_type": "display_data"
    },
    {
     "data": {
      "image/png": "[encoded data removed]",
      "text/plain": [
       "<Figure size 720x504 with 1 Axes>"
      ]
     },
     "metadata": {
      "needs_background": "light"
     },
     "output_type": "display_data"
    }
   ],
   "source": [
    "explore.plot_all_categoricals_with_churn_rates(train)"
   ]
  },
  {
   "cell_type": "markdown",
   "metadata": {},
   "source": [
    "### Takeaways:\n",
    "\n",
    "- As predicted Month to Month customers are more likely to churn\n",
    "- Customers not receiving online security are churning at a higher rate\n",
    "- Customers not receiving device protection are churning at a higher rate\n",
    "- Customers not receiving online backup are churning at a higher rate\n",
    "- Customers who do not receive tech support are churning at a higher rate\n",
    "- Customers who receive paper bills are more likely to churn\n",
    "- Fiber Optics is more likely to churn - this is surprising since this is considered a premium service.\n",
    "- Customers who pay via electronic check are more likely to churn\n",
    "    \n"
   ]
  },
  {
   "cell_type": "markdown",
   "metadata": {},
   "source": [
    " ### Moving Forward\n",
    "- Check price thresholds of each of the above indicators of customers who are likely to churn with monthly charges\n",
    "- Check correlations of the above indicators of customers who are likely to churn to one another\n",
    "- Feature engineering to combine some features that are strongly correlated to each other\n",
    "- Look to see if churn rates of month-to-month customers at the end of 12 months is the same as those who are 1 year contracts whose tenure as reached 12 months"
   ]
  },
  {
   "cell_type": "markdown",
   "metadata": {},
   "source": [
    "## Price Threshold"
   ]
  },
  {
   "cell_type": "code",
   "execution_count": 23,
   "metadata": {},
   "outputs": [
    {
     "data": {
      "text/plain": [
       "customer_id                       object\n",
       "gender                            object\n",
       "senior_citizen                     int64\n",
       "partner                           object\n",
       "dependents                        object\n",
       "tenure                             int64\n",
       "phone_service                     object\n",
       "multiple_lines                    object\n",
       "online_security                   object\n",
       "online_backup                     object\n",
       "device_protection                 object\n",
       "tech_support                      object\n",
       "streaming_tv                      object\n",
       "streaming_movies                  object\n",
       "paperless_billing                 object\n",
       "monthly_charges                  float64\n",
       "total_charges                    float64\n",
       "churn                             object\n",
       "contract_type                     object\n",
       "internet_service_type             object\n",
       "payment_type                      object\n",
       "tenure_years                     float64\n",
       "contract_type_encoded              int64\n",
       "encoded_internet_service_type      int64\n",
       "churn_encoded                      int64\n",
       "payment_type_encoded               int64\n",
       "online_security_encoded            int64\n",
       "tech_support_encoded               int64\n",
       "device_protection_encoded          int64\n",
       "online_backup_encoded              int64\n",
       "dtype: object"
      ]
     },
     "execution_count": 23,
     "metadata": {},
     "output_type": "execute_result"
    }
   ],
   "source": [
    "train.dtypes"
   ]
  },
  {
   "cell_type": "code",
   "execution_count": 24,
   "metadata": {},
   "outputs": [],
   "source": [
    "df_tenure_of_one_year = train[train.tenure == 12]"
   ]
  },
  {
   "cell_type": "code",
   "execution_count": 25,
   "metadata": {},
   "outputs": [
    {
     "data": {
      "image/png": "[encoded data removed]",
      "text/plain": [
       "<Figure size 720x504 with 1 Axes>"
      ]
     },
     "metadata": {
      "needs_background": "light"
     },
     "output_type": "display_data"
    }
   ],
   "source": [
    "explore.plot_categorical_with_churn_rates(df_tenure_of_one_year, \"contract_type\")"
   ]
  },
  {
   "cell_type": "code",
   "execution_count": 26,
   "metadata": {},
   "outputs": [],
   "source": [
    "plt.rc('figure', figsize=(13, 10))\n",
    "plt.rc('font', size=13)"
   ]
  },
  {
   "cell_type": "markdown",
   "metadata": {},
   "source": [
    "**Questions Asked**\n",
    "\n",
    "If we looked at churn rate for month-to-month customers after the 12th month and that of 1-year contract customers after the 12th month, are those rates comparable?"
   ]
  },
  {
   "cell_type": "code",
   "execution_count": 1,
   "metadata": {},
   "outputs": [
    {
     "ename": "NameError",
     "evalue": "name 'df_tenure_of_one_year' is not defined",
     "output_type": "error",
     "traceback": [
      "\u001b[0;31m---------------------------------------------------------------------------\u001b[0m",
      "\u001b[0;31mNameError\u001b[0m                                 Traceback (most recent call last)",
      "\u001b[0;32m<ipython-input-1-9f434047bff8>\u001b[0m in \u001b[0;36m<module>\u001b[0;34m\u001b[0m\n\u001b[1;32m      2\u001b[0m \u001b[0mx1\u001b[0m \u001b[0;34m=\u001b[0m \u001b[0;34m\"contract_type\"\u001b[0m\u001b[0;34m\u001b[0m\u001b[0;34m\u001b[0m\u001b[0m\n\u001b[1;32m      3\u001b[0m \u001b[0mx2\u001b[0m \u001b[0;34m=\u001b[0m \u001b[0;34m\"churn\"\u001b[0m\u001b[0;34m\u001b[0m\u001b[0;34m\u001b[0m\u001b[0m\n\u001b[0;32m----> 4\u001b[0;31m (df_tenure_of_one_year.groupby(x1)[x2]\n\u001b[0m\u001b[1;32m      5\u001b[0m  \u001b[0;34m.\u001b[0m\u001b[0mapply\u001b[0m\u001b[0;34m(\u001b[0m\u001b[0;32mlambda\u001b[0m \u001b[0ms\u001b[0m\u001b[0;34m:\u001b[0m \u001b[0ms\u001b[0m\u001b[0;34m.\u001b[0m\u001b[0mvalue_counts\u001b[0m\u001b[0;34m(\u001b[0m\u001b[0mnormalize\u001b[0m\u001b[0;34m=\u001b[0m\u001b[0;32mTrue\u001b[0m\u001b[0;34m)\u001b[0m\u001b[0;34m)\u001b[0m \u001b[0;31m# custom aggregation to get value counts by group\u001b[0m\u001b[0;34m\u001b[0m\u001b[0;34m\u001b[0m\u001b[0m\n\u001b[1;32m      6\u001b[0m  \u001b[0;34m.\u001b[0m\u001b[0munstack\u001b[0m\u001b[0;34m(\u001b[0m\u001b[0;34m)\u001b[0m \u001b[0;31m# turn an index into columns\u001b[0m\u001b[0;34m\u001b[0m\u001b[0;34m\u001b[0m\u001b[0m\n",
      "\u001b[0;31mNameError\u001b[0m: name 'df_tenure_of_one_year' is not defined"
     ]
    }
   ],
   "source": [
    "# for every unique contract type, what is the churn percentage?\n",
    "x1 = \"contract_type\"\n",
    "x2 = \"churn\"\n",
    "(df_tenure_of_one_year.groupby(x1)[x2]\n",
    " .apply(lambda s: s.value_counts(normalize=True)) # custom aggregation to get value counts by group\n",
    " .unstack() # turn an index into columns\n",
    " .plot.bar(stacked=True, width=.9, color=\"m\"))\n",
    "plt.title(\"Churn percentage for each contract type at 12 months\")\n",
    "plt.legend(title=x2)\n",
    "plt.xticks(rotation=0)\n",
    "plt.xlabel('')"
   ]
  },
  {
   "cell_type": "markdown",
   "metadata": {},
   "source": [
    "### Takeaways\n",
    "- customers on month to month"
   ]
  },
  {
   "cell_type": "code",
   "execution_count": 28,
   "metadata": {},
   "outputs": [],
   "source": [
    "def churn_rate_for_contract_types_at_12_months(train):\n",
    "    x1 = \"contract_type\"\n",
    "    x2 = \"churn\"\n",
    "    (train.groupby(x1)[x2]\n",
    "     .apply(lambda s: s.value_counts(normalize=True)) # custom aggregation to get value counts by group\n",
    "     .unstack() # turn an index into columns\n",
    "     .plot.bar(stacked=True, width=.9, color=\"bg\"))\n",
    "    plt.title(\"Churn percentage for each contract type at 12 months\")\n",
    "    plt.legend(title=x2)\n",
    "    plt.xticks(rotation=0)\n",
    "    plt.xlabel('')"
   ]
  },
  {
   "cell_type": "code",
   "execution_count": 29,
   "metadata": {},
   "outputs": [
    {
     "data": {
      "image/png": "[encoded data removed]",
      "text/plain": [
       "<Figure size 936x720 with 1 Axes>"
      ]
     },
     "metadata": {
      "needs_background": "light"
     },
     "output_type": "display_data"
    }
   ],
   "source": [
    "churn_rate_for_contract_types_at_12_months(df_tenure_of_one_year)"
   ]
  },
  {
   "cell_type": "code",
   "execution_count": 30,
   "metadata": {},
   "outputs": [],
   "source": [
    "#Let's look at the mean median and mode of monthly charges and total charges for each contract type"
   ]
  },
  {
   "cell_type": "code",
   "execution_count": 31,
   "metadata": {},
   "outputs": [],
   "source": [
    "monthly_charges_mean = pd.DataFrame((train.groupby(\"contract_type\")).monthly_charges.mean())\n",
    "monthly_charges_mean.columns = ['Mean monthly charges']"
   ]
  },
  {
   "cell_type": "code",
   "execution_count": 32,
   "metadata": {},
   "outputs": [],
   "source": [
    "monthly_charges_median = pd.DataFrame((train.groupby(\"contract_type\")).monthly_charges.median())\n",
    "monthly_charges_median.columns = ['Median monthly charges']"
   ]
  },
  {
   "cell_type": "code",
   "execution_count": 33,
   "metadata": {},
   "outputs": [],
   "source": [
    "monthly_charges_max = pd.DataFrame((train.groupby(\"contract_type\")).monthly_charges.max())\n",
    "monthly_charges_max.columns = ['Max monthly charges']"
   ]
  },
  {
   "cell_type": "code",
   "execution_count": 34,
   "metadata": {},
   "outputs": [],
   "source": [
    "monthly_charges_min = pd.DataFrame((train.groupby(\"contract_type\")).monthly_charges.min())\n",
    "monthly_charges_min.columns = ['Min monthly charges']"
   ]
  },
  {
   "cell_type": "code",
   "execution_count": 35,
   "metadata": {},
   "outputs": [],
   "source": [
    "monthly_charges_std = pd.DataFrame((train.groupby(\"contract_type\")).monthly_charges.std())\n",
    "monthly_charges_std.columns = ['STD monthly charges']"
   ]
  },
  {
   "cell_type": "code",
   "execution_count": 36,
   "metadata": {},
   "outputs": [],
   "source": [
    "summary1 = pd.merge(monthly_charges_mean, monthly_charges_median, left_index=True, right_index=True)"
   ]
  },
  {
   "cell_type": "code",
   "execution_count": 37,
   "metadata": {},
   "outputs": [],
   "source": [
    "summary2 = pd.merge(monthly_charges_max , monthly_charges_min, left_index=True, right_index=True)"
   ]
  },
  {
   "cell_type": "code",
   "execution_count": 38,
   "metadata": {},
   "outputs": [],
   "source": [
    "summary3 = pd.merge(summary1 , summary2 , left_index=True, right_index=True)"
   ]
  },
  {
   "cell_type": "code",
   "execution_count": 39,
   "metadata": {},
   "outputs": [
    {
     "data": {
      "text/html": [
       "<div>\n",
       "<style scoped>\n",
       "    .dataframe tbody tr th:only-of-type {\n",
       "        vertical-align: middle;\n",
       "    }\n",
       "\n",
       "    .dataframe tbody tr th {\n",
       "        vertical-align: top;\n",
       "    }\n",
       "\n",
       "    .dataframe thead th {\n",
       "        text-align: right;\n",
       "    }\n",
       "</style>\n",
       "<table border=\"1\" class=\"dataframe\">\n",
       "  <thead>\n",
       "    <tr style=\"text-align: right;\">\n",
       "      <th></th>\n",
       "      <th>Mean monthly charges</th>\n",
       "      <th>Median monthly charges</th>\n",
       "      <th>Max monthly charges</th>\n",
       "      <th>Min monthly charges</th>\n",
       "      <th>STD monthly charges</th>\n",
       "    </tr>\n",
       "    <tr>\n",
       "      <th>contract_type</th>\n",
       "      <th></th>\n",
       "      <th></th>\n",
       "      <th></th>\n",
       "      <th></th>\n",
       "      <th></th>\n",
       "    </tr>\n",
       "  </thead>\n",
       "  <tbody>\n",
       "    <tr>\n",
       "      <th>Month-to-month</th>\n",
       "      <td>66.105894</td>\n",
       "      <td>73.075</td>\n",
       "      <td>116.50</td>\n",
       "      <td>18.80</td>\n",
       "      <td>26.719017</td>\n",
       "    </tr>\n",
       "    <tr>\n",
       "      <th>One year</th>\n",
       "      <td>65.155407</td>\n",
       "      <td>67.275</td>\n",
       "      <td>118.60</td>\n",
       "      <td>18.25</td>\n",
       "      <td>31.871457</td>\n",
       "    </tr>\n",
       "    <tr>\n",
       "      <th>Two year</th>\n",
       "      <td>61.439574</td>\n",
       "      <td>64.700</td>\n",
       "      <td>118.75</td>\n",
       "      <td>18.55</td>\n",
       "      <td>34.469041</td>\n",
       "    </tr>\n",
       "  </tbody>\n",
       "</table>\n",
       "</div>"
      ],
      "text/plain": [
       "                Mean monthly charges  Median monthly charges  \\\n",
       "contract_type                                                  \n",
       "Month-to-month             66.105894                  73.075   \n",
       "One year                   65.155407                  67.275   \n",
       "Two year                   61.439574                  64.700   \n",
       "\n",
       "                Max monthly charges  Min monthly charges  STD monthly charges  \n",
       "contract_type                                                                  \n",
       "Month-to-month               116.50                18.80            26.719017  \n",
       "One year                     118.60                18.25            31.871457  \n",
       "Two year                     118.75                18.55            34.469041  "
      ]
     },
     "execution_count": 39,
     "metadata": {},
     "output_type": "execute_result"
    }
   ],
   "source": [
    "pd.merge(summary3 , monthly_charges_std, left_index=True, right_index=True)"
   ]
  },
  {
   "cell_type": "markdown",
   "metadata": {},
   "source": [
    "Takeaways: prices seem to be evenly distributed between all contract types"
   ]
  },
  {
   "cell_type": "code",
   "execution_count": 40,
   "metadata": {},
   "outputs": [],
   "source": [
    "def stats_for_contract_types(train):\n",
    "    '''\n",
    "    Takes in a training dataframe and returns a new dataframe with the following:\n",
    "    Min, max, std, median for each contract type\n",
    "    '''\n",
    "    \n",
    "    monthly_charges_mean = pd.DataFrame((train.groupby(\"contract_type\")).monthly_charges.mean())\n",
    "    monthly_charges_mean.columns = ['Mean monthly charges']\n",
    "    \n",
    "    monthly_charges_median = pd.DataFrame((train.groupby(\"contract_type\")).monthly_charges.median())\n",
    "    monthly_charges_median.columns = ['Median monthly charges']\n",
    "    \n",
    "    monthly_charges_max = pd.DataFrame((train.groupby(\"contract_type\")).monthly_charges.max())\n",
    "    monthly_charges_max.columns = ['Max monthly charges']\n",
    "    \n",
    "    monthly_charges_min = pd.DataFrame((train.groupby(\"contract_type\")).monthly_charges.min())\n",
    "    monthly_charges_min.columns = ['Min monthly charges']\n",
    "    \n",
    "    monthly_charges_std = pd.DataFrame((train.groupby(\"contract_type\")).monthly_charges.std())\n",
    "    monthly_charges_std.columns = ['STD monthly charges']\n",
    "    \n",
    "    summary1 = pd.merge(monthly_charges_mean, monthly_charges_median, left_index=True, right_index=True)\n",
    "    \n",
    "    summary2 = pd.merge(monthly_charges_max , monthly_charges_min, left_index=True, right_index=True)\n",
    "    \n",
    "    summary3 = pd.merge(summary1 , summary2 , left_index=True, right_index=True)\n",
    "    \n",
    "    df = pd.merge(summary3 , monthly_charges_std, left_index=True, right_index=True)\n",
    "    \n",
    "    return df"
   ]
  },
  {
   "cell_type": "code",
   "execution_count": 41,
   "metadata": {},
   "outputs": [],
   "source": [
    "df = stats_for_contract_types(train)"
   ]
  },
  {
   "cell_type": "code",
   "execution_count": 42,
   "metadata": {},
   "outputs": [
    {
     "data": {
      "text/html": [
       "<div>\n",
       "<style scoped>\n",
       "    .dataframe tbody tr th:only-of-type {\n",
       "        vertical-align: middle;\n",
       "    }\n",
       "\n",
       "    .dataframe tbody tr th {\n",
       "        vertical-align: top;\n",
       "    }\n",
       "\n",
       "    .dataframe thead th {\n",
       "        text-align: right;\n",
       "    }\n",
       "</style>\n",
       "<table border=\"1\" class=\"dataframe\">\n",
       "  <thead>\n",
       "    <tr style=\"text-align: right;\">\n",
       "      <th></th>\n",
       "      <th>Mean monthly charges</th>\n",
       "      <th>Median monthly charges</th>\n",
       "      <th>Max monthly charges</th>\n",
       "      <th>Min monthly charges</th>\n",
       "      <th>STD monthly charges</th>\n",
       "    </tr>\n",
       "    <tr>\n",
       "      <th>contract_type</th>\n",
       "      <th></th>\n",
       "      <th></th>\n",
       "      <th></th>\n",
       "      <th></th>\n",
       "      <th></th>\n",
       "    </tr>\n",
       "  </thead>\n",
       "  <tbody>\n",
       "    <tr>\n",
       "      <th>Month-to-month</th>\n",
       "      <td>66.105894</td>\n",
       "      <td>73.075</td>\n",
       "      <td>116.50</td>\n",
       "      <td>18.80</td>\n",
       "      <td>26.719017</td>\n",
       "    </tr>\n",
       "    <tr>\n",
       "      <th>One year</th>\n",
       "      <td>65.155407</td>\n",
       "      <td>67.275</td>\n",
       "      <td>118.60</td>\n",
       "      <td>18.25</td>\n",
       "      <td>31.871457</td>\n",
       "    </tr>\n",
       "    <tr>\n",
       "      <th>Two year</th>\n",
       "      <td>61.439574</td>\n",
       "      <td>64.700</td>\n",
       "      <td>118.75</td>\n",
       "      <td>18.55</td>\n",
       "      <td>34.469041</td>\n",
       "    </tr>\n",
       "  </tbody>\n",
       "</table>\n",
       "</div>"
      ],
      "text/plain": [
       "                Mean monthly charges  Median monthly charges  \\\n",
       "contract_type                                                  \n",
       "Month-to-month             66.105894                  73.075   \n",
       "One year                   65.155407                  67.275   \n",
       "Two year                   61.439574                  64.700   \n",
       "\n",
       "                Max monthly charges  Min monthly charges  STD monthly charges  \n",
       "contract_type                                                                  \n",
       "Month-to-month               116.50                18.80            26.719017  \n",
       "One year                     118.60                18.25            31.871457  \n",
       "Two year                     118.75                18.55            34.469041  "
      ]
     },
     "execution_count": 42,
     "metadata": {},
     "output_type": "execute_result"
    }
   ],
   "source": [
    "df"
   ]
  },
  {
   "cell_type": "code",
   "execution_count": 43,
   "metadata": {},
   "outputs": [
    {
     "data": {
      "text/html": [
       "<div>\n",
       "<style scoped>\n",
       "    .dataframe tbody tr th:only-of-type {\n",
       "        vertical-align: middle;\n",
       "    }\n",
       "\n",
       "    .dataframe tbody tr th {\n",
       "        vertical-align: top;\n",
       "    }\n",
       "\n",
       "    .dataframe thead th {\n",
       "        text-align: right;\n",
       "    }\n",
       "</style>\n",
       "<table border=\"1\" class=\"dataframe\">\n",
       "  <thead>\n",
       "    <tr style=\"text-align: right;\">\n",
       "      <th></th>\n",
       "      <th>churn_encoded</th>\n",
       "      <th>monthly_charges</th>\n",
       "      <th>tenure</th>\n",
       "      <th>total_charges</th>\n",
       "    </tr>\n",
       "    <tr>\n",
       "      <th>senior_citizen</th>\n",
       "      <th></th>\n",
       "      <th></th>\n",
       "      <th></th>\n",
       "      <th></th>\n",
       "    </tr>\n",
       "  </thead>\n",
       "  <tbody>\n",
       "    <tr>\n",
       "      <th>0</th>\n",
       "      <td>0.239096</td>\n",
       "      <td>62.017301</td>\n",
       "      <td>31.742553</td>\n",
       "      <td>2158.213085</td>\n",
       "    </tr>\n",
       "    <tr>\n",
       "      <th>1</th>\n",
       "      <td>0.406961</td>\n",
       "      <td>78.757028</td>\n",
       "      <td>32.951807</td>\n",
       "      <td>2749.160977</td>\n",
       "    </tr>\n",
       "  </tbody>\n",
       "</table>\n",
       "</div>"
      ],
      "text/plain": [
       "                churn_encoded  monthly_charges     tenure  total_charges\n",
       "senior_citizen                                                          \n",
       "0                    0.239096        62.017301  31.742553    2158.213085\n",
       "1                    0.406961        78.757028  32.951807    2749.160977"
      ]
     },
     "execution_count": 43,
     "metadata": {},
     "output_type": "execute_result"
    }
   ],
   "source": [
    "train.groupby([\"senior_citizen\"])[[\"churn_encoded\",\"monthly_charges\",\"tenure\",\"total_charges\"]].mean()"
   ]
  },
  {
   "cell_type": "code",
   "execution_count": 44,
   "metadata": {},
   "outputs": [
    {
     "data": {
      "text/plain": [
       "0.16574217883292655"
      ]
     },
     "execution_count": 44,
     "metadata": {},
     "output_type": "execute_result"
    }
   ],
   "source": [
    "train.senior_citizen.mean()"
   ]
  },
  {
   "cell_type": "markdown",
   "metadata": {},
   "source": [
    "**Takeaways**:\n",
    "\n",
    "Senior Citizens make up approximately 17% percent of our customer base and of those approximately 41% are churning. They also have higher monthly charges compared to non-seniors (roughly $17 more)\n",
    "\n",
    "They are not our target market but maybe offering some incentives to keep them from churning like a discount on monthly charges based on their tenure\n"
   ]
  },
  {
   "cell_type": "code",
   "execution_count": 45,
   "metadata": {},
   "outputs": [],
   "source": [
    "## Feature engineering"
   ]
  },
  {
   "cell_type": "code",
   "execution_count": 46,
   "metadata": {},
   "outputs": [],
   "source": [
    "train, test, validate = features.online_features(train, test, validate)"
   ]
  },
  {
   "cell_type": "code",
   "execution_count": 47,
   "metadata": {},
   "outputs": [
    {
     "data": {
      "text/plain": [
       "customer_id                       object\n",
       "gender                            object\n",
       "senior_citizen                     int64\n",
       "partner                           object\n",
       "dependents                        object\n",
       "tenure                             int64\n",
       "phone_service                     object\n",
       "multiple_lines                    object\n",
       "online_security                   object\n",
       "online_backup                     object\n",
       "device_protection                 object\n",
       "tech_support                      object\n",
       "streaming_tv                      object\n",
       "streaming_movies                  object\n",
       "paperless_billing                 object\n",
       "monthly_charges                  float64\n",
       "total_charges                    float64\n",
       "churn                             object\n",
       "contract_type                     object\n",
       "internet_service_type             object\n",
       "payment_type                      object\n",
       "tenure_years                     float64\n",
       "contract_type_encoded              int64\n",
       "encoded_internet_service_type      int64\n",
       "churn_encoded                      int64\n",
       "payment_type_encoded               int64\n",
       "online_security_encoded            int64\n",
       "tech_support_encoded               int64\n",
       "device_protection_encoded          int64\n",
       "online_backup_encoded              int64\n",
       "online_features                    int64\n",
       "dtype: object"
      ]
     },
     "execution_count": 47,
     "metadata": {},
     "output_type": "execute_result"
    }
   ],
   "source": [
    "train.dtypes"
   ]
  },
  {
   "cell_type": "code",
   "execution_count": 48,
   "metadata": {},
   "outputs": [],
   "source": [
    "df = train[[\"churn\", \"churn_encoded\", \"contract_type_encoded\", \"online_features\"]]"
   ]
  },
  {
   "cell_type": "code",
   "execution_count": 49,
   "metadata": {},
   "outputs": [
    {
     "data": {
      "text/html": [
       "<div>\n",
       "<style scoped>\n",
       "    .dataframe tbody tr th:only-of-type {\n",
       "        vertical-align: middle;\n",
       "    }\n",
       "\n",
       "    .dataframe tbody tr th {\n",
       "        vertical-align: top;\n",
       "    }\n",
       "\n",
       "    .dataframe thead th {\n",
       "        text-align: right;\n",
       "    }\n",
       "</style>\n",
       "<table border=\"1\" class=\"dataframe\">\n",
       "  <thead>\n",
       "    <tr style=\"text-align: right;\">\n",
       "      <th></th>\n",
       "      <th>churn_encoded</th>\n",
       "      <th>contract_type_encoded</th>\n",
       "      <th>online_features</th>\n",
       "    </tr>\n",
       "  </thead>\n",
       "  <tbody>\n",
       "    <tr>\n",
       "      <th>churn_encoded</th>\n",
       "      <td>1.000000</td>\n",
       "      <td>-0.392097</td>\n",
       "      <td>-0.342899</td>\n",
       "    </tr>\n",
       "    <tr>\n",
       "      <th>contract_type_encoded</th>\n",
       "      <td>-0.392097</td>\n",
       "      <td>1.000000</td>\n",
       "      <td>0.550483</td>\n",
       "    </tr>\n",
       "    <tr>\n",
       "      <th>online_features</th>\n",
       "      <td>-0.342899</td>\n",
       "      <td>0.550483</td>\n",
       "      <td>1.000000</td>\n",
       "    </tr>\n",
       "  </tbody>\n",
       "</table>\n",
       "</div>"
      ],
      "text/plain": [
       "                       churn_encoded  contract_type_encoded  online_features\n",
       "churn_encoded               1.000000              -0.392097        -0.342899\n",
       "contract_type_encoded      -0.392097               1.000000         0.550483\n",
       "online_features            -0.342899               0.550483         1.000000"
      ]
     },
     "execution_count": 49,
     "metadata": {},
     "output_type": "execute_result"
    }
   ],
   "source": [
    "df.corr()"
   ]
  },
  {
   "cell_type": "code",
   "execution_count": 51,
   "metadata": {},
   "outputs": [],
   "source": [
    "def encode_all_columns_for_train_df(train):\n",
    "    '''Takes in all columns from training dataset and encodes them\n",
    "    return new columns for each column encoded'''\n",
    "    for column in train.columns:\n",
    "        le = LabelEncoder()\n",
    "        le.fit(train[column])\n",
    "        train[\"encoded_\" + column] = le.transform(train[column])\n",
    "\n",
    "def drop_useless_encoded_columns(df):\n",
    "    '''Drops uneeded encoded columns'''\n",
    "    df.drop(columns=['encoded_tenure_years', 'encoded_tenure', 'encoded_monthly_charges', 'encoded_total_charges'], inplace=True)\n",
    "    return df"
   ]
  },
  {
   "cell_type": "code",
   "execution_count": 52,
   "metadata": {},
   "outputs": [
    {
     "data": {
      "text/html": [
       "<div>\n",
       "<style scoped>\n",
       "    .dataframe tbody tr th:only-of-type {\n",
       "        vertical-align: middle;\n",
       "    }\n",
       "\n",
       "    .dataframe tbody tr th {\n",
       "        vertical-align: top;\n",
       "    }\n",
       "\n",
       "    .dataframe thead th {\n",
       "        text-align: right;\n",
       "    }\n",
       "</style>\n",
       "<table border=\"1\" class=\"dataframe\">\n",
       "  <thead>\n",
       "    <tr style=\"text-align: right;\">\n",
       "      <th></th>\n",
       "      <th>customer_id</th>\n",
       "      <th>gender</th>\n",
       "      <th>senior_citizen</th>\n",
       "      <th>partner</th>\n",
       "      <th>dependents</th>\n",
       "      <th>tenure</th>\n",
       "      <th>phone_service</th>\n",
       "      <th>multiple_lines</th>\n",
       "      <th>online_security</th>\n",
       "      <th>online_backup</th>\n",
       "      <th>...</th>\n",
       "      <th>encoded_payment_type</th>\n",
       "      <th>encoded_contract_type_encoded</th>\n",
       "      <th>encoded_encoded_internet_service_type</th>\n",
       "      <th>encoded_churn_encoded</th>\n",
       "      <th>encoded_payment_type_encoded</th>\n",
       "      <th>encoded_online_security_encoded</th>\n",
       "      <th>encoded_tech_support_encoded</th>\n",
       "      <th>encoded_device_protection_encoded</th>\n",
       "      <th>encoded_online_backup_encoded</th>\n",
       "      <th>encoded_online_features</th>\n",
       "    </tr>\n",
       "  </thead>\n",
       "  <tbody>\n",
       "    <tr>\n",
       "      <th>1249</th>\n",
       "      <td>0484-FFVBJ</td>\n",
       "      <td>Male</td>\n",
       "      <td>0</td>\n",
       "      <td>No</td>\n",
       "      <td>No</td>\n",
       "      <td>32</td>\n",
       "      <td>Yes</td>\n",
       "      <td>No</td>\n",
       "      <td>No</td>\n",
       "      <td>No</td>\n",
       "      <td>...</td>\n",
       "      <td>0</td>\n",
       "      <td>1</td>\n",
       "      <td>0</td>\n",
       "      <td>0</td>\n",
       "      <td>0</td>\n",
       "      <td>0</td>\n",
       "      <td>0</td>\n",
       "      <td>0</td>\n",
       "      <td>0</td>\n",
       "      <td>0</td>\n",
       "    </tr>\n",
       "    <tr>\n",
       "      <th>6265</th>\n",
       "      <td>6096-EGVTU</td>\n",
       "      <td>Female</td>\n",
       "      <td>0</td>\n",
       "      <td>Yes</td>\n",
       "      <td>Yes</td>\n",
       "      <td>64</td>\n",
       "      <td>Yes</td>\n",
       "      <td>Yes</td>\n",
       "      <td>No internet service</td>\n",
       "      <td>No internet service</td>\n",
       "      <td>...</td>\n",
       "      <td>3</td>\n",
       "      <td>1</td>\n",
       "      <td>2</td>\n",
       "      <td>0</td>\n",
       "      <td>3</td>\n",
       "      <td>1</td>\n",
       "      <td>1</td>\n",
       "      <td>1</td>\n",
       "      <td>1</td>\n",
       "      <td>2</td>\n",
       "    </tr>\n",
       "    <tr>\n",
       "      <th>3772</th>\n",
       "      <td>6178-KFNHS</td>\n",
       "      <td>Female</td>\n",
       "      <td>0</td>\n",
       "      <td>No</td>\n",
       "      <td>Yes</td>\n",
       "      <td>12</td>\n",
       "      <td>Yes</td>\n",
       "      <td>Yes</td>\n",
       "      <td>Yes</td>\n",
       "      <td>No</td>\n",
       "      <td>...</td>\n",
       "      <td>2</td>\n",
       "      <td>0</td>\n",
       "      <td>1</td>\n",
       "      <td>1</td>\n",
       "      <td>2</td>\n",
       "      <td>2</td>\n",
       "      <td>0</td>\n",
       "      <td>0</td>\n",
       "      <td>0</td>\n",
       "      <td>1</td>\n",
       "    </tr>\n",
       "    <tr>\n",
       "      <th>3391</th>\n",
       "      <td>4529-CKBCL</td>\n",
       "      <td>Female</td>\n",
       "      <td>0</td>\n",
       "      <td>No</td>\n",
       "      <td>No</td>\n",
       "      <td>2</td>\n",
       "      <td>Yes</td>\n",
       "      <td>No</td>\n",
       "      <td>No</td>\n",
       "      <td>No</td>\n",
       "      <td>...</td>\n",
       "      <td>2</td>\n",
       "      <td>0</td>\n",
       "      <td>1</td>\n",
       "      <td>1</td>\n",
       "      <td>2</td>\n",
       "      <td>0</td>\n",
       "      <td>0</td>\n",
       "      <td>0</td>\n",
       "      <td>0</td>\n",
       "      <td>0</td>\n",
       "    </tr>\n",
       "    <tr>\n",
       "      <th>6795</th>\n",
       "      <td>6048-NJXHX</td>\n",
       "      <td>Male</td>\n",
       "      <td>0</td>\n",
       "      <td>Yes</td>\n",
       "      <td>No</td>\n",
       "      <td>41</td>\n",
       "      <td>Yes</td>\n",
       "      <td>No</td>\n",
       "      <td>No internet service</td>\n",
       "      <td>No internet service</td>\n",
       "      <td>...</td>\n",
       "      <td>2</td>\n",
       "      <td>2</td>\n",
       "      <td>2</td>\n",
       "      <td>0</td>\n",
       "      <td>2</td>\n",
       "      <td>1</td>\n",
       "      <td>1</td>\n",
       "      <td>1</td>\n",
       "      <td>1</td>\n",
       "      <td>2</td>\n",
       "    </tr>\n",
       "    <tr>\n",
       "      <th>...</th>\n",
       "      <td>...</td>\n",
       "      <td>...</td>\n",
       "      <td>...</td>\n",
       "      <td>...</td>\n",
       "      <td>...</td>\n",
       "      <td>...</td>\n",
       "      <td>...</td>\n",
       "      <td>...</td>\n",
       "      <td>...</td>\n",
       "      <td>...</td>\n",
       "      <td>...</td>\n",
       "      <td>...</td>\n",
       "      <td>...</td>\n",
       "      <td>...</td>\n",
       "      <td>...</td>\n",
       "      <td>...</td>\n",
       "      <td>...</td>\n",
       "      <td>...</td>\n",
       "      <td>...</td>\n",
       "      <td>...</td>\n",
       "      <td>...</td>\n",
       "    </tr>\n",
       "    <tr>\n",
       "      <th>1794</th>\n",
       "      <td>0017-DINOC</td>\n",
       "      <td>Male</td>\n",
       "      <td>0</td>\n",
       "      <td>No</td>\n",
       "      <td>No</td>\n",
       "      <td>54</td>\n",
       "      <td>No</td>\n",
       "      <td>No phone service</td>\n",
       "      <td>Yes</td>\n",
       "      <td>No</td>\n",
       "      <td>...</td>\n",
       "      <td>1</td>\n",
       "      <td>2</td>\n",
       "      <td>0</td>\n",
       "      <td>0</td>\n",
       "      <td>1</td>\n",
       "      <td>2</td>\n",
       "      <td>2</td>\n",
       "      <td>0</td>\n",
       "      <td>0</td>\n",
       "      <td>3</td>\n",
       "    </tr>\n",
       "    <tr>\n",
       "      <th>817</th>\n",
       "      <td>6629-CZTTH</td>\n",
       "      <td>Male</td>\n",
       "      <td>0</td>\n",
       "      <td>No</td>\n",
       "      <td>No</td>\n",
       "      <td>1</td>\n",
       "      <td>Yes</td>\n",
       "      <td>No</td>\n",
       "      <td>No</td>\n",
       "      <td>No</td>\n",
       "      <td>...</td>\n",
       "      <td>3</td>\n",
       "      <td>0</td>\n",
       "      <td>0</td>\n",
       "      <td>1</td>\n",
       "      <td>3</td>\n",
       "      <td>0</td>\n",
       "      <td>0</td>\n",
       "      <td>0</td>\n",
       "      <td>0</td>\n",
       "      <td>0</td>\n",
       "    </tr>\n",
       "    <tr>\n",
       "      <th>901</th>\n",
       "      <td>7377-DMMRI</td>\n",
       "      <td>Male</td>\n",
       "      <td>0</td>\n",
       "      <td>No</td>\n",
       "      <td>No</td>\n",
       "      <td>2</td>\n",
       "      <td>Yes</td>\n",
       "      <td>No</td>\n",
       "      <td>Yes</td>\n",
       "      <td>No</td>\n",
       "      <td>...</td>\n",
       "      <td>2</td>\n",
       "      <td>0</td>\n",
       "      <td>0</td>\n",
       "      <td>1</td>\n",
       "      <td>2</td>\n",
       "      <td>2</td>\n",
       "      <td>0</td>\n",
       "      <td>0</td>\n",
       "      <td>0</td>\n",
       "      <td>1</td>\n",
       "    </tr>\n",
       "    <tr>\n",
       "      <th>1987</th>\n",
       "      <td>3400-ESFUW</td>\n",
       "      <td>Male</td>\n",
       "      <td>0</td>\n",
       "      <td>Yes</td>\n",
       "      <td>Yes</td>\n",
       "      <td>55</td>\n",
       "      <td>Yes</td>\n",
       "      <td>No</td>\n",
       "      <td>Yes</td>\n",
       "      <td>Yes</td>\n",
       "      <td>...</td>\n",
       "      <td>0</td>\n",
       "      <td>2</td>\n",
       "      <td>0</td>\n",
       "      <td>1</td>\n",
       "      <td>0</td>\n",
       "      <td>2</td>\n",
       "      <td>2</td>\n",
       "      <td>0</td>\n",
       "      <td>2</td>\n",
       "      <td>3</td>\n",
       "    </tr>\n",
       "    <tr>\n",
       "      <th>6958</th>\n",
       "      <td>8612-GXIDD</td>\n",
       "      <td>Male</td>\n",
       "      <td>0</td>\n",
       "      <td>Yes</td>\n",
       "      <td>Yes</td>\n",
       "      <td>12</td>\n",
       "      <td>Yes</td>\n",
       "      <td>Yes</td>\n",
       "      <td>No internet service</td>\n",
       "      <td>No internet service</td>\n",
       "      <td>...</td>\n",
       "      <td>0</td>\n",
       "      <td>2</td>\n",
       "      <td>2</td>\n",
       "      <td>0</td>\n",
       "      <td>0</td>\n",
       "      <td>1</td>\n",
       "      <td>1</td>\n",
       "      <td>1</td>\n",
       "      <td>1</td>\n",
       "      <td>2</td>\n",
       "    </tr>\n",
       "  </tbody>\n",
       "</table>\n",
       "<p>4507 rows × 57 columns</p>\n",
       "</div>"
      ],
      "text/plain": [
       "     customer_id  gender  senior_citizen partner dependents  tenure  \\\n",
       "1249  0484-FFVBJ    Male               0      No         No      32   \n",
       "6265  6096-EGVTU  Female               0     Yes        Yes      64   \n",
       "3772  6178-KFNHS  Female               0      No        Yes      12   \n",
       "3391  4529-CKBCL  Female               0      No         No       2   \n",
       "6795  6048-NJXHX    Male               0     Yes         No      41   \n",
       "...          ...     ...             ...     ...        ...     ...   \n",
       "1794  0017-DINOC    Male               0      No         No      54   \n",
       "817   6629-CZTTH    Male               0      No         No       1   \n",
       "901   7377-DMMRI    Male               0      No         No       2   \n",
       "1987  3400-ESFUW    Male               0     Yes        Yes      55   \n",
       "6958  8612-GXIDD    Male               0     Yes        Yes      12   \n",
       "\n",
       "     phone_service    multiple_lines      online_security  \\\n",
       "1249           Yes                No                   No   \n",
       "6265           Yes               Yes  No internet service   \n",
       "3772           Yes               Yes                  Yes   \n",
       "3391           Yes                No                   No   \n",
       "6795           Yes                No  No internet service   \n",
       "...            ...               ...                  ...   \n",
       "1794            No  No phone service                  Yes   \n",
       "817            Yes                No                   No   \n",
       "901            Yes                No                  Yes   \n",
       "1987           Yes                No                  Yes   \n",
       "6958           Yes               Yes  No internet service   \n",
       "\n",
       "            online_backup  ... encoded_payment_type  \\\n",
       "1249                   No  ...                    0   \n",
       "6265  No internet service  ...                    3   \n",
       "3772                   No  ...                    2   \n",
       "3391                   No  ...                    2   \n",
       "6795  No internet service  ...                    2   \n",
       "...                   ...  ...                  ...   \n",
       "1794                   No  ...                    1   \n",
       "817                    No  ...                    3   \n",
       "901                    No  ...                    2   \n",
       "1987                  Yes  ...                    0   \n",
       "6958  No internet service  ...                    0   \n",
       "\n",
       "     encoded_contract_type_encoded encoded_encoded_internet_service_type  \\\n",
       "1249                             1                                     0   \n",
       "6265                             1                                     2   \n",
       "3772                             0                                     1   \n",
       "3391                             0                                     1   \n",
       "6795                             2                                     2   \n",
       "...                            ...                                   ...   \n",
       "1794                             2                                     0   \n",
       "817                              0                                     0   \n",
       "901                              0                                     0   \n",
       "1987                             2                                     0   \n",
       "6958                             2                                     2   \n",
       "\n",
       "     encoded_churn_encoded encoded_payment_type_encoded  \\\n",
       "1249                     0                            0   \n",
       "6265                     0                            3   \n",
       "3772                     1                            2   \n",
       "3391                     1                            2   \n",
       "6795                     0                            2   \n",
       "...                    ...                          ...   \n",
       "1794                     0                            1   \n",
       "817                      1                            3   \n",
       "901                      1                            2   \n",
       "1987                     1                            0   \n",
       "6958                     0                            0   \n",
       "\n",
       "      encoded_online_security_encoded  encoded_tech_support_encoded  \\\n",
       "1249                                0                             0   \n",
       "6265                                1                             1   \n",
       "3772                                2                             0   \n",
       "3391                                0                             0   \n",
       "6795                                1                             1   \n",
       "...                               ...                           ...   \n",
       "1794                                2                             2   \n",
       "817                                 0                             0   \n",
       "901                                 2                             0   \n",
       "1987                                2                             2   \n",
       "6958                                1                             1   \n",
       "\n",
       "     encoded_device_protection_encoded encoded_online_backup_encoded  \\\n",
       "1249                                 0                             0   \n",
       "6265                                 1                             1   \n",
       "3772                                 0                             0   \n",
       "3391                                 0                             0   \n",
       "6795                                 1                             1   \n",
       "...                                ...                           ...   \n",
       "1794                                 0                             0   \n",
       "817                                  0                             0   \n",
       "901                                  0                             0   \n",
       "1987                                 0                             2   \n",
       "6958                                 1                             1   \n",
       "\n",
       "     encoded_online_features  \n",
       "1249                       0  \n",
       "6265                       2  \n",
       "3772                       1  \n",
       "3391                       0  \n",
       "6795                       2  \n",
       "...                      ...  \n",
       "1794                       3  \n",
       "817                        0  \n",
       "901                        1  \n",
       "1987                       3  \n",
       "6958                       2  \n",
       "\n",
       "[4507 rows x 57 columns]"
      ]
     },
     "execution_count": 52,
     "metadata": {},
     "output_type": "execute_result"
    }
   ],
   "source": [
    "encode_all_columns_for_train_df(train)\n",
    "drop_useless_encoded_columns(train)\n"
   ]
  },
  {
   "cell_type": "code",
   "execution_count": 53,
   "metadata": {},
   "outputs": [
    {
     "data": {
      "text/plain": [
       "Index(['customer_id', 'gender', 'senior_citizen', 'partner', 'dependents',\n",
       "       'tenure', 'phone_service', 'multiple_lines', 'online_security',\n",
       "       'online_backup', 'device_protection', 'tech_support', 'streaming_tv',\n",
       "       'streaming_movies', 'paperless_billing', 'monthly_charges',\n",
       "       'total_charges', 'churn', 'contract_type', 'internet_service_type',\n",
       "       'payment_type', 'tenure_years', 'contract_type_encoded',\n",
       "       'encoded_internet_service_type', 'churn_encoded',\n",
       "       'payment_type_encoded', 'online_security_encoded',\n",
       "       'tech_support_encoded', 'device_protection_encoded',\n",
       "       'online_backup_encoded', 'online_features', 'encoded_customer_id',\n",
       "       'encoded_gender', 'encoded_senior_citizen', 'encoded_partner',\n",
       "       'encoded_dependents', 'encoded_phone_service', 'encoded_multiple_lines',\n",
       "       'encoded_online_security', 'encoded_online_backup',\n",
       "       'encoded_device_protection', 'encoded_tech_support',\n",
       "       'encoded_streaming_tv', 'encoded_streaming_movies',\n",
       "       'encoded_paperless_billing', 'encoded_churn', 'encoded_contract_type',\n",
       "       'encoded_payment_type', 'encoded_contract_type_encoded',\n",
       "       'encoded_encoded_internet_service_type', 'encoded_churn_encoded',\n",
       "       'encoded_payment_type_encoded', 'encoded_online_security_encoded',\n",
       "       'encoded_tech_support_encoded', 'encoded_device_protection_encoded',\n",
       "       'encoded_online_backup_encoded', 'encoded_online_features'],\n",
       "      dtype='object')"
      ]
     },
     "execution_count": 53,
     "metadata": {},
     "output_type": "execute_result"
    }
   ],
   "source": [
    "train.columns"
   ]
  },
  {
   "cell_type": "code",
   "execution_count": 71,
   "metadata": {},
   "outputs": [],
   "source": [
    "encoded_df = train[['encoded_senior_citizen', 'encoded_partner',\n",
    "       'encoded_dependents', 'encoded_phone_service', 'encoded_multiple_lines',\n",
    "       'encoded_online_security', 'encoded_online_backup',\n",
    "       'encoded_device_protection', 'encoded_tech_support',\n",
    "       'encoded_streaming_tv', 'encoded_streaming_movies',\n",
    "       'encoded_paperless_billing', 'encoded_churn', 'encoded_contract_type',\n",
    "       'encoded_payment_type']]"
   ]
  },
  {
   "cell_type": "code",
   "execution_count": 72,
   "metadata": {},
   "outputs": [
    {
     "data": {
      "text/html": [
       "<div>\n",
       "<style scoped>\n",
       "    .dataframe tbody tr th:only-of-type {\n",
       "        vertical-align: middle;\n",
       "    }\n",
       "\n",
       "    .dataframe tbody tr th {\n",
       "        vertical-align: top;\n",
       "    }\n",
       "\n",
       "    .dataframe thead th {\n",
       "        text-align: right;\n",
       "    }\n",
       "</style>\n",
       "<table border=\"1\" class=\"dataframe\">\n",
       "  <thead>\n",
       "    <tr style=\"text-align: right;\">\n",
       "      <th></th>\n",
       "      <th>encoded_senior_citizen</th>\n",
       "      <th>encoded_partner</th>\n",
       "      <th>encoded_dependents</th>\n",
       "      <th>encoded_phone_service</th>\n",
       "      <th>encoded_multiple_lines</th>\n",
       "      <th>encoded_online_security</th>\n",
       "      <th>encoded_online_backup</th>\n",
       "      <th>encoded_device_protection</th>\n",
       "      <th>encoded_tech_support</th>\n",
       "      <th>encoded_streaming_tv</th>\n",
       "      <th>encoded_streaming_movies</th>\n",
       "      <th>encoded_paperless_billing</th>\n",
       "      <th>encoded_churn</th>\n",
       "      <th>encoded_contract_type</th>\n",
       "      <th>encoded_payment_type</th>\n",
       "    </tr>\n",
       "  </thead>\n",
       "  <tbody>\n",
       "    <tr>\n",
       "      <th>1249</th>\n",
       "      <td>0</td>\n",
       "      <td>0</td>\n",
       "      <td>0</td>\n",
       "      <td>1</td>\n",
       "      <td>0</td>\n",
       "      <td>0</td>\n",
       "      <td>0</td>\n",
       "      <td>0</td>\n",
       "      <td>0</td>\n",
       "      <td>2</td>\n",
       "      <td>2</td>\n",
       "      <td>1</td>\n",
       "      <td>0</td>\n",
       "      <td>1</td>\n",
       "      <td>0</td>\n",
       "    </tr>\n",
       "    <tr>\n",
       "      <th>6265</th>\n",
       "      <td>0</td>\n",
       "      <td>1</td>\n",
       "      <td>1</td>\n",
       "      <td>1</td>\n",
       "      <td>2</td>\n",
       "      <td>1</td>\n",
       "      <td>1</td>\n",
       "      <td>1</td>\n",
       "      <td>1</td>\n",
       "      <td>1</td>\n",
       "      <td>1</td>\n",
       "      <td>0</td>\n",
       "      <td>0</td>\n",
       "      <td>1</td>\n",
       "      <td>3</td>\n",
       "    </tr>\n",
       "    <tr>\n",
       "      <th>3772</th>\n",
       "      <td>0</td>\n",
       "      <td>0</td>\n",
       "      <td>1</td>\n",
       "      <td>1</td>\n",
       "      <td>2</td>\n",
       "      <td>2</td>\n",
       "      <td>0</td>\n",
       "      <td>0</td>\n",
       "      <td>0</td>\n",
       "      <td>0</td>\n",
       "      <td>0</td>\n",
       "      <td>1</td>\n",
       "      <td>1</td>\n",
       "      <td>0</td>\n",
       "      <td>2</td>\n",
       "    </tr>\n",
       "    <tr>\n",
       "      <th>3391</th>\n",
       "      <td>0</td>\n",
       "      <td>0</td>\n",
       "      <td>0</td>\n",
       "      <td>1</td>\n",
       "      <td>0</td>\n",
       "      <td>0</td>\n",
       "      <td>0</td>\n",
       "      <td>0</td>\n",
       "      <td>0</td>\n",
       "      <td>2</td>\n",
       "      <td>0</td>\n",
       "      <td>1</td>\n",
       "      <td>1</td>\n",
       "      <td>0</td>\n",
       "      <td>2</td>\n",
       "    </tr>\n",
       "    <tr>\n",
       "      <th>6795</th>\n",
       "      <td>0</td>\n",
       "      <td>1</td>\n",
       "      <td>0</td>\n",
       "      <td>1</td>\n",
       "      <td>0</td>\n",
       "      <td>1</td>\n",
       "      <td>1</td>\n",
       "      <td>1</td>\n",
       "      <td>1</td>\n",
       "      <td>1</td>\n",
       "      <td>1</td>\n",
       "      <td>1</td>\n",
       "      <td>0</td>\n",
       "      <td>2</td>\n",
       "      <td>2</td>\n",
       "    </tr>\n",
       "    <tr>\n",
       "      <th>...</th>\n",
       "      <td>...</td>\n",
       "      <td>...</td>\n",
       "      <td>...</td>\n",
       "      <td>...</td>\n",
       "      <td>...</td>\n",
       "      <td>...</td>\n",
       "      <td>...</td>\n",
       "      <td>...</td>\n",
       "      <td>...</td>\n",
       "      <td>...</td>\n",
       "      <td>...</td>\n",
       "      <td>...</td>\n",
       "      <td>...</td>\n",
       "      <td>...</td>\n",
       "      <td>...</td>\n",
       "    </tr>\n",
       "    <tr>\n",
       "      <th>1794</th>\n",
       "      <td>0</td>\n",
       "      <td>0</td>\n",
       "      <td>0</td>\n",
       "      <td>0</td>\n",
       "      <td>1</td>\n",
       "      <td>2</td>\n",
       "      <td>0</td>\n",
       "      <td>0</td>\n",
       "      <td>2</td>\n",
       "      <td>2</td>\n",
       "      <td>0</td>\n",
       "      <td>0</td>\n",
       "      <td>0</td>\n",
       "      <td>2</td>\n",
       "      <td>1</td>\n",
       "    </tr>\n",
       "    <tr>\n",
       "      <th>817</th>\n",
       "      <td>0</td>\n",
       "      <td>0</td>\n",
       "      <td>0</td>\n",
       "      <td>1</td>\n",
       "      <td>0</td>\n",
       "      <td>0</td>\n",
       "      <td>0</td>\n",
       "      <td>0</td>\n",
       "      <td>0</td>\n",
       "      <td>0</td>\n",
       "      <td>2</td>\n",
       "      <td>1</td>\n",
       "      <td>1</td>\n",
       "      <td>0</td>\n",
       "      <td>3</td>\n",
       "    </tr>\n",
       "    <tr>\n",
       "      <th>901</th>\n",
       "      <td>0</td>\n",
       "      <td>0</td>\n",
       "      <td>0</td>\n",
       "      <td>1</td>\n",
       "      <td>0</td>\n",
       "      <td>2</td>\n",
       "      <td>0</td>\n",
       "      <td>0</td>\n",
       "      <td>0</td>\n",
       "      <td>0</td>\n",
       "      <td>0</td>\n",
       "      <td>1</td>\n",
       "      <td>1</td>\n",
       "      <td>0</td>\n",
       "      <td>2</td>\n",
       "    </tr>\n",
       "    <tr>\n",
       "      <th>1987</th>\n",
       "      <td>0</td>\n",
       "      <td>1</td>\n",
       "      <td>1</td>\n",
       "      <td>1</td>\n",
       "      <td>0</td>\n",
       "      <td>2</td>\n",
       "      <td>2</td>\n",
       "      <td>0</td>\n",
       "      <td>2</td>\n",
       "      <td>0</td>\n",
       "      <td>0</td>\n",
       "      <td>0</td>\n",
       "      <td>1</td>\n",
       "      <td>2</td>\n",
       "      <td>0</td>\n",
       "    </tr>\n",
       "    <tr>\n",
       "      <th>6958</th>\n",
       "      <td>0</td>\n",
       "      <td>1</td>\n",
       "      <td>1</td>\n",
       "      <td>1</td>\n",
       "      <td>2</td>\n",
       "      <td>1</td>\n",
       "      <td>1</td>\n",
       "      <td>1</td>\n",
       "      <td>1</td>\n",
       "      <td>1</td>\n",
       "      <td>1</td>\n",
       "      <td>1</td>\n",
       "      <td>0</td>\n",
       "      <td>2</td>\n",
       "      <td>0</td>\n",
       "    </tr>\n",
       "  </tbody>\n",
       "</table>\n",
       "<p>4507 rows × 15 columns</p>\n",
       "</div>"
      ],
      "text/plain": [
       "      encoded_senior_citizen  encoded_partner  encoded_dependents  \\\n",
       "1249                       0                0                   0   \n",
       "6265                       0                1                   1   \n",
       "3772                       0                0                   1   \n",
       "3391                       0                0                   0   \n",
       "6795                       0                1                   0   \n",
       "...                      ...              ...                 ...   \n",
       "1794                       0                0                   0   \n",
       "817                        0                0                   0   \n",
       "901                        0                0                   0   \n",
       "1987                       0                1                   1   \n",
       "6958                       0                1                   1   \n",
       "\n",
       "      encoded_phone_service  encoded_multiple_lines  encoded_online_security  \\\n",
       "1249                      1                       0                        0   \n",
       "6265                      1                       2                        1   \n",
       "3772                      1                       2                        2   \n",
       "3391                      1                       0                        0   \n",
       "6795                      1                       0                        1   \n",
       "...                     ...                     ...                      ...   \n",
       "1794                      0                       1                        2   \n",
       "817                       1                       0                        0   \n",
       "901                       1                       0                        2   \n",
       "1987                      1                       0                        2   \n",
       "6958                      1                       2                        1   \n",
       "\n",
       "      encoded_online_backup  encoded_device_protection  encoded_tech_support  \\\n",
       "1249                      0                          0                     0   \n",
       "6265                      1                          1                     1   \n",
       "3772                      0                          0                     0   \n",
       "3391                      0                          0                     0   \n",
       "6795                      1                          1                     1   \n",
       "...                     ...                        ...                   ...   \n",
       "1794                      0                          0                     2   \n",
       "817                       0                          0                     0   \n",
       "901                       0                          0                     0   \n",
       "1987                      2                          0                     2   \n",
       "6958                      1                          1                     1   \n",
       "\n",
       "      encoded_streaming_tv  encoded_streaming_movies  \\\n",
       "1249                     2                         2   \n",
       "6265                     1                         1   \n",
       "3772                     0                         0   \n",
       "3391                     2                         0   \n",
       "6795                     1                         1   \n",
       "...                    ...                       ...   \n",
       "1794                     2                         0   \n",
       "817                      0                         2   \n",
       "901                      0                         0   \n",
       "1987                     0                         0   \n",
       "6958                     1                         1   \n",
       "\n",
       "      encoded_paperless_billing  encoded_churn  encoded_contract_type  \\\n",
       "1249                          1              0                      1   \n",
       "6265                          0              0                      1   \n",
       "3772                          1              1                      0   \n",
       "3391                          1              1                      0   \n",
       "6795                          1              0                      2   \n",
       "...                         ...            ...                    ...   \n",
       "1794                          0              0                      2   \n",
       "817                           1              1                      0   \n",
       "901                           1              1                      0   \n",
       "1987                          0              1                      2   \n",
       "6958                          1              0                      2   \n",
       "\n",
       "      encoded_payment_type  \n",
       "1249                     0  \n",
       "6265                     3  \n",
       "3772                     2  \n",
       "3391                     2  \n",
       "6795                     2  \n",
       "...                    ...  \n",
       "1794                     1  \n",
       "817                      3  \n",
       "901                      2  \n",
       "1987                     0  \n",
       "6958                     0  \n",
       "\n",
       "[4507 rows x 15 columns]"
      ]
     },
     "execution_count": 72,
     "metadata": {},
     "output_type": "execute_result"
    }
   ],
   "source": [
    "encoded_df"
   ]
  },
  {
   "cell_type": "code",
   "execution_count": 73,
   "metadata": {},
   "outputs": [
    {
     "data": {
      "text/html": [
       "<div>\n",
       "<style scoped>\n",
       "    .dataframe tbody tr th:only-of-type {\n",
       "        vertical-align: middle;\n",
       "    }\n",
       "\n",
       "    .dataframe tbody tr th {\n",
       "        vertical-align: top;\n",
       "    }\n",
       "\n",
       "    .dataframe thead th {\n",
       "        text-align: right;\n",
       "    }\n",
       "</style>\n",
       "<table border=\"1\" class=\"dataframe\">\n",
       "  <thead>\n",
       "    <tr style=\"text-align: right;\">\n",
       "      <th></th>\n",
       "      <th>encoded_senior_citizen</th>\n",
       "      <th>encoded_partner</th>\n",
       "      <th>encoded_dependents</th>\n",
       "      <th>encoded_phone_service</th>\n",
       "      <th>encoded_multiple_lines</th>\n",
       "      <th>encoded_online_security</th>\n",
       "      <th>encoded_online_backup</th>\n",
       "      <th>encoded_device_protection</th>\n",
       "      <th>encoded_tech_support</th>\n",
       "      <th>encoded_streaming_tv</th>\n",
       "      <th>encoded_streaming_movies</th>\n",
       "      <th>encoded_paperless_billing</th>\n",
       "      <th>encoded_churn</th>\n",
       "      <th>encoded_contract_type</th>\n",
       "      <th>encoded_payment_type</th>\n",
       "    </tr>\n",
       "  </thead>\n",
       "  <tbody>\n",
       "    <tr>\n",
       "      <th>encoded_senior_citizen</th>\n",
       "      <td>1.000000</td>\n",
       "      <td>0.013719</td>\n",
       "      <td>-0.216010</td>\n",
       "      <td>0.004530</td>\n",
       "      <td>0.141402</td>\n",
       "      <td>-0.118270</td>\n",
       "      <td>-0.014035</td>\n",
       "      <td>-0.014718</td>\n",
       "      <td>-0.157180</td>\n",
       "      <td>0.042982</td>\n",
       "      <td>0.036735</td>\n",
       "      <td>0.147459</td>\n",
       "      <td>0.141112</td>\n",
       "      <td>-0.134260</td>\n",
       "      <td>-0.042204</td>\n",
       "    </tr>\n",
       "    <tr>\n",
       "      <th>encoded_partner</th>\n",
       "      <td>0.013719</td>\n",
       "      <td>1.000000</td>\n",
       "      <td>0.439686</td>\n",
       "      <td>0.022944</td>\n",
       "      <td>0.158334</td>\n",
       "      <td>0.137614</td>\n",
       "      <td>0.147798</td>\n",
       "      <td>0.172441</td>\n",
       "      <td>0.116516</td>\n",
       "      <td>0.154218</td>\n",
       "      <td>0.139087</td>\n",
       "      <td>-0.004619</td>\n",
       "      <td>-0.147175</td>\n",
       "      <td>0.303633</td>\n",
       "      <td>-0.164064</td>\n",
       "    </tr>\n",
       "    <tr>\n",
       "      <th>encoded_dependents</th>\n",
       "      <td>-0.216010</td>\n",
       "      <td>0.439686</td>\n",
       "      <td>1.000000</td>\n",
       "      <td>-0.000546</td>\n",
       "      <td>-0.009896</td>\n",
       "      <td>0.155821</td>\n",
       "      <td>0.101730</td>\n",
       "      <td>0.089420</td>\n",
       "      <td>0.145431</td>\n",
       "      <td>0.049255</td>\n",
       "      <td>0.034209</td>\n",
       "      <td>-0.117371</td>\n",
       "      <td>-0.172466</td>\n",
       "      <td>0.257295</td>\n",
       "      <td>-0.055410</td>\n",
       "    </tr>\n",
       "    <tr>\n",
       "      <th>encoded_phone_service</th>\n",
       "      <td>0.004530</td>\n",
       "      <td>0.022944</td>\n",
       "      <td>-0.000546</td>\n",
       "      <td>1.000000</td>\n",
       "      <td>-0.021695</td>\n",
       "      <td>-0.022124</td>\n",
       "      <td>0.022549</td>\n",
       "      <td>-0.008407</td>\n",
       "      <td>-0.013986</td>\n",
       "      <td>0.054730</td>\n",
       "      <td>0.034393</td>\n",
       "      <td>0.023428</td>\n",
       "      <td>0.025260</td>\n",
       "      <td>-0.006061</td>\n",
       "      <td>-0.014625</td>\n",
       "    </tr>\n",
       "    <tr>\n",
       "      <th>encoded_multiple_lines</th>\n",
       "      <td>0.141402</td>\n",
       "      <td>0.158334</td>\n",
       "      <td>-0.009896</td>\n",
       "      <td>-0.021695</td>\n",
       "      <td>1.000000</td>\n",
       "      <td>0.007421</td>\n",
       "      <td>0.113757</td>\n",
       "      <td>0.123768</td>\n",
       "      <td>0.022330</td>\n",
       "      <td>0.175783</td>\n",
       "      <td>0.178074</td>\n",
       "      <td>0.156206</td>\n",
       "      <td>0.031231</td>\n",
       "      <td>0.124987</td>\n",
       "      <td>-0.178325</td>\n",
       "    </tr>\n",
       "    <tr>\n",
       "      <th>encoded_online_security</th>\n",
       "      <td>-0.118270</td>\n",
       "      <td>0.137614</td>\n",
       "      <td>0.155821</td>\n",
       "      <td>-0.022124</td>\n",
       "      <td>0.007421</td>\n",
       "      <td>1.000000</td>\n",
       "      <td>0.201306</td>\n",
       "      <td>0.175811</td>\n",
       "      <td>0.278561</td>\n",
       "      <td>0.038809</td>\n",
       "      <td>0.056603</td>\n",
       "      <td>-0.164280</td>\n",
       "      <td>-0.282710</td>\n",
       "      <td>0.371724</td>\n",
       "      <td>-0.087916</td>\n",
       "    </tr>\n",
       "    <tr>\n",
       "      <th>encoded_online_backup</th>\n",
       "      <td>-0.014035</td>\n",
       "      <td>0.147798</td>\n",
       "      <td>0.101730</td>\n",
       "      <td>0.022549</td>\n",
       "      <td>0.113757</td>\n",
       "      <td>0.201306</td>\n",
       "      <td>1.000000</td>\n",
       "      <td>0.183234</td>\n",
       "      <td>0.193931</td>\n",
       "      <td>0.153520</td>\n",
       "      <td>0.138657</td>\n",
       "      <td>-0.012627</td>\n",
       "      <td>-0.208766</td>\n",
       "      <td>0.299040</td>\n",
       "      <td>-0.140798</td>\n",
       "    </tr>\n",
       "    <tr>\n",
       "      <th>encoded_device_protection</th>\n",
       "      <td>-0.014718</td>\n",
       "      <td>0.172441</td>\n",
       "      <td>0.089420</td>\n",
       "      <td>-0.008407</td>\n",
       "      <td>0.123768</td>\n",
       "      <td>0.175811</td>\n",
       "      <td>0.183234</td>\n",
       "      <td>1.000000</td>\n",
       "      <td>0.235080</td>\n",
       "      <td>0.280066</td>\n",
       "      <td>0.285596</td>\n",
       "      <td>-0.040559</td>\n",
       "      <td>-0.166929</td>\n",
       "      <td>0.351680</td>\n",
       "      <td>-0.137616</td>\n",
       "    </tr>\n",
       "    <tr>\n",
       "      <th>encoded_tech_support</th>\n",
       "      <td>-0.157180</td>\n",
       "      <td>0.116516</td>\n",
       "      <td>0.145431</td>\n",
       "      <td>-0.013986</td>\n",
       "      <td>0.022330</td>\n",
       "      <td>0.278561</td>\n",
       "      <td>0.193931</td>\n",
       "      <td>0.235080</td>\n",
       "      <td>1.000000</td>\n",
       "      <td>0.161483</td>\n",
       "      <td>0.173325</td>\n",
       "      <td>-0.113887</td>\n",
       "      <td>-0.269491</td>\n",
       "      <td>0.429020</td>\n",
       "      <td>-0.103424</td>\n",
       "    </tr>\n",
       "    <tr>\n",
       "      <th>encoded_streaming_tv</th>\n",
       "      <td>0.042982</td>\n",
       "      <td>0.154218</td>\n",
       "      <td>0.049255</td>\n",
       "      <td>0.054730</td>\n",
       "      <td>0.175783</td>\n",
       "      <td>0.038809</td>\n",
       "      <td>0.153520</td>\n",
       "      <td>0.280066</td>\n",
       "      <td>0.161483</td>\n",
       "      <td>1.000000</td>\n",
       "      <td>0.435019</td>\n",
       "      <td>0.100008</td>\n",
       "      <td>-0.038331</td>\n",
       "      <td>0.229299</td>\n",
       "      <td>-0.117798</td>\n",
       "    </tr>\n",
       "    <tr>\n",
       "      <th>encoded_streaming_movies</th>\n",
       "      <td>0.036735</td>\n",
       "      <td>0.139087</td>\n",
       "      <td>0.034209</td>\n",
       "      <td>0.034393</td>\n",
       "      <td>0.178074</td>\n",
       "      <td>0.056603</td>\n",
       "      <td>0.138657</td>\n",
       "      <td>0.285596</td>\n",
       "      <td>0.173325</td>\n",
       "      <td>0.435019</td>\n",
       "      <td>1.000000</td>\n",
       "      <td>0.083713</td>\n",
       "      <td>-0.044733</td>\n",
       "      <td>0.242135</td>\n",
       "      <td>-0.117959</td>\n",
       "    </tr>\n",
       "    <tr>\n",
       "      <th>encoded_paperless_billing</th>\n",
       "      <td>0.147459</td>\n",
       "      <td>-0.004619</td>\n",
       "      <td>-0.117371</td>\n",
       "      <td>0.023428</td>\n",
       "      <td>0.156206</td>\n",
       "      <td>-0.164280</td>\n",
       "      <td>-0.012627</td>\n",
       "      <td>-0.040559</td>\n",
       "      <td>-0.113887</td>\n",
       "      <td>0.100008</td>\n",
       "      <td>0.083713</td>\n",
       "      <td>1.000000</td>\n",
       "      <td>0.191716</td>\n",
       "      <td>-0.175214</td>\n",
       "      <td>-0.059704</td>\n",
       "    </tr>\n",
       "    <tr>\n",
       "      <th>encoded_churn</th>\n",
       "      <td>0.141112</td>\n",
       "      <td>-0.147175</td>\n",
       "      <td>-0.172466</td>\n",
       "      <td>0.025260</td>\n",
       "      <td>0.031231</td>\n",
       "      <td>-0.282710</td>\n",
       "      <td>-0.208766</td>\n",
       "      <td>-0.166929</td>\n",
       "      <td>-0.269491</td>\n",
       "      <td>-0.038331</td>\n",
       "      <td>-0.044733</td>\n",
       "      <td>0.191716</td>\n",
       "      <td>1.000000</td>\n",
       "      <td>-0.392097</td>\n",
       "      <td>0.114169</td>\n",
       "    </tr>\n",
       "    <tr>\n",
       "      <th>encoded_contract_type</th>\n",
       "      <td>-0.134260</td>\n",
       "      <td>0.303633</td>\n",
       "      <td>0.257295</td>\n",
       "      <td>-0.006061</td>\n",
       "      <td>0.124987</td>\n",
       "      <td>0.371724</td>\n",
       "      <td>0.299040</td>\n",
       "      <td>0.351680</td>\n",
       "      <td>0.429020</td>\n",
       "      <td>0.229299</td>\n",
       "      <td>0.242135</td>\n",
       "      <td>-0.175214</td>\n",
       "      <td>-0.392097</td>\n",
       "      <td>1.000000</td>\n",
       "      <td>-0.241220</td>\n",
       "    </tr>\n",
       "    <tr>\n",
       "      <th>encoded_payment_type</th>\n",
       "      <td>-0.042204</td>\n",
       "      <td>-0.164064</td>\n",
       "      <td>-0.055410</td>\n",
       "      <td>-0.014625</td>\n",
       "      <td>-0.178325</td>\n",
       "      <td>-0.087916</td>\n",
       "      <td>-0.140798</td>\n",
       "      <td>-0.137616</td>\n",
       "      <td>-0.103424</td>\n",
       "      <td>-0.117798</td>\n",
       "      <td>-0.117959</td>\n",
       "      <td>-0.059704</td>\n",
       "      <td>0.114169</td>\n",
       "      <td>-0.241220</td>\n",
       "      <td>1.000000</td>\n",
       "    </tr>\n",
       "  </tbody>\n",
       "</table>\n",
       "</div>"
      ],
      "text/plain": [
       "                           encoded_senior_citizen  encoded_partner  \\\n",
       "encoded_senior_citizen                   1.000000         0.013719   \n",
       "encoded_partner                          0.013719         1.000000   \n",
       "encoded_dependents                      -0.216010         0.439686   \n",
       "encoded_phone_service                    0.004530         0.022944   \n",
       "encoded_multiple_lines                   0.141402         0.158334   \n",
       "encoded_online_security                 -0.118270         0.137614   \n",
       "encoded_online_backup                   -0.014035         0.147798   \n",
       "encoded_device_protection               -0.014718         0.172441   \n",
       "encoded_tech_support                    -0.157180         0.116516   \n",
       "encoded_streaming_tv                     0.042982         0.154218   \n",
       "encoded_streaming_movies                 0.036735         0.139087   \n",
       "encoded_paperless_billing                0.147459        -0.004619   \n",
       "encoded_churn                            0.141112        -0.147175   \n",
       "encoded_contract_type                   -0.134260         0.303633   \n",
       "encoded_payment_type                    -0.042204        -0.164064   \n",
       "\n",
       "                           encoded_dependents  encoded_phone_service  \\\n",
       "encoded_senior_citizen              -0.216010               0.004530   \n",
       "encoded_partner                      0.439686               0.022944   \n",
       "encoded_dependents                   1.000000              -0.000546   \n",
       "encoded_phone_service               -0.000546               1.000000   \n",
       "encoded_multiple_lines              -0.009896              -0.021695   \n",
       "encoded_online_security              0.155821              -0.022124   \n",
       "encoded_online_backup                0.101730               0.022549   \n",
       "encoded_device_protection            0.089420              -0.008407   \n",
       "encoded_tech_support                 0.145431              -0.013986   \n",
       "encoded_streaming_tv                 0.049255               0.054730   \n",
       "encoded_streaming_movies             0.034209               0.034393   \n",
       "encoded_paperless_billing           -0.117371               0.023428   \n",
       "encoded_churn                       -0.172466               0.025260   \n",
       "encoded_contract_type                0.257295              -0.006061   \n",
       "encoded_payment_type                -0.055410              -0.014625   \n",
       "\n",
       "                           encoded_multiple_lines  encoded_online_security  \\\n",
       "encoded_senior_citizen                   0.141402                -0.118270   \n",
       "encoded_partner                          0.158334                 0.137614   \n",
       "encoded_dependents                      -0.009896                 0.155821   \n",
       "encoded_phone_service                   -0.021695                -0.022124   \n",
       "encoded_multiple_lines                   1.000000                 0.007421   \n",
       "encoded_online_security                  0.007421                 1.000000   \n",
       "encoded_online_backup                    0.113757                 0.201306   \n",
       "encoded_device_protection                0.123768                 0.175811   \n",
       "encoded_tech_support                     0.022330                 0.278561   \n",
       "encoded_streaming_tv                     0.175783                 0.038809   \n",
       "encoded_streaming_movies                 0.178074                 0.056603   \n",
       "encoded_paperless_billing                0.156206                -0.164280   \n",
       "encoded_churn                            0.031231                -0.282710   \n",
       "encoded_contract_type                    0.124987                 0.371724   \n",
       "encoded_payment_type                    -0.178325                -0.087916   \n",
       "\n",
       "                           encoded_online_backup  encoded_device_protection  \\\n",
       "encoded_senior_citizen                 -0.014035                  -0.014718   \n",
       "encoded_partner                         0.147798                   0.172441   \n",
       "encoded_dependents                      0.101730                   0.089420   \n",
       "encoded_phone_service                   0.022549                  -0.008407   \n",
       "encoded_multiple_lines                  0.113757                   0.123768   \n",
       "encoded_online_security                 0.201306                   0.175811   \n",
       "encoded_online_backup                   1.000000                   0.183234   \n",
       "encoded_device_protection               0.183234                   1.000000   \n",
       "encoded_tech_support                    0.193931                   0.235080   \n",
       "encoded_streaming_tv                    0.153520                   0.280066   \n",
       "encoded_streaming_movies                0.138657                   0.285596   \n",
       "encoded_paperless_billing              -0.012627                  -0.040559   \n",
       "encoded_churn                          -0.208766                  -0.166929   \n",
       "encoded_contract_type                   0.299040                   0.351680   \n",
       "encoded_payment_type                   -0.140798                  -0.137616   \n",
       "\n",
       "                           encoded_tech_support  encoded_streaming_tv  \\\n",
       "encoded_senior_citizen                -0.157180              0.042982   \n",
       "encoded_partner                        0.116516              0.154218   \n",
       "encoded_dependents                     0.145431              0.049255   \n",
       "encoded_phone_service                 -0.013986              0.054730   \n",
       "encoded_multiple_lines                 0.022330              0.175783   \n",
       "encoded_online_security                0.278561              0.038809   \n",
       "encoded_online_backup                  0.193931              0.153520   \n",
       "encoded_device_protection              0.235080              0.280066   \n",
       "encoded_tech_support                   1.000000              0.161483   \n",
       "encoded_streaming_tv                   0.161483              1.000000   \n",
       "encoded_streaming_movies               0.173325              0.435019   \n",
       "encoded_paperless_billing             -0.113887              0.100008   \n",
       "encoded_churn                         -0.269491             -0.038331   \n",
       "encoded_contract_type                  0.429020              0.229299   \n",
       "encoded_payment_type                  -0.103424             -0.117798   \n",
       "\n",
       "                           encoded_streaming_movies  \\\n",
       "encoded_senior_citizen                     0.036735   \n",
       "encoded_partner                            0.139087   \n",
       "encoded_dependents                         0.034209   \n",
       "encoded_phone_service                      0.034393   \n",
       "encoded_multiple_lines                     0.178074   \n",
       "encoded_online_security                    0.056603   \n",
       "encoded_online_backup                      0.138657   \n",
       "encoded_device_protection                  0.285596   \n",
       "encoded_tech_support                       0.173325   \n",
       "encoded_streaming_tv                       0.435019   \n",
       "encoded_streaming_movies                   1.000000   \n",
       "encoded_paperless_billing                  0.083713   \n",
       "encoded_churn                             -0.044733   \n",
       "encoded_contract_type                      0.242135   \n",
       "encoded_payment_type                      -0.117959   \n",
       "\n",
       "                           encoded_paperless_billing  encoded_churn  \\\n",
       "encoded_senior_citizen                      0.147459       0.141112   \n",
       "encoded_partner                            -0.004619      -0.147175   \n",
       "encoded_dependents                         -0.117371      -0.172466   \n",
       "encoded_phone_service                       0.023428       0.025260   \n",
       "encoded_multiple_lines                      0.156206       0.031231   \n",
       "encoded_online_security                    -0.164280      -0.282710   \n",
       "encoded_online_backup                      -0.012627      -0.208766   \n",
       "encoded_device_protection                  -0.040559      -0.166929   \n",
       "encoded_tech_support                       -0.113887      -0.269491   \n",
       "encoded_streaming_tv                        0.100008      -0.038331   \n",
       "encoded_streaming_movies                    0.083713      -0.044733   \n",
       "encoded_paperless_billing                   1.000000       0.191716   \n",
       "encoded_churn                               0.191716       1.000000   \n",
       "encoded_contract_type                      -0.175214      -0.392097   \n",
       "encoded_payment_type                       -0.059704       0.114169   \n",
       "\n",
       "                           encoded_contract_type  encoded_payment_type  \n",
       "encoded_senior_citizen                 -0.134260             -0.042204  \n",
       "encoded_partner                         0.303633             -0.164064  \n",
       "encoded_dependents                      0.257295             -0.055410  \n",
       "encoded_phone_service                  -0.006061             -0.014625  \n",
       "encoded_multiple_lines                  0.124987             -0.178325  \n",
       "encoded_online_security                 0.371724             -0.087916  \n",
       "encoded_online_backup                   0.299040             -0.140798  \n",
       "encoded_device_protection               0.351680             -0.137616  \n",
       "encoded_tech_support                    0.429020             -0.103424  \n",
       "encoded_streaming_tv                    0.229299             -0.117798  \n",
       "encoded_streaming_movies                0.242135             -0.117959  \n",
       "encoded_paperless_billing              -0.175214             -0.059704  \n",
       "encoded_churn                          -0.392097              0.114169  \n",
       "encoded_contract_type                   1.000000             -0.241220  \n",
       "encoded_payment_type                   -0.241220              1.000000  "
      ]
     },
     "execution_count": 73,
     "metadata": {},
     "output_type": "execute_result"
    }
   ],
   "source": [
    "#Relationships between above categories\n",
    "encoded_df.corr()"
   ]
  },
  {
   "cell_type": "code",
   "execution_count": null,
   "metadata": {},
   "outputs": [],
   "source": [
    "encoded_df"
   ]
  },
  {
   "cell_type": "code",
   "execution_count": null,
   "metadata": {},
   "outputs": [],
   "source": []
  }
 ],
 "metadata": {
  "kernelspec": {
   "display_name": "Python 3",
   "language": "python",
   "name": "python3"
  },
  "language_info": {
   "codemirror_mode": {
    "name": "ipython",
    "version": 3
   },
   "file_extension": ".py",
   "mimetype": "text/x-python",
   "name": "python",
   "nbconvert_exporter": "python",
   "pygments_lexer": "ipython3",
   "version": "3.7.4"
  }
 },
 "nbformat": 4,
 "nbformat_minor": 4
}
