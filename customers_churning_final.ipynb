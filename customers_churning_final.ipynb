{
 "cells": [
  {
   "cell_type": "markdown",
   "metadata": {},
   "source": [
    "# Why Are Customers Churning?"
   ]
  },
  {
   "cell_type": "markdown",
   "metadata": {},
   "source": [
    "#### Quick Reference"
   ]
  },
  {
   "cell_type": "markdown",
   "metadata": {},
   "source": [
    "1. Project Plan\n",
    "3. Imports\n",
    "2. Acquire and Prep\n",
    "3. EDA\n",
    "4. Models\n",
    "5. Model Evaluation\n",
    "6. Conclusions"
   ]
  },
  {
   "cell_type": "markdown",
   "metadata": {},
   "source": [
    "# Project Plan"
   ]
  },
  {
   "cell_type": "markdown",
   "metadata": {},
   "source": [
    "**Summary**\n",
    "\n",
    "The Senior Leading Team wants to find out why our customers are churning.\n",
    "\n",
    "Below is a list of questions they would like answered:\n",
    "\n",
    "1. Are there clear groupings where a customer is more likely to churn? What if you consider contract type? Is there a tenure that month-to-month customers are most likely to churn? 1-year contract customers? 2-year customers? Do you have any thoughts on what could be going on? (Be sure to state these thoughts not as facts but as untested hypotheses. Unless you test them!). Plot the rate of churn on a line chart where x is the tenure and y is the rate of churn (customers churned/total customers).\n",
    "2. Are there features that indicate a higher propensity to churn? like type of Internet service, type of phone service, online security and backup, senior citizens, paying more than x% of customers with the same services, etc.?\n",
    "3. Is there a price threshold for specific services where the likelihood of churn increases once price for those services goes past that point? If so, what is that point for what service(s)?\n",
    "4. If we looked at churn rate for month-to-month customers after the 12th month and that of 1-year contract customers after the 12th month, are those rates comparable?\n",
    "\n",
    "**Goals**\n",
    "The goals of this project are to answer the above questions and to deliver our findings in the following formats:\n",
    "\n",
    "1. Report with detailed analysis in .ipynb format\n",
    "2. CSV file containing customer_id, probability of churn, and the prediction of churn (1=churn, 0=not_churn)\n",
    "3. Google Slides explaining model chosen and brief analysis for SLT\n",
    "4. All files necessary to recreate our findings and models\n",
    "5. Readme file\n",
    "6. GitHub repo containing all files"
   ]
  },
  {
   "cell_type": "markdown",
   "metadata": {},
   "source": [
    "# Imports"
   ]
  },
  {
   "cell_type": "code",
   "execution_count": 1,
   "metadata": {},
   "outputs": [],
   "source": [
    "import pandas as pd\n",
    "import numpy as np\n",
    "\n",
    "import matplotlib.pyplot as plt\n",
    "import seaborn as sns\n",
    "from sklearn.preprocessing import LabelEncoder\n",
    "\n",
    "from sklearn.model_selection import train_test_split\n",
    "\n",
    "import acquire\n",
    "import prepare\n",
    "import encode\n",
    "import explore"
   ]
  },
  {
   "cell_type": "markdown",
   "metadata": {},
   "source": [
    "# Acquire and Prep"
   ]
  },
  {
   "cell_type": "code",
   "execution_count": 8,
   "metadata": {},
   "outputs": [
    {
     "name": "stdout",
     "output_type": "stream",
     "text": [
      "<class 'pandas.core.frame.DataFrame'>\n",
      "RangeIndex: 7043 entries, 0 to 7042\n",
      "Data columns (total 24 columns):\n",
      "payment_type_id             7043 non-null int64\n",
      "internet_service_type_id    7043 non-null int64\n",
      "contract_type_id            7043 non-null int64\n",
      "customer_id                 7043 non-null object\n",
      "gender                      7043 non-null object\n",
      "senior_citizen              7043 non-null int64\n",
      "partner                     7043 non-null object\n",
      "dependents                  7043 non-null object\n",
      "tenure                      7043 non-null int64\n",
      "phone_service               7043 non-null object\n",
      "multiple_lines              7043 non-null object\n",
      "online_security             7043 non-null object\n",
      "online_backup               7043 non-null object\n",
      "device_protection           7043 non-null object\n",
      "tech_support                7043 non-null object\n",
      "streaming_tv                7043 non-null object\n",
      "streaming_movies            7043 non-null object\n",
      "paperless_billing           7043 non-null object\n",
      "monthly_charges             7043 non-null float64\n",
      "total_charges               7043 non-null object\n",
      "churn                       7043 non-null object\n",
      "contract_type               7043 non-null object\n",
      "internet_service_type       7043 non-null object\n",
      "payment_type                7043 non-null object\n",
      "dtypes: float64(1), int64(5), object(18)\n",
      "memory usage: 1.3+ MB\n"
     ]
    }
   ],
   "source": [
    "#bring in the data\n",
    "telco = acquire.get_telco_data()\n",
    "\n",
    "#Take a quick peek at Telco and look columns to see if we have any nulls and look at dtypes\n",
    "telco.info()"
   ]
  },
  {
   "cell_type": "markdown",
   "metadata": {},
   "source": [
    "- Surprisingly, it looks like we do not have any nulls within the data\n",
    "- We can drop type id's, since they were only useful for merging\n",
    "\n",
    "Fields to look at:\n",
    "   * gender: Currently an object, likely needs to be encoded\n",
    "   * senior_citizen: It's an int type, does that mean it's encoded already?\n",
    "   * partner: I have no clue what this field is for\n",
    "   * dependents: Currently an object, either it's a bool or should be an int identifying how many dependents\n",
    "   * phone_service - paperless_billing: Needs to be encoded\n",
    "   * total_charges: Definitely should not be an object, likely needs to be a float\n",
    "   * churn: Probably needs to be encoded"
   ]
  },
  {
   "cell_type": "code",
   "execution_count": 9,
   "metadata": {},
   "outputs": [],
   "source": [
    "#prep the data and split into train, test, and validate dataframes\n",
    "train, test, validate = prepare.prep_telco(telco, .8, 123)"
   ]
  },
  {
   "cell_type": "code",
   "execution_count": 10,
   "metadata": {},
   "outputs": [],
   "source": [
    "#encode some fields before EDA\n",
    "#encoder_1 = encode_contract_types\n",
    "#encoder_2 = encode_internet_service_types\n",
    "#encoder_3 = encode_churn\n",
    "#encoder_4 = encode_payment_types\n",
    "\n",
    "encoder_1, encoder_2, encoder_3, encoder_4, train, test, validate = encode.encoded_df(train, test, validate)"
   ]
  },
  {
   "cell_type": "code",
   "execution_count": 16,
   "metadata": {},
   "outputs": [
    {
     "name": "stdout",
     "output_type": "stream",
     "text": [
      "(4507, 26) (1409, 26) (1127, 26)\n"
     ]
    }
   ],
   "source": [
    "#Ensure shaped off all splits look ok\n",
    "print(train.shape, test.shape, validate.shape)"
   ]
  },
  {
   "cell_type": "code",
   "execution_count": 17,
   "metadata": {},
   "outputs": [
    {
     "name": "stdout",
     "output_type": "stream",
     "text": [
      "<class 'pandas.core.frame.DataFrame'>\n",
      "RangeIndex: 7043 entries, 0 to 7042\n",
      "Data columns (total 24 columns):\n",
      "payment_type_id             7043 non-null int64\n",
      "internet_service_type_id    7043 non-null int64\n",
      "contract_type_id            7043 non-null int64\n",
      "customer_id                 7043 non-null object\n",
      "gender                      7043 non-null object\n",
      "senior_citizen              7043 non-null int64\n",
      "partner                     7043 non-null object\n",
      "dependents                  7043 non-null object\n",
      "tenure                      7043 non-null int64\n",
      "phone_service               7043 non-null object\n",
      "multiple_lines              7043 non-null object\n",
      "online_security             7043 non-null object\n",
      "online_backup               7043 non-null object\n",
      "device_protection           7043 non-null object\n",
      "tech_support                7043 non-null object\n",
      "streaming_tv                7043 non-null object\n",
      "streaming_movies            7043 non-null object\n",
      "paperless_billing           7043 non-null object\n",
      "monthly_charges             7043 non-null float64\n",
      "total_charges               7043 non-null object\n",
      "churn                       7043 non-null object\n",
      "contract_type               7043 non-null object\n",
      "internet_service_type       7043 non-null object\n",
      "payment_type                7043 non-null object\n",
      "dtypes: float64(1), int64(5), object(18)\n",
      "memory usage: 1.3+ MB\n"
     ]
    }
   ],
   "source": [
    "telco.info()"
   ]
  },
  {
   "cell_type": "code",
   "execution_count": 14,
   "metadata": {},
   "outputs": [
    {
     "data": {
      "text/html": [
       "<div>\n",
       "<style scoped>\n",
       "    .dataframe tbody tr th:only-of-type {\n",
       "        vertical-align: middle;\n",
       "    }\n",
       "\n",
       "    .dataframe tbody tr th {\n",
       "        vertical-align: top;\n",
       "    }\n",
       "\n",
       "    .dataframe thead th {\n",
       "        text-align: right;\n",
       "    }\n",
       "</style>\n",
       "<table border=\"1\" class=\"dataframe\">\n",
       "  <thead>\n",
       "    <tr style=\"text-align: right;\">\n",
       "      <th></th>\n",
       "      <th>customer_id</th>\n",
       "      <th>gender</th>\n",
       "      <th>senior_citizen</th>\n",
       "      <th>partner</th>\n",
       "      <th>dependents</th>\n",
       "      <th>tenure</th>\n",
       "      <th>phone_service</th>\n",
       "      <th>multiple_lines</th>\n",
       "      <th>online_security</th>\n",
       "      <th>online_backup</th>\n",
       "      <th>...</th>\n",
       "      <th>total_charges</th>\n",
       "      <th>churn</th>\n",
       "      <th>contract_type</th>\n",
       "      <th>internet_service_type</th>\n",
       "      <th>payment_type</th>\n",
       "      <th>tenure_years</th>\n",
       "      <th>contract_type_encoded</th>\n",
       "      <th>encoded_internet_service_type</th>\n",
       "      <th>churn_encoded</th>\n",
       "      <th>payment_type_encoded</th>\n",
       "    </tr>\n",
       "  </thead>\n",
       "  <tbody>\n",
       "    <tr>\n",
       "      <th>4672</th>\n",
       "      <td>2252-JHJGE</td>\n",
       "      <td>Male</td>\n",
       "      <td>0</td>\n",
       "      <td>No</td>\n",
       "      <td>No</td>\n",
       "      <td>61</td>\n",
       "      <td>Yes</td>\n",
       "      <td>Yes</td>\n",
       "      <td>Yes</td>\n",
       "      <td>No</td>\n",
       "      <td>...</td>\n",
       "      <td>6363.45</td>\n",
       "      <td>No</td>\n",
       "      <td>One year</td>\n",
       "      <td>Fiber optic</td>\n",
       "      <td>Electronic check</td>\n",
       "      <td>5.0</td>\n",
       "      <td>1</td>\n",
       "      <td>1</td>\n",
       "      <td>0</td>\n",
       "      <td>2</td>\n",
       "    </tr>\n",
       "    <tr>\n",
       "      <th>4107</th>\n",
       "      <td>7821-DPRQE</td>\n",
       "      <td>Male</td>\n",
       "      <td>0</td>\n",
       "      <td>Yes</td>\n",
       "      <td>No</td>\n",
       "      <td>68</td>\n",
       "      <td>Yes</td>\n",
       "      <td>Yes</td>\n",
       "      <td>Yes</td>\n",
       "      <td>Yes</td>\n",
       "      <td>...</td>\n",
       "      <td>7320.90</td>\n",
       "      <td>No</td>\n",
       "      <td>Month-to-month</td>\n",
       "      <td>Fiber optic</td>\n",
       "      <td>Electronic check</td>\n",
       "      <td>6.0</td>\n",
       "      <td>0</td>\n",
       "      <td>1</td>\n",
       "      <td>0</td>\n",
       "      <td>2</td>\n",
       "    </tr>\n",
       "    <tr>\n",
       "      <th>6080</th>\n",
       "      <td>1269-FOYWN</td>\n",
       "      <td>Male</td>\n",
       "      <td>0</td>\n",
       "      <td>Yes</td>\n",
       "      <td>Yes</td>\n",
       "      <td>44</td>\n",
       "      <td>Yes</td>\n",
       "      <td>No</td>\n",
       "      <td>No internet service</td>\n",
       "      <td>No internet service</td>\n",
       "      <td>...</td>\n",
       "      <td>860.85</td>\n",
       "      <td>No</td>\n",
       "      <td>One year</td>\n",
       "      <td>None</td>\n",
       "      <td>Bank transfer (automatic)</td>\n",
       "      <td>4.0</td>\n",
       "      <td>1</td>\n",
       "      <td>2</td>\n",
       "      <td>0</td>\n",
       "      <td>0</td>\n",
       "    </tr>\n",
       "    <tr>\n",
       "      <th>2513</th>\n",
       "      <td>0407-BDJKB</td>\n",
       "      <td>Male</td>\n",
       "      <td>0</td>\n",
       "      <td>Yes</td>\n",
       "      <td>No</td>\n",
       "      <td>60</td>\n",
       "      <td>Yes</td>\n",
       "      <td>Yes</td>\n",
       "      <td>No</td>\n",
       "      <td>Yes</td>\n",
       "      <td>...</td>\n",
       "      <td>5742.90</td>\n",
       "      <td>Yes</td>\n",
       "      <td>Month-to-month</td>\n",
       "      <td>Fiber optic</td>\n",
       "      <td>Electronic check</td>\n",
       "      <td>5.0</td>\n",
       "      <td>0</td>\n",
       "      <td>1</td>\n",
       "      <td>1</td>\n",
       "      <td>2</td>\n",
       "    </tr>\n",
       "  </tbody>\n",
       "</table>\n",
       "<p>4 rows × 26 columns</p>\n",
       "</div>"
      ],
      "text/plain": [
       "     customer_id gender  senior_citizen partner dependents  tenure  \\\n",
       "4672  2252-JHJGE   Male               0      No         No      61   \n",
       "4107  7821-DPRQE   Male               0     Yes         No      68   \n",
       "6080  1269-FOYWN   Male               0     Yes        Yes      44   \n",
       "2513  0407-BDJKB   Male               0     Yes         No      60   \n",
       "\n",
       "     phone_service multiple_lines      online_security        online_backup  \\\n",
       "4672           Yes            Yes                  Yes                   No   \n",
       "4107           Yes            Yes                  Yes                  Yes   \n",
       "6080           Yes             No  No internet service  No internet service   \n",
       "2513           Yes            Yes                   No                  Yes   \n",
       "\n",
       "      ... total_charges churn   contract_type internet_service_type  \\\n",
       "4672  ...       6363.45    No        One year           Fiber optic   \n",
       "4107  ...       7320.90    No  Month-to-month           Fiber optic   \n",
       "6080  ...        860.85    No        One year                  None   \n",
       "2513  ...       5742.90   Yes  Month-to-month           Fiber optic   \n",
       "\n",
       "                   payment_type  tenure_years  contract_type_encoded  \\\n",
       "4672           Electronic check           5.0                      1   \n",
       "4107           Electronic check           6.0                      0   \n",
       "6080  Bank transfer (automatic)           4.0                      1   \n",
       "2513           Electronic check           5.0                      0   \n",
       "\n",
       "     encoded_internet_service_type churn_encoded payment_type_encoded  \n",
       "4672                             1             0                    2  \n",
       "4107                             1             0                    2  \n",
       "6080                             2             0                    0  \n",
       "2513                             1             1                    2  \n",
       "\n",
       "[4 rows x 26 columns]"
      ]
     },
     "execution_count": 14,
     "metadata": {},
     "output_type": "execute_result"
    }
   ],
   "source": [
    "train.sample(4)"
   ]
  },
  {
   "cell_type": "markdown",
   "metadata": {},
   "source": [
    "# Exploratory Data Analysis (EDA)"
   ]
  },
  {
   "cell_type": "markdown",
   "metadata": {},
   "source": [
    "**Initial Hypothesis**: Customers who are month to month are most likely to churn\n",
    "\n",
    "1. Create some features that encompass the consumer portions of our data, this will help us figure out **WHO** is churning\n",
    "    - Gender\n",
    "    - Senior or Not\n",
    "    - Single household (dependents)\n",
    "2. Run a Chi-Squared statistical test to see if there is a correlation between the above and churning\n",
    "3. Take a look at all other components to look for the **DRIVERS** that are causing our customers to churn "
   ]
  },
  {
   "cell_type": "code",
   "execution_count": 19,
   "metadata": {},
   "outputs": [
    {
     "data": {
      "text/html": [
       "<div>\n",
       "<style scoped>\n",
       "    .dataframe tbody tr th:only-of-type {\n",
       "        vertical-align: middle;\n",
       "    }\n",
       "\n",
       "    .dataframe tbody tr th {\n",
       "        vertical-align: top;\n",
       "    }\n",
       "\n",
       "    .dataframe thead th {\n",
       "        text-align: right;\n",
       "    }\n",
       "</style>\n",
       "<table border=\"1\" class=\"dataframe\">\n",
       "  <thead>\n",
       "    <tr style=\"text-align: right;\">\n",
       "      <th></th>\n",
       "      <th>senior_citizen</th>\n",
       "      <th>tenure</th>\n",
       "      <th>monthly_charges</th>\n",
       "      <th>total_charges</th>\n",
       "      <th>tenure_years</th>\n",
       "      <th>contract_type_encoded</th>\n",
       "      <th>encoded_internet_service_type</th>\n",
       "      <th>churn_encoded</th>\n",
       "      <th>payment_type_encoded</th>\n",
       "    </tr>\n",
       "  </thead>\n",
       "  <tbody>\n",
       "    <tr>\n",
       "      <th>count</th>\n",
       "      <td>4507.000000</td>\n",
       "      <td>4507.000000</td>\n",
       "      <td>4507.000000</td>\n",
       "      <td>4507.000000</td>\n",
       "      <td>4507.000000</td>\n",
       "      <td>4507.000000</td>\n",
       "      <td>4507.000000</td>\n",
       "      <td>4507.000000</td>\n",
       "      <td>4507.000000</td>\n",
       "    </tr>\n",
       "    <tr>\n",
       "      <th>mean</th>\n",
       "      <td>0.165742</td>\n",
       "      <td>31.942978</td>\n",
       "      <td>64.791779</td>\n",
       "      <td>2256.158076</td>\n",
       "      <td>2.648325</td>\n",
       "      <td>0.686044</td>\n",
       "      <td>0.867318</td>\n",
       "      <td>0.266918</td>\n",
       "      <td>1.586421</td>\n",
       "    </tr>\n",
       "    <tr>\n",
       "      <th>std</th>\n",
       "      <td>0.371890</td>\n",
       "      <td>24.718649</td>\n",
       "      <td>29.886761</td>\n",
       "      <td>2263.086693</td>\n",
       "      <td>2.132100</td>\n",
       "      <td>0.833278</td>\n",
       "      <td>0.735363</td>\n",
       "      <td>0.442398</td>\n",
       "      <td>1.061271</td>\n",
       "    </tr>\n",
       "    <tr>\n",
       "      <th>min</th>\n",
       "      <td>0.000000</td>\n",
       "      <td>0.000000</td>\n",
       "      <td>18.250000</td>\n",
       "      <td>0.000000</td>\n",
       "      <td>0.000000</td>\n",
       "      <td>0.000000</td>\n",
       "      <td>0.000000</td>\n",
       "      <td>0.000000</td>\n",
       "      <td>0.000000</td>\n",
       "    </tr>\n",
       "    <tr>\n",
       "      <th>25%</th>\n",
       "      <td>0.000000</td>\n",
       "      <td>8.000000</td>\n",
       "      <td>35.900000</td>\n",
       "      <td>374.250000</td>\n",
       "      <td>1.000000</td>\n",
       "      <td>0.000000</td>\n",
       "      <td>0.000000</td>\n",
       "      <td>0.000000</td>\n",
       "      <td>1.000000</td>\n",
       "    </tr>\n",
       "    <tr>\n",
       "      <th>50%</th>\n",
       "      <td>0.000000</td>\n",
       "      <td>27.000000</td>\n",
       "      <td>70.300000</td>\n",
       "      <td>1387.450000</td>\n",
       "      <td>2.000000</td>\n",
       "      <td>0.000000</td>\n",
       "      <td>1.000000</td>\n",
       "      <td>0.000000</td>\n",
       "      <td>2.000000</td>\n",
       "    </tr>\n",
       "    <tr>\n",
       "      <th>75%</th>\n",
       "      <td>0.000000</td>\n",
       "      <td>55.000000</td>\n",
       "      <td>89.650000</td>\n",
       "      <td>3772.575000</td>\n",
       "      <td>5.000000</td>\n",
       "      <td>1.000000</td>\n",
       "      <td>1.000000</td>\n",
       "      <td>1.000000</td>\n",
       "      <td>2.000000</td>\n",
       "    </tr>\n",
       "    <tr>\n",
       "      <th>max</th>\n",
       "      <td>1.000000</td>\n",
       "      <td>72.000000</td>\n",
       "      <td>118.750000</td>\n",
       "      <td>8684.800000</td>\n",
       "      <td>6.000000</td>\n",
       "      <td>2.000000</td>\n",
       "      <td>2.000000</td>\n",
       "      <td>1.000000</td>\n",
       "      <td>3.000000</td>\n",
       "    </tr>\n",
       "  </tbody>\n",
       "</table>\n",
       "</div>"
      ],
      "text/plain": [
       "       senior_citizen       tenure  monthly_charges  total_charges  \\\n",
       "count     4507.000000  4507.000000      4507.000000    4507.000000   \n",
       "mean         0.165742    31.942978        64.791779    2256.158076   \n",
       "std          0.371890    24.718649        29.886761    2263.086693   \n",
       "min          0.000000     0.000000        18.250000       0.000000   \n",
       "25%          0.000000     8.000000        35.900000     374.250000   \n",
       "50%          0.000000    27.000000        70.300000    1387.450000   \n",
       "75%          0.000000    55.000000        89.650000    3772.575000   \n",
       "max          1.000000    72.000000       118.750000    8684.800000   \n",
       "\n",
       "       tenure_years  contract_type_encoded  encoded_internet_service_type  \\\n",
       "count   4507.000000            4507.000000                    4507.000000   \n",
       "mean       2.648325               0.686044                       0.867318   \n",
       "std        2.132100               0.833278                       0.735363   \n",
       "min        0.000000               0.000000                       0.000000   \n",
       "25%        1.000000               0.000000                       0.000000   \n",
       "50%        2.000000               0.000000                       1.000000   \n",
       "75%        5.000000               1.000000                       1.000000   \n",
       "max        6.000000               2.000000                       2.000000   \n",
       "\n",
       "       churn_encoded  payment_type_encoded  \n",
       "count    4507.000000           4507.000000  \n",
       "mean        0.266918              1.586421  \n",
       "std         0.442398              1.061271  \n",
       "min         0.000000              0.000000  \n",
       "25%         0.000000              1.000000  \n",
       "50%         0.000000              2.000000  \n",
       "75%         1.000000              2.000000  \n",
       "max         1.000000              3.000000  "
      ]
     },
     "execution_count": 19,
     "metadata": {},
     "output_type": "execute_result"
    }
   ],
   "source": [
    "#take a look at stats info for numerical data\n",
    "train.describe()"
   ]
  },
  {
   "cell_type": "code",
   "execution_count": 20,
   "metadata": {},
   "outputs": [
    {
     "data": {
      "image/png": "[encoded data removed]",
      "text/plain": [
       "<Figure size 936x720 with 2 Axes>"
      ]
     },
     "metadata": {
      "needs_background": "light"
     },
     "output_type": "display_data"
    }
   ],
   "source": [
    "#take a look at correlations of numerical data\n",
    "explore.corr_heatmap(train)"
   ]
  },
  {
   "cell_type": "markdown",
   "metadata": {},
   "source": [
    "### Takeaways\n",
    "- mean for tenure is roughly 2 and a half years\n",
    "- our max tenure is sitting at 6 years\n",
    "- contract type seems to be our best indicator of whether a customer will churn or not"
   ]
  },
  {
   "cell_type": "code",
   "execution_count": null,
   "metadata": {},
   "outputs": [],
   "source": []
  }
 ],
 "metadata": {
  "kernelspec": {
   "display_name": "Python 3",
   "language": "python",
   "name": "python3"
  },
  "language_info": {
   "codemirror_mode": {
    "name": "ipython",
    "version": 3
   },
   "file_extension": ".py",
   "mimetype": "text/x-python",
   "name": "python",
   "nbconvert_exporter": "python",
   "pygments_lexer": "ipython3",
   "version": "3.7.4"
  }
 },
 "nbformat": 4,
 "nbformat_minor": 4
}
