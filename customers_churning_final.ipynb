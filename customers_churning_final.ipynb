{
 "cells": [
  {
   "cell_type": "markdown",
   "metadata": {},
   "source": [
    "# Why Are Customers Churning?"
   ]
  },
  {
   "cell_type": "markdown",
   "metadata": {},
   "source": [
    "**Quick Reference**\n",
    "\n",
    "1. Project Plan\n",
    "3. Imports\n",
    "2. Acquire and Prep\n",
    "3. EDA\n",
    "4. Models\n",
    "5. Model Evaluation\n",
    "6. Conclusions"
   ]
  },
  {
   "cell_type": "markdown",
   "metadata": {},
   "source": [
    "# Project Plan"
   ]
  },
  {
   "cell_type": "markdown",
   "metadata": {},
   "source": [
    "**Summary**\n",
    "\n",
    "The Senior Leading Team wants to find out why our customers are churning.\n",
    "\n",
    "Below is a list of questions they would like answered:\n",
    "\n",
    "1. Are there clear groupings where a customer is more likely to churn? What if you consider contract type? Is there a tenure that month-to-month customers are most likely to churn? 1-year contract customers? 2-year customers? Do you have any thoughts on what could be going on? (Be sure to state these thoughts not as facts but as untested hypotheses. Unless you test them!). Plot the rate of churn on a line chart where x is the tenure and y is the rate of churn (customers churned/total customers).\n",
    "2. Are there features that indicate a higher propensity to churn? like type of Internet service, type of phone service, online security and backup, senior citizens, paying more than x% of customers with the same services, etc.?\n",
    "3. Is there a price threshold for specific services where the likelihood of churn increases once price for those services goes past that point? If so, what is that point for what service(s)?\n",
    "4. If we looked at churn rate for month-to-month customers after the 12th month and that of 1-year contract customers after the 12th month, are those rates comparable?\n",
    "\n",
    "**Goals**\n",
    "\n",
    "The goals of this project are to answer the above questions and to deliver our findings in the following formats:\n",
    "\n",
    "1. Report with detailed analysis in .ipynb format\n",
    "2. CSV file containing customer_id, probability of churn, and the prediction of churn (1=churn, 0=not_churn)\n",
    "3. Google Slides explaining model chosen and brief analysis for SLT\n",
    "4. All files necessary to recreate our findings and models\n",
    "5. Readme file\n",
    "6. GitHub repo containing all files"
   ]
  },
  {
   "cell_type": "markdown",
   "metadata": {},
   "source": [
    "# Imports\n",
    "\n",
    "Below are all the necessary libraries to reproduce this project"
   ]
  },
  {
   "cell_type": "code",
   "execution_count": 1,
   "metadata": {},
   "outputs": [],
   "source": [
    "import pandas as pd\n",
    "import numpy as np\n",
    "from scipy import stats\n",
    "\n",
    "import matplotlib.pyplot as plt\n",
    "import seaborn as sns\n",
    "from sklearn.preprocessing import LabelEncoder\n",
    "\n",
    "from sklearn.model_selection import train_test_split\n",
    "\n",
    "import acquire\n",
    "import prepare\n",
    "import encode\n",
    "import explore\n",
    "import features"
   ]
  },
  {
   "cell_type": "markdown",
   "metadata": {},
   "source": [
    "# Acquire\n",
    "\n",
    "- SQL Query that brought in all columns from the customers table off of the telco_churn database and joined on both internet_service_types and payment_types\n",
    "- read the SQL query using pandas and converting into a pandas data-frame."
   ]
  },
  {
   "cell_type": "code",
   "execution_count": 2,
   "metadata": {},
   "outputs": [
    {
     "name": "stdout",
     "output_type": "stream",
     "text": [
      "<class 'pandas.core.frame.DataFrame'>\n",
      "RangeIndex: 7043 entries, 0 to 7042\n",
      "Data columns (total 24 columns):\n",
      "payment_type_id             7043 non-null int64\n",
      "internet_service_type_id    7043 non-null int64\n",
      "contract_type_id            7043 non-null int64\n",
      "customer_id                 7043 non-null object\n",
      "gender                      7043 non-null object\n",
      "senior_citizen              7043 non-null int64\n",
      "partner                     7043 non-null object\n",
      "dependents                  7043 non-null object\n",
      "tenure                      7043 non-null int64\n",
      "phone_service               7043 non-null object\n",
      "multiple_lines              7043 non-null object\n",
      "online_security             7043 non-null object\n",
      "online_backup               7043 non-null object\n",
      "device_protection           7043 non-null object\n",
      "tech_support                7043 non-null object\n",
      "streaming_tv                7043 non-null object\n",
      "streaming_movies            7043 non-null object\n",
      "paperless_billing           7043 non-null object\n",
      "monthly_charges             7043 non-null float64\n",
      "total_charges               7043 non-null object\n",
      "churn                       7043 non-null object\n",
      "contract_type               7043 non-null object\n",
      "internet_service_type       7043 non-null object\n",
      "payment_type                7043 non-null object\n",
      "dtypes: float64(1), int64(5), object(18)\n",
      "memory usage: 1.3+ MB\n"
     ]
    }
   ],
   "source": [
    "#bring in the data\n",
    "telco = acquire.get_telco_data()\n",
    "\n",
    "#Take a quick peek at Telco and look columns to see if we have any nulls and look at dtypes\n",
    "telco.info()"
   ]
  },
  {
   "cell_type": "markdown",
   "metadata": {},
   "source": [
    "# Prepare\n",
    "\n",
    "- Surprisingly, it looks like we don't have any nulls within the data\n",
    "- We can patch out the type id's, since they were only useful for merging\n",
    "    - We could've also done this in SQL, but I prefer getting to python as soon as possible\n",
    "\n",
    "Fields to look at:\n",
    "* gender: Currently an object, likely needs to be encoded\n",
    "* senior_citizen: It's an int type, does that mean it's encoded already?\n",
    "* partner: Currently an object, either it's a bool or should be an int identifying how many\n",
    "* dependents: Currently an object, either it's a bool or should be an int identifying how many dependents\n",
    "* phone_service - paperless_billing: Needs to be encoded\n",
    "* total_charges: Definitely should not be an object, likely needs to be a float\n",
    "* churn: needs to be encoded\n",
    "\n",
    "\n",
    "The prepapre.py file will handle all of the following:\n",
    "\n",
    "   * split data into train/test/validate splits using .8 as our training split in both splits and 123 as the random seed\n",
    "   * Handle Missing Values\n",
    "   * Handle erroneous data\n",
    "   * encode variables as needed\n",
    "   * new feature that represents tenure in years\n",
    "   * create single variable representing the information from phone_service and multiple_lines\n",
    "   * do the same using dependents and partner\n"
   ]
  },
  {
   "cell_type": "code",
   "execution_count": 3,
   "metadata": {},
   "outputs": [],
   "source": [
    "train, test, validate = prepare.prep_telco(telco, train_size=.8, seed=123)"
   ]
  },
  {
   "cell_type": "code",
   "execution_count": 4,
   "metadata": {},
   "outputs": [],
   "source": [
    "#encode some fields before EDA\n",
    "train, test, validate = encode.encoded_df(train, test, validate)"
   ]
  },
  {
   "cell_type": "code",
   "execution_count": 5,
   "metadata": {},
   "outputs": [
    {
     "name": "stdout",
     "output_type": "stream",
     "text": [
      "(4507, 31) (1409, 31) (1127, 31)\n"
     ]
    }
   ],
   "source": [
    "#Ensure shape off all splits look ok\n",
    "print(train.shape, test.shape, validate.shape)"
   ]
  },
  {
   "cell_type": "code",
   "execution_count": 6,
   "metadata": {},
   "outputs": [
    {
     "name": "stdout",
     "output_type": "stream",
     "text": [
      "<class 'pandas.core.frame.DataFrame'>\n",
      "Int64Index: 4507 entries, 1249 to 6958\n",
      "Data columns (total 31 columns):\n",
      "customer_id                      4507 non-null object\n",
      "gender                           4507 non-null object\n",
      "senior_citizen                   4507 non-null int64\n",
      "partner                          4507 non-null object\n",
      "dependents                       4507 non-null object\n",
      "tenure                           4507 non-null int64\n",
      "phone_service                    4507 non-null int64\n",
      "multiple_lines                   4507 non-null int64\n",
      "online_security                  4507 non-null object\n",
      "online_backup                    4507 non-null object\n",
      "device_protection                4507 non-null object\n",
      "tech_support                     4507 non-null object\n",
      "streaming_tv                     4507 non-null object\n",
      "streaming_movies                 4507 non-null object\n",
      "paperless_billing                4507 non-null object\n",
      "monthly_charges                  4507 non-null float64\n",
      "total_charges                    4507 non-null float64\n",
      "churn                            4507 non-null object\n",
      "contract_type                    4507 non-null object\n",
      "internet_service_type            4507 non-null object\n",
      "payment_type                     4507 non-null object\n",
      "tenure_years                     4507 non-null float64\n",
      "phone_lines                      4507 non-null int64\n",
      "contract_type_encoded            4507 non-null int64\n",
      "encoded_internet_service_type    4507 non-null int64\n",
      "churn_encoded                    4507 non-null int64\n",
      "payment_type_encoded             4507 non-null int64\n",
      "online_security_encoded          4507 non-null int64\n",
      "tech_support_encoded             4507 non-null int64\n",
      "device_protection_encoded        4507 non-null int64\n",
      "online_backup_encoded            4507 non-null int64\n",
      "dtypes: float64(3), int64(13), object(15)\n",
      "memory usage: 1.3+ MB\n"
     ]
    }
   ],
   "source": [
    "train.info()"
   ]
  },
  {
   "cell_type": "code",
   "execution_count": 7,
   "metadata": {},
   "outputs": [
    {
     "data": {
      "text/html": [
       "<div>\n",
       "<style scoped>\n",
       "    .dataframe tbody tr th:only-of-type {\n",
       "        vertical-align: middle;\n",
       "    }\n",
       "\n",
       "    .dataframe tbody tr th {\n",
       "        vertical-align: top;\n",
       "    }\n",
       "\n",
       "    .dataframe thead th {\n",
       "        text-align: right;\n",
       "    }\n",
       "</style>\n",
       "<table border=\"1\" class=\"dataframe\">\n",
       "  <thead>\n",
       "    <tr style=\"text-align: right;\">\n",
       "      <th></th>\n",
       "      <th>customer_id</th>\n",
       "      <th>gender</th>\n",
       "      <th>senior_citizen</th>\n",
       "      <th>partner</th>\n",
       "      <th>dependents</th>\n",
       "      <th>tenure</th>\n",
       "      <th>phone_service</th>\n",
       "      <th>multiple_lines</th>\n",
       "      <th>online_security</th>\n",
       "      <th>online_backup</th>\n",
       "      <th>...</th>\n",
       "      <th>tenure_years</th>\n",
       "      <th>phone_lines</th>\n",
       "      <th>contract_type_encoded</th>\n",
       "      <th>encoded_internet_service_type</th>\n",
       "      <th>churn_encoded</th>\n",
       "      <th>payment_type_encoded</th>\n",
       "      <th>online_security_encoded</th>\n",
       "      <th>tech_support_encoded</th>\n",
       "      <th>device_protection_encoded</th>\n",
       "      <th>online_backup_encoded</th>\n",
       "    </tr>\n",
       "  </thead>\n",
       "  <tbody>\n",
       "    <tr>\n",
       "      <th>1297</th>\n",
       "      <td>1264-FUHCX</td>\n",
       "      <td>Female</td>\n",
       "      <td>0</td>\n",
       "      <td>Yes</td>\n",
       "      <td>No</td>\n",
       "      <td>49</td>\n",
       "      <td>0</td>\n",
       "      <td>0</td>\n",
       "      <td>No</td>\n",
       "      <td>Yes</td>\n",
       "      <td>...</td>\n",
       "      <td>4.1</td>\n",
       "      <td>0</td>\n",
       "      <td>1</td>\n",
       "      <td>0</td>\n",
       "      <td>0</td>\n",
       "      <td>1</td>\n",
       "      <td>0</td>\n",
       "      <td>2</td>\n",
       "      <td>0</td>\n",
       "      <td>2</td>\n",
       "    </tr>\n",
       "    <tr>\n",
       "      <th>3174</th>\n",
       "      <td>3481-JHUZH</td>\n",
       "      <td>Male</td>\n",
       "      <td>0</td>\n",
       "      <td>Yes</td>\n",
       "      <td>No</td>\n",
       "      <td>41</td>\n",
       "      <td>1</td>\n",
       "      <td>1</td>\n",
       "      <td>No</td>\n",
       "      <td>Yes</td>\n",
       "      <td>...</td>\n",
       "      <td>3.4</td>\n",
       "      <td>2</td>\n",
       "      <td>0</td>\n",
       "      <td>1</td>\n",
       "      <td>0</td>\n",
       "      <td>2</td>\n",
       "      <td>0</td>\n",
       "      <td>0</td>\n",
       "      <td>0</td>\n",
       "      <td>2</td>\n",
       "    </tr>\n",
       "    <tr>\n",
       "      <th>118</th>\n",
       "      <td>1101-SSWAG</td>\n",
       "      <td>Female</td>\n",
       "      <td>0</td>\n",
       "      <td>Yes</td>\n",
       "      <td>No</td>\n",
       "      <td>15</td>\n",
       "      <td>1</td>\n",
       "      <td>1</td>\n",
       "      <td>No</td>\n",
       "      <td>No</td>\n",
       "      <td>...</td>\n",
       "      <td>1.2</td>\n",
       "      <td>2</td>\n",
       "      <td>0</td>\n",
       "      <td>0</td>\n",
       "      <td>0</td>\n",
       "      <td>2</td>\n",
       "      <td>0</td>\n",
       "      <td>0</td>\n",
       "      <td>0</td>\n",
       "      <td>0</td>\n",
       "    </tr>\n",
       "    <tr>\n",
       "      <th>1711</th>\n",
       "      <td>8597-CTXVJ</td>\n",
       "      <td>Male</td>\n",
       "      <td>0</td>\n",
       "      <td>No</td>\n",
       "      <td>Yes</td>\n",
       "      <td>70</td>\n",
       "      <td>1</td>\n",
       "      <td>1</td>\n",
       "      <td>Yes</td>\n",
       "      <td>Yes</td>\n",
       "      <td>...</td>\n",
       "      <td>5.8</td>\n",
       "      <td>2</td>\n",
       "      <td>1</td>\n",
       "      <td>0</td>\n",
       "      <td>0</td>\n",
       "      <td>0</td>\n",
       "      <td>2</td>\n",
       "      <td>2</td>\n",
       "      <td>0</td>\n",
       "      <td>2</td>\n",
       "    </tr>\n",
       "  </tbody>\n",
       "</table>\n",
       "<p>4 rows × 31 columns</p>\n",
       "</div>"
      ],
      "text/plain": [
       "     customer_id  gender  senior_citizen partner dependents  tenure  \\\n",
       "1297  1264-FUHCX  Female               0     Yes         No      49   \n",
       "3174  3481-JHUZH    Male               0     Yes         No      41   \n",
       "118   1101-SSWAG  Female               0     Yes         No      15   \n",
       "1711  8597-CTXVJ    Male               0      No        Yes      70   \n",
       "\n",
       "      phone_service  multiple_lines online_security online_backup  ...  \\\n",
       "1297              0               0              No           Yes  ...   \n",
       "3174              1               1              No           Yes  ...   \n",
       "118               1               1              No            No  ...   \n",
       "1711              1               1             Yes           Yes  ...   \n",
       "\n",
       "     tenure_years phone_lines contract_type_encoded  \\\n",
       "1297          4.1           0                     1   \n",
       "3174          3.4           2                     0   \n",
       "118           1.2           2                     0   \n",
       "1711          5.8           2                     1   \n",
       "\n",
       "     encoded_internet_service_type churn_encoded  payment_type_encoded  \\\n",
       "1297                             0             0                     1   \n",
       "3174                             1             0                     2   \n",
       "118                              0             0                     2   \n",
       "1711                             0             0                     0   \n",
       "\n",
       "      online_security_encoded tech_support_encoded device_protection_encoded  \\\n",
       "1297                        0                    2                         0   \n",
       "3174                        0                    0                         0   \n",
       "118                         0                    0                         0   \n",
       "1711                        2                    2                         0   \n",
       "\n",
       "     online_backup_encoded  \n",
       "1297                     2  \n",
       "3174                     2  \n",
       "118                      0  \n",
       "1711                     2  \n",
       "\n",
       "[4 rows x 31 columns]"
      ]
     },
     "execution_count": 7,
     "metadata": {},
     "output_type": "execute_result"
    }
   ],
   "source": [
    "train.sample(4)"
   ]
  },
  {
   "cell_type": "markdown",
   "metadata": {},
   "source": [
    "# Exploratory Data Analysis (EDA)"
   ]
  },
  {
   "cell_type": "markdown",
   "metadata": {},
   "source": [
    "**Initial Hypothesis**: Customers who are month to month are most likely to churn\n",
    "\n",
    "1. Look at the features that describe the consumer portions of our data, this will help us figure out **WHO** is churning\n",
    "    - Gender\n",
    "    - Senior or Not\n",
    "    - Single household (dependents)\n",
    "2. Run a Chi-Squared statistical test to see if there is a correlation between the above and churning\n",
    "3. Take a look at all other components to look for the **DRIVERS** that are causing our customers to churn "
   ]
  },
  {
   "cell_type": "markdown",
   "metadata": {},
   "source": [
    "## $Chi^2$ Testing\n",
    "\n",
    "The $Chi^2$ is going to help us determine who is more likely to churn\n",
    "\n",
    "Our $\\alpha\\$ for each Chi Test will be set at 99% confidence"
   ]
  },
  {
   "cell_type": "code",
   "execution_count": null,
   "metadata": {},
   "outputs": [],
   "source": [
    "alpha = .01"
   ]
  },
  {
   "cell_type": "markdown",
   "metadata": {},
   "source": [
    "**Senior citizen VS churning**\n",
    "\n",
    "$H_0$ - Being a senior citizen is independent of churning"
   ]
  },
  {
   "cell_type": "code",
   "execution_count": null,
   "metadata": {},
   "outputs": [],
   "source": [
    "#1 is senior citzen, 0 is not senior citizen\n",
    "is_senior_citizen_ctab = pd.crosstab(train.senior_citizen, train.churn)\n",
    "is_senior_citizen_ctab"
   ]
  },
  {
   "cell_type": "code",
   "execution_count": null,
   "metadata": {},
   "outputs": [],
   "source": [
    "chi2, p_senior, degf, expected_senior = stats.chi2_contingency(is_senior_citizen_ctab)\n",
    "print(expected_senior)\n",
    "print(f\"p-val: {p_senior}\")"
   ]
  },
  {
   "cell_type": "code",
   "execution_count": null,
   "metadata": {},
   "outputs": [],
   "source": [
    "if p_senior < alpha:\n",
    "    print(\"We reject the H_0: Being a senior citizen is independent of churning\")\n",
    "else:\n",
    "    print(\"We fail to reject H_0\")"
   ]
  },
  {
   "cell_type": "code",
   "execution_count": null,
   "metadata": {},
   "outputs": [],
   "source": [
    "is_senior_citizen_ctab = pd.crosstab(train.senior_citizen, train.churn, normalize=True)\n",
    "is_senior_citizen_ctab"
   ]
  },
  {
   "cell_type": "markdown",
   "metadata": {},
   "source": [
    "**Takeaways**\n",
    "- Our p value is less than $\\alpha\\$ which signifies there is a statistical significance\n",
    "- There's roughly a 65% increase in the number of seniors who churned from expected to observed"
   ]
  },
  {
   "cell_type": "markdown",
   "metadata": {},
   "source": [
    "**Gender VS churning**\n",
    "\n",
    "$H_0$ - Gender is independent of churning"
   ]
  },
  {
   "cell_type": "code",
   "execution_count": null,
   "metadata": {},
   "outputs": [],
   "source": [
    "male_and_female_ctab = pd.crosstab(train.gender, train.churn)\n",
    "male_and_female_ctab"
   ]
  },
  {
   "cell_type": "code",
   "execution_count": null,
   "metadata": {},
   "outputs": [],
   "source": [
    "chi2, p_gender, degf, expected_gender = stats.chi2_contingency(is_senior_citizen_ctab)\n",
    "print(expected_gender)\n",
    "print(f\"p-val: {p_gender}\")"
   ]
  },
  {
   "cell_type": "code",
   "execution_count": null,
   "metadata": {},
   "outputs": [],
   "source": [
    "if p_senior < alpha:\n",
    "    print(\"We reject the H_0: Gender is independent of churning\")\n",
    "else:\n",
    "    print(\"We fail to reject H_0\")"
   ]
  },
  {
   "cell_type": "code",
   "execution_count": null,
   "metadata": {},
   "outputs": [],
   "source": [
    "male_and_female_ctab = pd.crosstab(train.gender, train.churn, normalize = True)\n",
    "male_and_female_ctab"
   ]
  },
  {
   "cell_type": "markdown",
   "metadata": {},
   "source": [
    "**Takeaways**\n",
    "- While our P value is less than our $\\alpha\\$ the distribution within this section is not significant enough to explore further."
   ]
  },
  {
   "cell_type": "markdown",
   "metadata": {},
   "source": [
    "**Has Dependents VS churning**\n",
    "\n",
    "$H_0$ - Having dependents is independent of churning"
   ]
  },
  {
   "cell_type": "code",
   "execution_count": null,
   "metadata": {},
   "outputs": [],
   "source": [
    "dependents_ctab = pd.crosstab(train.dependents, train.churn)\n",
    "dependents_ctab"
   ]
  },
  {
   "cell_type": "code",
   "execution_count": null,
   "metadata": {},
   "outputs": [],
   "source": [
    "chi2, p_dependents, degf, expected_dependents = stats.chi2_contingency(dependents_ctab)\n",
    "print(expected_dependents)\n",
    "print(f\"p-val: {p_dependents}\")"
   ]
  },
  {
   "cell_type": "code",
   "execution_count": null,
   "metadata": {},
   "outputs": [],
   "source": [
    "if p_senior < alpha:\n",
    "    print(\"We reject the H_0: Having dependents is independent of churning\")\n",
    "else:\n",
    "    print(\"We fail to reject H_0\")"
   ]
  },
  {
   "cell_type": "code",
   "execution_count": null,
   "metadata": {},
   "outputs": [],
   "source": [
    "dependents_ctab = pd.crosstab(train.dependents, train.churn, normalize=True)\n",
    "dependents_ctab "
   ]
  },
  {
   "cell_type": "markdown",
   "metadata": {},
   "source": [
    "**Answers to our who is churning**\n",
    "- While having dependents does not seem as significant as being a senior citizen it would be interesting to explore this further\n",
    "- Senior citizens are very likely to churn"
   ]
  },
  {
   "cell_type": "markdown",
   "metadata": {},
   "source": [
    "**Looking at Senior Citizens VS Others**\n",
    "\n",
    "This analysis will help us get a better insight of what might be causing our senior citizens to churn"
   ]
  },
  {
   "cell_type": "code",
   "execution_count": null,
   "metadata": {},
   "outputs": [],
   "source": [
    "train.groupby([\"senior_citizen\"])[[\"churn_encoded\",\"monthly_charges\",\"tenure\",\"total_charges\"]].mean()"
   ]
  },
  {
   "cell_type": "markdown",
   "metadata": {},
   "source": [
    "**Takeaways**:\n",
    "\n",
    "Senior Citizens make up approximately 17% percent of our customer base and of those approximately 41% are churning. They also have higher mean on monthly charges compared to non-seniors (roughly $17 more)\n",
    "\n",
    "They are not our target market but we may want to consider offering some incentives to keep them from churning like a discount on monthly charges based on their tenure"
   ]
  },
  {
   "cell_type": "code",
   "execution_count": null,
   "metadata": {},
   "outputs": [],
   "source": [
    "#take a look at correlations\n",
    "explore.corr_heatmap(train)"
   ]
  },
  {
   "cell_type": "markdown",
   "metadata": {},
   "source": [
    "**Takeaways**\n",
    "- mean for tenure is roughly 2 and a half years\n",
    "- our max tenure is sitting at 6 years\n",
    "- contract type seems to be our best indicator of whether a customer will churn or not"
   ]
  },
  {
   "cell_type": "markdown",
   "metadata": {},
   "source": [
    "## Tenure vs Rate of Churn"
   ]
  },
  {
   "cell_type": "markdown",
   "metadata": {},
   "source": [
    "Here we are plotting the rate of churn on a line chart where x is the tenure and y is the rate of churn (customers churned/total customers).\n",
    "\n",
    "What is our churn rate?"
   ]
  },
  {
   "cell_type": "code",
   "execution_count": null,
   "metadata": {},
   "outputs": [],
   "source": [
    "churn = (train.churn == \"Yes\").sum()\n",
    "not_churn = (train.churn == \"No\").sum()\n",
    "all_customers = len(train)\n",
    "churn_rate = ((churn/all_customers) * 100).round(2)\n",
    "\n",
    "print(f\"Our current churn rate is approximately {churn_rate}%\")"
   ]
  },
  {
   "cell_type": "code",
   "execution_count": null,
   "metadata": {},
   "outputs": [],
   "source": [
    "#function to plot rate of churn and tenure in months\n",
    "ax = explore.lineplot_rate_of_churn_to_tenure_months(train)"
   ]
  },
  {
   "cell_type": "code",
   "execution_count": null,
   "metadata": {},
   "outputs": [],
   "source": [
    "train.tenure.value_counts(ascending=False)"
   ]
  },
  {
   "cell_type": "code",
   "execution_count": null,
   "metadata": {},
   "outputs": [],
   "source": [
    "#function to plot rate of churn and tenure in years\n",
    "explore.lineplot_rate_of_churn_to_tenure_years(train)"
   ]
  },
  {
   "cell_type": "code",
   "execution_count": null,
   "metadata": {},
   "outputs": [],
   "source": [
    "train.tenure_years.value_counts(ascending=False)"
   ]
  },
  {
   "cell_type": "markdown",
   "metadata": {},
   "source": [
    "**Takeaways for tenure vs rate of churn:**\n",
    "\n",
    "We see most customers are churning at lower tenures with a spike right around 49 months. Overall there is a downward trend as tenure increases. However this may also be because most of our customers tenures are below 1 year"
   ]
  },
  {
   "cell_type": "markdown",
   "metadata": {},
   "source": [
    "**Categorical exploration to find the DRIVERS**\n",
    "\n",
    "Here we are looking to see if we can find the driving forces behind what is causing customers to churn"
   ]
  },
  {
   "cell_type": "code",
   "execution_count": null,
   "metadata": {},
   "outputs": [],
   "source": [
    "ctab = pd.crosstab(train.churn, train.contract_type)\n",
    "ctab"
   ]
  },
  {
   "cell_type": "markdown",
   "metadata": {},
   "source": [
    "Below is a visualization of Churn Rates within each Contract Type"
   ]
  },
  {
   "cell_type": "code",
   "execution_count": null,
   "metadata": {},
   "outputs": [],
   "source": [
    "explore.stacked_barplot_for_churn_rates_by_contract(train)"
   ]
  },
  {
   "cell_type": "code",
   "execution_count": null,
   "metadata": {},
   "outputs": [],
   "source": [
    "explore.isolated_tenure_distros(train)"
   ]
  },
  {
   "cell_type": "code",
   "execution_count": null,
   "metadata": {},
   "outputs": [],
   "source": [
    "explore.tenure_distros_overlayed(train)"
   ]
  },
  {
   "cell_type": "markdown",
   "metadata": {},
   "source": [
    "**Quick Takeaway**\n",
    "\n",
    "- Far more customers who are on month to month contracts and they also have the highest churn rate which is sitting at approximately 43%, this is much higher than one year(approx. 12%) and two year(approx. 3%)\n",
    "- Month to Month contracts are right skewed, Two Year Contracts are left skewed and one year contracts by comparison are normally distributed"
   ]
  },
  {
   "cell_type": "markdown",
   "metadata": {},
   "source": [
    "**New Question:**\n",
    "\n",
    "Why are customers choosing the Month to Month option? Are monthly rates lower?"
   ]
  },
  {
   "cell_type": "markdown",
   "metadata": {},
   "source": [
    "**Explore monthly charges**"
   ]
  },
  {
   "cell_type": "code",
   "execution_count": null,
   "metadata": {},
   "outputs": [],
   "source": [
    "df = explore.stats_for_contract_types(train)\n",
    "df"
   ]
  },
  {
   "cell_type": "code",
   "execution_count": null,
   "metadata": {},
   "outputs": [],
   "source": [
    "explore.monthly_charges_distros(train)"
   ]
  },
  {
   "cell_type": "markdown",
   "metadata": {},
   "source": [
    "**Takeaways:**\n",
    "- Customers with 2 year contracts are least likely to churn and month-to-month contracts most likely to churn.\n",
    "- We should consider running some sort of incentive to convert monthly customers that we feel are potential customers to churn.\n",
    "- Surprisingly there is not a clear difference between monthly charges and contract types"
   ]
  },
  {
   "cell_type": "markdown",
   "metadata": {},
   "source": [
    "## Churn Rates at 12 months\n",
    "Here we will compare each contract type at the 12 month marker"
   ]
  },
  {
   "cell_type": "code",
   "execution_count": null,
   "metadata": {},
   "outputs": [],
   "source": [
    "df_tenure_at_one_year = train[train.tenure == 12]\n",
    "explore.plot_categorical_with_churn_rates(df_tenure_at_one_year, \"contract_type\")"
   ]
  },
  {
   "cell_type": "code",
   "execution_count": null,
   "metadata": {},
   "outputs": [],
   "source": [
    "explore.churn_percentages_at_12_months(train)"
   ]
  },
  {
   "cell_type": "markdown",
   "metadata": {},
   "source": [
    "**Question:**\n",
    "\n",
    "If we looked at churn rate for month-to-month customers after the 12th month and that of 1-year contract customers after the 12th month, are those rates comparable?\n",
    "\n",
    "**Answer:**\n",
    "\n",
    "- Overall customers on the month to month contract have a slightly higher churn rate. \n",
    "- The difference between the monthly contract and one year contracts is roughly 8%. \n",
    "- When we look into the churn rates within each subgroup we see:\n",
    "    - roughly 45% of month-to-month customers are churning\n",
    "    - roughly 25% of one-year contract are churning."
   ]
  },
  {
   "cell_type": "markdown",
   "metadata": {},
   "source": [
    "## Groupings VS Churn Rate"
   ]
  },
  {
   "cell_type": "markdown",
   "metadata": {},
   "source": [
    "Here we will:\n",
    "- explore all other factors that were not tested in our $Chi^2$ tests \n",
    "- make visualizations to help absorb our information\n",
    "- Answer the question of what the drivers are behind churning "
   ]
  },
  {
   "cell_type": "markdown",
   "metadata": {},
   "source": [
    "**Correlations and quick stats**"
   ]
  },
  {
   "cell_type": "code",
   "execution_count": null,
   "metadata": {},
   "outputs": [],
   "source": [
    "#take a quick look at stats to see if anything jumps at us\n",
    "train.describe()"
   ]
  },
  {
   "cell_type": "code",
   "execution_count": null,
   "metadata": {},
   "outputs": [],
   "source": [
    "explore.plot_all_categoricals_with_churn_rates(train)"
   ]
  },
  {
   "cell_type": "markdown",
   "metadata": {},
   "source": [
    "**Question Asked**:\n",
    "\n",
    "Are there clear groupings where a customer is more likely to churn? What if you consider contract type? Is there a tenure that month-to-month customers are most likely to churn? 1-year contract customers? 2-year customers? Do you have any thoughts on what could be going on?"
   ]
  },
  {
   "cell_type": "markdown",
   "metadata": {},
   "source": [
    "**Answers**:\n",
    "\n",
    "Untested Findings:\n",
    "- As predicted Month to Month customers seem to be more likely to churn\n",
    "- Customers not receiving online security seem to be churning at a higher rate\n",
    "- Customers not receiving device protection seem to be churning at a higher rate\n",
    "- Customers not receiving online backup seem to be churning at a higher rate\n",
    "- Customers who do not receive tech support seem to be churning at a higher rate\n",
    "- Customers who receive paper bills seem to be more likely to churn\n",
    "- Customers with Fiber Optics seem to be more likely to churn - this is surprising since this is considered a premium service.\n",
    "- Customers who pay via electronic check seem to be more likely to churn\n",
    "\n",
    "Tested Findings from our $Chi^2$\n",
    "- Senior citizens are highly likely to churn\n",
    "- Gender does not play a significant role in whether or not a customer will churn\n",
    "- Customers with dependents are less likely to churn\n",
    "    "
   ]
  },
  {
   "cell_type": "markdown",
   "metadata": {},
   "source": [
    "## Price Thresholds"
   ]
  },
  {
   "cell_type": "code",
   "execution_count": null,
   "metadata": {},
   "outputs": [],
   "source": [
    "explore.price_threshold_internet_services(train)"
   ]
  },
  {
   "cell_type": "code",
   "execution_count": null,
   "metadata": {},
   "outputs": [],
   "source": [
    "explore.price_threshold_phone_service(train)"
   ]
  },
  {
   "cell_type": "markdown",
   "metadata": {},
   "source": [
    "**Question Asked:**\n",
    "\n",
    "Is there a price threshold for specific services where the likelihood of churn increases once price for those services goes past that point? If so, what is that point for what service(s)?\n",
    "\n",
    "**Answer**\n",
    "\n",
    "- At around \\$50 customers with a phone line seem more likely to churn\n",
    "- At around $80 customers with Fiber Optic Internet service seem more likely to churn"
   ]
  },
  {
   "cell_type": "code",
   "execution_count": null,
   "metadata": {},
   "outputs": [],
   "source": []
  }
 ],
 "metadata": {
  "kernelspec": {
   "display_name": "Python 3",
   "language": "python",
   "name": "python3"
  },
  "language_info": {
   "codemirror_mode": {
    "name": "ipython",
    "version": 3
   },
   "file_extension": ".py",
   "mimetype": "text/x-python",
   "name": "python",
   "nbconvert_exporter": "python",
   "pygments_lexer": "ipython3",
   "version": "3.7.4"
  },
  "toc-autonumbering": true
 },
 "nbformat": 4,
 "nbformat_minor": 4
}
